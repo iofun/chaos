{
 "cells": [
  {
   "cell_type": "code",
   "execution_count": 1,
   "metadata": {},
   "outputs": [],
   "source": [
    "import arrow"
   ]
  },
  {
   "cell_type": "code",
   "execution_count": 2,
   "metadata": {},
   "outputs": [],
   "source": [
    "import uuid"
   ]
  },
  {
   "cell_type": "code",
   "execution_count": 3,
   "metadata": {},
   "outputs": [],
   "source": [
    "import itertools"
   ]
  },
  {
   "cell_type": "code",
   "execution_count": 4,
   "metadata": {},
   "outputs": [],
   "source": [
    "import os"
   ]
  },
  {
   "cell_type": "code",
   "execution_count": 5,
   "metadata": {},
   "outputs": [],
   "source": [
    "import shutil"
   ]
  },
  {
   "cell_type": "code",
   "execution_count": 6,
   "metadata": {},
   "outputs": [],
   "source": [
    "system_uuid = uuid.uuid4()"
   ]
  },
  {
   "cell_type": "code",
   "execution_count": 7,
   "metadata": {},
   "outputs": [],
   "source": [
    "maps = []"
   ]
  },
  {
   "cell_type": "code",
   "execution_count": 8,
   "metadata": {},
   "outputs": [],
   "source": [
    "torchup_map = 'maps/TorchUp/'"
   ]
  },
  {
   "cell_type": "code",
   "execution_count": 9,
   "metadata": {},
   "outputs": [],
   "source": [
    "maps.append('\\\\(4\\\\)CircuitBreaker.scx')"
   ]
  },
  {
   "cell_type": "code",
   "execution_count": 10,
   "metadata": {},
   "outputs": [],
   "source": [
    "maps.append('\\\\(3\\\\)Aztec2.1.scx')"
   ]
  },
  {
   "cell_type": "code",
   "execution_count": 11,
   "metadata": {},
   "outputs": [],
   "source": [
    "maps.append('\\\\(2\\\\)BlueStorm1.2.scx')"
   ]
  },
  {
   "cell_type": "code",
   "execution_count": 12,
   "metadata": {},
   "outputs": [],
   "source": [
    "maps.append('\\\\(4\\\\)Gladiator1.1.scx')"
   ]
  },
  {
   "cell_type": "code",
   "execution_count": 13,
   "metadata": {},
   "outputs": [],
   "source": [
    "maps.append('\\\\(3\\\\)GoldRush.scx')"
   ]
  },
  {
   "cell_type": "code",
   "execution_count": 14,
   "metadata": {},
   "outputs": [],
   "source": [
    "maps.append('\\\\(2\\\\)HeartbreakRidge.scx')"
   ]
  },
  {
   "cell_type": "code",
   "execution_count": 15,
   "metadata": {},
   "outputs": [],
   "source": [
    "maps.append('\\\\(4\\\\)FightingSpirit.scx')"
   ]
  },
  {
   "cell_type": "code",
   "execution_count": 16,
   "metadata": {},
   "outputs": [],
   "source": [
    "maps.append('\\\\(3\\\\)PowerBond.scx')"
   ]
  },
  {
   "cell_type": "code",
   "execution_count": 17,
   "metadata": {},
   "outputs": [],
   "source": [
    "maps.append('\\\\(2\\\\)Overwatch2.2.scx')"
   ]
  },
  {
   "cell_type": "code",
   "execution_count": 18,
   "metadata": {},
   "outputs": [
    {
     "name": "stdout",
     "output_type": "stream",
     "text": [
      "maps/TorchUp/\\(4\\)CircuitBreaker.scx\n",
      "maps/TorchUp/\\(3\\)Aztec2.1.scx\n",
      "maps/TorchUp/\\(2\\)BlueStorm1.2.scx\n",
      "maps/TorchUp/\\(4\\)Gladiator1.1.scx\n",
      "maps/TorchUp/\\(3\\)GoldRush.scx\n",
      "maps/TorchUp/\\(2\\)HeartbreakRidge.scx\n",
      "maps/TorchUp/\\(4\\)FightingSpirit.scx\n",
      "maps/TorchUp/\\(3\\)PowerBond.scx\n",
      "maps/TorchUp/\\(2\\)Overwatch2.2.scx\n"
     ]
    }
   ],
   "source": [
    "for x in maps: print(torchup_map + x)"
   ]
  },
  {
   "cell_type": "code",
   "execution_count": 19,
   "metadata": {},
   "outputs": [
    {
     "data": {
      "text/plain": [
       "['\\\\(4\\\\)CircuitBreaker.scx',\n",
       " '\\\\(3\\\\)Aztec2.1.scx',\n",
       " '\\\\(2\\\\)BlueStorm1.2.scx',\n",
       " '\\\\(4\\\\)Gladiator1.1.scx',\n",
       " '\\\\(3\\\\)GoldRush.scx',\n",
       " '\\\\(2\\\\)HeartbreakRidge.scx',\n",
       " '\\\\(4\\\\)FightingSpirit.scx',\n",
       " '\\\\(3\\\\)PowerBond.scx',\n",
       " '\\\\(2\\\\)Overwatch2.2.scx']"
      ]
     },
     "execution_count": 19,
     "metadata": {},
     "output_type": "execute_result"
    }
   ],
   "source": [
    "maps"
   ]
  },
  {
   "cell_type": "code",
   "execution_count": 20,
   "metadata": {},
   "outputs": [],
   "source": [
    "total, used, free = shutil.disk_usage(\"/\")"
   ]
  },
  {
   "cell_type": "code",
   "execution_count": 21,
   "metadata": {},
   "outputs": [
    {
     "name": "stdout",
     "output_type": "stream",
     "text": [
      "Total: 109 GiB\n",
      "Used: 73 GiB\n",
      "Free: 30 GiB\n"
     ]
    }
   ],
   "source": [
    "print(\"Total: %d GiB\" % (total // (2**30)))\n",
    "print(\"Used: %d GiB\" % (used // (2**30)))\n",
    "print(\"Free: %d GiB\" % (free // (2**30)))"
   ]
  },
  {
   "cell_type": "code",
   "execution_count": 22,
   "metadata": {},
   "outputs": [
    {
     "data": {
      "text/plain": [
       "8"
      ]
     },
     "execution_count": 22,
     "metadata": {},
     "output_type": "execute_result"
    }
   ],
   "source": [
    "os.cpu_count() # current machine cores"
   ]
  },
  {
   "cell_type": "code",
   "execution_count": 23,
   "metadata": {},
   "outputs": [
    {
     "data": {
      "text/plain": [
       "3.0"
      ]
     },
     "execution_count": 23,
     "metadata": {},
     "output_type": "execute_result"
    }
   ],
   "source": [
    "(os.cpu_count() - 2) / 2 # concurrent games"
   ]
  },
  {
   "cell_type": "code",
   "execution_count": 24,
   "metadata": {},
   "outputs": [
    {
     "data": {
      "text/plain": [
       "6.0"
      ]
     },
     "execution_count": 24,
     "metadata": {},
     "output_type": "execute_result"
    }
   ],
   "source": [
    "(os.cpu_count() - 2) / 2 * 2 # containers needed"
   ]
  },
  {
   "cell_type": "code",
   "execution_count": 25,
   "metadata": {},
   "outputs": [],
   "source": [
    "match = []"
   ]
  },
  {
   "cell_type": "code",
   "execution_count": 26,
   "metadata": {},
   "outputs": [],
   "source": [
    "games = []"
   ]
  },
  {
   "cell_type": "code",
   "execution_count": 27,
   "metadata": {},
   "outputs": [],
   "source": [
    "match.append('Locutus')"
   ]
  },
  {
   "cell_type": "code",
   "execution_count": 28,
   "metadata": {},
   "outputs": [],
   "source": [
    "match.append('Letabot')"
   ]
  },
  {
   "cell_type": "code",
   "execution_count": 29,
   "metadata": {},
   "outputs": [],
   "source": [
    "match.append('Microwave')"
   ]
  },
  {
   "cell_type": "code",
   "execution_count": 30,
   "metadata": {},
   "outputs": [
    {
     "data": {
      "text/plain": [
       "3"
      ]
     },
     "execution_count": 30,
     "metadata": {},
     "output_type": "execute_result"
    }
   ],
   "source": [
    "len(list(itertools.combinations(match,2)))"
   ]
  },
  {
   "cell_type": "code",
   "execution_count": 31,
   "metadata": {},
   "outputs": [
    {
     "data": {
      "text/plain": [
       "[('Locutus', 'Letabot'), ('Locutus', 'Microwave'), ('Letabot', 'Microwave')]"
      ]
     },
     "execution_count": 31,
     "metadata": {},
     "output_type": "execute_result"
    }
   ],
   "source": [
    "list(itertools.combinations(match,2))"
   ]
  },
  {
   "cell_type": "code",
   "execution_count": 32,
   "metadata": {},
   "outputs": [],
   "source": [
    "#match.append('Ecgberht')"
   ]
  },
  {
   "cell_type": "code",
   "execution_count": 33,
   "metadata": {},
   "outputs": [],
   "source": [
    "#match.append('PurpleWave')"
   ]
  },
  {
   "cell_type": "code",
   "execution_count": 34,
   "metadata": {},
   "outputs": [],
   "source": [
    "#match.append('Halo')"
   ]
  },
  {
   "cell_type": "code",
   "execution_count": 35,
   "metadata": {},
   "outputs": [],
   "source": [
    "#match.append('Crona')"
   ]
  },
  {
   "cell_type": "code",
   "execution_count": 36,
   "metadata": {},
   "outputs": [],
   "source": [
    "#match.append('StyxZ')"
   ]
  },
  {
   "cell_type": "code",
   "execution_count": 37,
   "metadata": {},
   "outputs": [],
   "source": [
    "#match.append('ZZZKBot')"
   ]
  },
  {
   "cell_type": "code",
   "execution_count": 38,
   "metadata": {},
   "outputs": [],
   "source": [
    "#match.append('CUNYBot')"
   ]
  },
  {
   "cell_type": "code",
   "execution_count": 39,
   "metadata": {},
   "outputs": [],
   "source": [
    "#match.append('TCPZerg')"
   ]
  },
  {
   "cell_type": "code",
   "execution_count": 40,
   "metadata": {},
   "outputs": [],
   "source": [
    "pairs = list(itertools.combinations(match,2))"
   ]
  },
  {
   "cell_type": "code",
   "execution_count": 41,
   "metadata": {},
   "outputs": [
    {
     "data": {
      "text/plain": [
       "3"
      ]
     },
     "execution_count": 41,
     "metadata": {},
     "output_type": "execute_result"
    }
   ],
   "source": [
    "len(list(itertools.combinations(match,2)))"
   ]
  },
  {
   "cell_type": "code",
   "execution_count": 42,
   "metadata": {},
   "outputs": [],
   "source": [
    "match.append('\\\\(4\\\\)CircuitBreaker.scx')"
   ]
  },
  {
   "cell_type": "code",
   "execution_count": 43,
   "metadata": {},
   "outputs": [],
   "source": [
    "match.append('\\\\(3\\\\)Aztec2.1.scx')"
   ]
  },
  {
   "cell_type": "code",
   "execution_count": 44,
   "metadata": {},
   "outputs": [],
   "source": [
    "match.append('\\\\(2\\\\)BlueStorm1.2.scx')"
   ]
  },
  {
   "cell_type": "code",
   "execution_count": 45,
   "metadata": {},
   "outputs": [],
   "source": [
    "match.append('\\\\(4\\\\)Gladiator1.1.scx')"
   ]
  },
  {
   "cell_type": "code",
   "execution_count": 46,
   "metadata": {},
   "outputs": [],
   "source": [
    "match.append('\\\\(3\\\\)GoldRush.scx')"
   ]
  },
  {
   "cell_type": "code",
   "execution_count": 47,
   "metadata": {},
   "outputs": [],
   "source": [
    "match.append('\\\\(2\\\\)HeartbreakRidge.scx')"
   ]
  },
  {
   "cell_type": "code",
   "execution_count": 48,
   "metadata": {},
   "outputs": [],
   "source": [
    "match.append('\\\\(4\\\\)FightingSpirit.scx')"
   ]
  },
  {
   "cell_type": "code",
   "execution_count": 49,
   "metadata": {},
   "outputs": [],
   "source": [
    "match.append('\\\\(3\\\\)PowerBond.scx')"
   ]
  },
  {
   "cell_type": "code",
   "execution_count": 50,
   "metadata": {},
   "outputs": [],
   "source": [
    "match.append('\\\\(2\\\\)Overwatch2.2.scx')"
   ]
  },
  {
   "cell_type": "code",
   "execution_count": 51,
   "metadata": {},
   "outputs": [],
   "source": [
    "# bonus island round\n",
    "#match.append('\\\\(4\\\\)Sparkle1.1.scx')"
   ]
  },
  {
   "cell_type": "code",
   "execution_count": 52,
   "metadata": {},
   "outputs": [],
   "source": [
    "for x in list(itertools.combinations(match,3)): \n",
    "    if '\\\\' in x[2] and not '\\\\' in x[0] and not '\\\\' in x[1]:\n",
    "        games.append(x)\n",
    "    else:\n",
    "        pass"
   ]
  },
  {
   "cell_type": "code",
   "execution_count": 53,
   "metadata": {},
   "outputs": [
    {
     "name": "stdout",
     "output_type": "stream",
     "text": [
      "27\n"
     ]
    }
   ],
   "source": [
    "print(len(games))"
   ]
  },
  {
   "cell_type": "code",
   "execution_count": 54,
   "metadata": {},
   "outputs": [
    {
     "name": "stdout",
     "output_type": "stream",
     "text": [
      "[('Locutus', 'Letabot'), ('Locutus', 'Microwave'), ('Letabot', 'Microwave')]\n"
     ]
    }
   ],
   "source": [
    "print(pairs)"
   ]
  },
  {
   "cell_type": "code",
   "execution_count": 55,
   "metadata": {},
   "outputs": [],
   "source": [
    "#bw play -b Locutus -m \"maps/TorchUp/\\\\(3\\\\)PowerBond.scx\""
   ]
  },
  {
   "cell_type": "code",
   "execution_count": 56,
   "metadata": {},
   "outputs": [
    {
     "data": {
      "text/plain": [
       "[('Locutus', 'Letabot', '\\\\(4\\\\)CircuitBreaker.scx'),\n",
       " ('Locutus', 'Letabot', '\\\\(3\\\\)Aztec2.1.scx'),\n",
       " ('Locutus', 'Letabot', '\\\\(2\\\\)BlueStorm1.2.scx'),\n",
       " ('Locutus', 'Letabot', '\\\\(4\\\\)Gladiator1.1.scx'),\n",
       " ('Locutus', 'Letabot', '\\\\(3\\\\)GoldRush.scx'),\n",
       " ('Locutus', 'Letabot', '\\\\(2\\\\)HeartbreakRidge.scx'),\n",
       " ('Locutus', 'Letabot', '\\\\(4\\\\)FightingSpirit.scx'),\n",
       " ('Locutus', 'Letabot', '\\\\(3\\\\)PowerBond.scx'),\n",
       " ('Locutus', 'Letabot', '\\\\(2\\\\)Overwatch2.2.scx'),\n",
       " ('Locutus', 'Microwave', '\\\\(4\\\\)CircuitBreaker.scx'),\n",
       " ('Locutus', 'Microwave', '\\\\(3\\\\)Aztec2.1.scx'),\n",
       " ('Locutus', 'Microwave', '\\\\(2\\\\)BlueStorm1.2.scx'),\n",
       " ('Locutus', 'Microwave', '\\\\(4\\\\)Gladiator1.1.scx'),\n",
       " ('Locutus', 'Microwave', '\\\\(3\\\\)GoldRush.scx'),\n",
       " ('Locutus', 'Microwave', '\\\\(2\\\\)HeartbreakRidge.scx'),\n",
       " ('Locutus', 'Microwave', '\\\\(4\\\\)FightingSpirit.scx'),\n",
       " ('Locutus', 'Microwave', '\\\\(3\\\\)PowerBond.scx'),\n",
       " ('Locutus', 'Microwave', '\\\\(2\\\\)Overwatch2.2.scx'),\n",
       " ('Letabot', 'Microwave', '\\\\(4\\\\)CircuitBreaker.scx'),\n",
       " ('Letabot', 'Microwave', '\\\\(3\\\\)Aztec2.1.scx'),\n",
       " ('Letabot', 'Microwave', '\\\\(2\\\\)BlueStorm1.2.scx'),\n",
       " ('Letabot', 'Microwave', '\\\\(4\\\\)Gladiator1.1.scx'),\n",
       " ('Letabot', 'Microwave', '\\\\(3\\\\)GoldRush.scx'),\n",
       " ('Letabot', 'Microwave', '\\\\(2\\\\)HeartbreakRidge.scx'),\n",
       " ('Letabot', 'Microwave', '\\\\(4\\\\)FightingSpirit.scx'),\n",
       " ('Letabot', 'Microwave', '\\\\(3\\\\)PowerBond.scx'),\n",
       " ('Letabot', 'Microwave', '\\\\(2\\\\)Overwatch2.2.scx')]"
      ]
     },
     "execution_count": 56,
     "metadata": {},
     "output_type": "execute_result"
    }
   ],
   "source": [
    "games"
   ]
  },
  {
   "cell_type": "code",
   "execution_count": 57,
   "metadata": {},
   "outputs": [
    {
     "data": {
      "text/plain": [
       "[(0, ('Locutus', 'Letabot', '\\\\(4\\\\)CircuitBreaker.scx')),\n",
       " (1, ('Locutus', 'Letabot', '\\\\(3\\\\)Aztec2.1.scx')),\n",
       " (2, ('Locutus', 'Letabot', '\\\\(2\\\\)BlueStorm1.2.scx')),\n",
       " (3, ('Locutus', 'Letabot', '\\\\(4\\\\)Gladiator1.1.scx')),\n",
       " (4, ('Locutus', 'Letabot', '\\\\(3\\\\)GoldRush.scx')),\n",
       " (5, ('Locutus', 'Letabot', '\\\\(2\\\\)HeartbreakRidge.scx')),\n",
       " (6, ('Locutus', 'Letabot', '\\\\(4\\\\)FightingSpirit.scx')),\n",
       " (7, ('Locutus', 'Letabot', '\\\\(3\\\\)PowerBond.scx')),\n",
       " (8, ('Locutus', 'Letabot', '\\\\(2\\\\)Overwatch2.2.scx')),\n",
       " (9, ('Locutus', 'Microwave', '\\\\(4\\\\)CircuitBreaker.scx')),\n",
       " (10, ('Locutus', 'Microwave', '\\\\(3\\\\)Aztec2.1.scx')),\n",
       " (11, ('Locutus', 'Microwave', '\\\\(2\\\\)BlueStorm1.2.scx')),\n",
       " (12, ('Locutus', 'Microwave', '\\\\(4\\\\)Gladiator1.1.scx')),\n",
       " (13, ('Locutus', 'Microwave', '\\\\(3\\\\)GoldRush.scx')),\n",
       " (14, ('Locutus', 'Microwave', '\\\\(2\\\\)HeartbreakRidge.scx')),\n",
       " (15, ('Locutus', 'Microwave', '\\\\(4\\\\)FightingSpirit.scx')),\n",
       " (16, ('Locutus', 'Microwave', '\\\\(3\\\\)PowerBond.scx')),\n",
       " (17, ('Locutus', 'Microwave', '\\\\(2\\\\)Overwatch2.2.scx')),\n",
       " (18, ('Letabot', 'Microwave', '\\\\(4\\\\)CircuitBreaker.scx')),\n",
       " (19, ('Letabot', 'Microwave', '\\\\(3\\\\)Aztec2.1.scx')),\n",
       " (20, ('Letabot', 'Microwave', '\\\\(2\\\\)BlueStorm1.2.scx')),\n",
       " (21, ('Letabot', 'Microwave', '\\\\(4\\\\)Gladiator1.1.scx')),\n",
       " (22, ('Letabot', 'Microwave', '\\\\(3\\\\)GoldRush.scx')),\n",
       " (23, ('Letabot', 'Microwave', '\\\\(2\\\\)HeartbreakRidge.scx')),\n",
       " (24, ('Letabot', 'Microwave', '\\\\(4\\\\)FightingSpirit.scx')),\n",
       " (25, ('Letabot', 'Microwave', '\\\\(3\\\\)PowerBond.scx')),\n",
       " (26, ('Letabot', 'Microwave', '\\\\(2\\\\)Overwatch2.2.scx'))]"
      ]
     },
     "execution_count": 57,
     "metadata": {},
     "output_type": "execute_result"
    }
   ],
   "source": [
    "list(enumerate(games))"
   ]
  },
  {
   "cell_type": "code",
   "execution_count": 58,
   "metadata": {},
   "outputs": [
    {
     "data": {
      "text/plain": [
       "UUID('dbf3ebaf-39e9-400a-aabe-a8db203893bd')"
      ]
     },
     "execution_count": 58,
     "metadata": {},
     "output_type": "execute_result"
    }
   ],
   "source": [
    "system_uuid"
   ]
  },
  {
   "cell_type": "code",
   "execution_count": 59,
   "metadata": {},
   "outputs": [
    {
     "data": {
      "text/plain": [
       "2673"
      ]
     },
     "execution_count": 59,
     "metadata": {},
     "output_type": "execute_result"
    }
   ],
   "source": [
    "len(games * 99)"
   ]
  },
  {
   "cell_type": "code",
   "execution_count": 60,
   "metadata": {},
   "outputs": [
    {
     "data": {
      "text/plain": [
       "891.0"
      ]
     },
     "execution_count": 60,
     "metadata": {},
     "output_type": "execute_result"
    }
   ],
   "source": [
    "2673/3"
   ]
  },
  {
   "cell_type": "code",
   "execution_count": 61,
   "metadata": {},
   "outputs": [],
   "source": [
    "# schematics"
   ]
  },
  {
   "cell_type": "code",
   "execution_count": 62,
   "metadata": {},
   "outputs": [],
   "source": [
    "from schematics import models"
   ]
  },
  {
   "cell_type": "code",
   "execution_count": 63,
   "metadata": {},
   "outputs": [],
   "source": [
    "from schematics import types"
   ]
  },
  {
   "cell_type": "code",
   "execution_count": 64,
   "metadata": {},
   "outputs": [],
   "source": [
    "from schematics.types import compound"
   ]
  },
  {
   "cell_type": "code",
   "execution_count": 65,
   "metadata": {},
   "outputs": [],
   "source": []
  },
  {
   "cell_type": "code",
   "execution_count": null,
   "metadata": {},
   "outputs": [],
   "source": [
    "# server inlude game, status and bot resources, here we start to thinkering about those data structures."
   ]
  },
  {
   "cell_type": "code",
   "execution_count": null,
   "metadata": {},
   "outputs": [],
   "source": []
  },
  {
   "cell_type": "code",
   "execution_count": null,
   "metadata": {},
   "outputs": [],
   "source": [
    "# init game data structure"
   ]
  },
  {
   "cell_type": "code",
   "execution_count": 66,
   "metadata": {},
   "outputs": [],
   "source": [
    "class Game(models.Model):\n",
    "    uuid = types.UUIDType(default=uuid.uuid4)\n",
    "    session = types.UUIDType( )\n",
    "    bots = types.StringType(required=True)\n",
    "    map = types.StringType(required=True)\n",
    "    result = types.StringType()"
   ]
  },
  {
   "cell_type": "code",
   "execution_count": 67,
   "metadata": {},
   "outputs": [],
   "source": [
    "# scout what your opponent is doing \n",
    "# try to see where to take an advantage "
   ]
  },
  {
   "cell_type": "code",
   "execution_count": null,
   "metadata": {},
   "outputs": [],
   "source": []
  }
 ],
 "metadata": {
  "kernelspec": {
   "display_name": "Python 3",
   "language": "python",
   "name": "python3"
  },
  "language_info": {
   "codemirror_mode": {
    "name": "ipython",
    "version": 3
   },
   "file_extension": ".py",
   "mimetype": "text/x-python",
   "name": "python",
   "nbconvert_exporter": "python",
   "pygments_lexer": "ipython3",
   "version": "3.7.3"
  }
 },
 "nbformat": 4,
 "nbformat_minor": 2
}
