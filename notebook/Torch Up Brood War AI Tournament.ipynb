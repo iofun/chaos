{
 "cells": [
  {
   "cell_type": "code",
   "execution_count": 65,
   "metadata": {},
   "outputs": [],
   "source": [
    "import itertools"
   ]
  },
  {
   "cell_type": "code",
   "execution_count": 66,
   "metadata": {},
   "outputs": [],
   "source": [
    "import os"
   ]
  },
  {
   "cell_type": "code",
   "execution_count": 67,
   "metadata": {},
   "outputs": [],
   "source": [
    "import shutil"
   ]
  },
  {
   "cell_type": "code",
   "execution_count": 68,
   "metadata": {},
   "outputs": [],
   "source": [
    "maps = []"
   ]
  },
  {
   "cell_type": "code",
   "execution_count": 69,
   "metadata": {},
   "outputs": [],
   "source": [
    "torchup_map = 'maps/TorchUp/'"
   ]
  },
  {
   "cell_type": "code",
   "execution_count": 70,
   "metadata": {},
   "outputs": [],
   "source": [
    "maps.append('\\\\(4\\\\)CircuitBreaker.scx')"
   ]
  },
  {
   "cell_type": "code",
   "execution_count": 71,
   "metadata": {},
   "outputs": [],
   "source": [
    "maps.append('\\\\(3\\\\)Aztec2.1.scx')"
   ]
  },
  {
   "cell_type": "code",
   "execution_count": 72,
   "metadata": {},
   "outputs": [],
   "source": [
    "maps.append('\\\\(2\\\\)BlueStorm1.2.scx')"
   ]
  },
  {
   "cell_type": "code",
   "execution_count": 73,
   "metadata": {},
   "outputs": [],
   "source": [
    "maps.append('\\\\(4\\\\)Gladiator1.1.scx')"
   ]
  },
  {
   "cell_type": "code",
   "execution_count": 74,
   "metadata": {},
   "outputs": [],
   "source": [
    "maps.append('\\\\(3\\\\)GoldRush.scx')"
   ]
  },
  {
   "cell_type": "code",
   "execution_count": 75,
   "metadata": {},
   "outputs": [],
   "source": [
    "maps.append('\\\\(2\\\\)HeartbreakRidge.scx')"
   ]
  },
  {
   "cell_type": "code",
   "execution_count": 76,
   "metadata": {},
   "outputs": [],
   "source": [
    "maps.append('\\\\(4\\\\)FightingSpirit.scx')"
   ]
  },
  {
   "cell_type": "code",
   "execution_count": 77,
   "metadata": {},
   "outputs": [],
   "source": [
    "maps.append('\\\\(3\\\\)PowerBond.scx')"
   ]
  },
  {
   "cell_type": "code",
   "execution_count": 78,
   "metadata": {},
   "outputs": [],
   "source": [
    "maps.append('\\\\(2\\\\)Overwatch2.2.scx')"
   ]
  },
  {
   "cell_type": "code",
   "execution_count": 79,
   "metadata": {},
   "outputs": [
    {
     "name": "stdout",
     "output_type": "stream",
     "text": [
      "maps/TorchUp/\\(4\\)CircuitBreaker.scx\n",
      "maps/TorchUp/\\(3\\)Aztec2.1.scx\n",
      "maps/TorchUp/\\(2\\)BlueStorm1.2.scx\n",
      "maps/TorchUp/\\(4\\)Gladiator1.1.scx\n",
      "maps/TorchUp/\\(3\\)GoldRush.scx\n",
      "maps/TorchUp/\\(2\\)HeartbreakRidge.scx\n",
      "maps/TorchUp/\\(4\\)FightingSpirit.scx\n",
      "maps/TorchUp/\\(3\\)PowerBond.scx\n",
      "maps/TorchUp/\\(2\\)Overwatch2.2.scx\n"
     ]
    }
   ],
   "source": [
    "for x in maps: print(torchup_map + x)"
   ]
  },
  {
   "cell_type": "code",
   "execution_count": 80,
   "metadata": {},
   "outputs": [
    {
     "data": {
      "text/plain": [
       "['\\\\(4\\\\)CircuitBreaker.scx',\n",
       " '\\\\(3\\\\)Aztec2.1.scx',\n",
       " '\\\\(2\\\\)BlueStorm1.2.scx',\n",
       " '\\\\(4\\\\)Gladiator1.1.scx',\n",
       " '\\\\(3\\\\)GoldRush.scx',\n",
       " '\\\\(2\\\\)HeartbreakRidge.scx',\n",
       " '\\\\(4\\\\)FightingSpirit.scx',\n",
       " '\\\\(3\\\\)PowerBond.scx',\n",
       " '\\\\(2\\\\)Overwatch2.2.scx']"
      ]
     },
     "execution_count": 80,
     "metadata": {},
     "output_type": "execute_result"
    }
   ],
   "source": [
    "maps"
   ]
  },
  {
   "cell_type": "code",
   "execution_count": 81,
   "metadata": {},
   "outputs": [],
   "source": [
    "total, used, free = shutil.disk_usage(\"/\")"
   ]
  },
  {
   "cell_type": "code",
   "execution_count": 82,
   "metadata": {},
   "outputs": [
    {
     "name": "stdout",
     "output_type": "stream",
     "text": [
      "Total: 109 GiB\n",
      "Used: 61 GiB\n",
      "Free: 42 GiB\n"
     ]
    }
   ],
   "source": [
    "print(\"Total: %d GiB\" % (total // (2**30)))\n",
    "print(\"Used: %d GiB\" % (used // (2**30)))\n",
    "print(\"Free: %d GiB\" % (free // (2**30)))"
   ]
  },
  {
   "cell_type": "code",
   "execution_count": 83,
   "metadata": {},
   "outputs": [
    {
     "data": {
      "text/plain": [
       "8"
      ]
     },
     "execution_count": 83,
     "metadata": {},
     "output_type": "execute_result"
    }
   ],
   "source": [
    "os.cpu_count() # current machine cores"
   ]
  },
  {
   "cell_type": "code",
   "execution_count": 84,
   "metadata": {},
   "outputs": [
    {
     "data": {
      "text/plain": [
       "3.0"
      ]
     },
     "execution_count": 84,
     "metadata": {},
     "output_type": "execute_result"
    }
   ],
   "source": [
    "(os.cpu_count() - 2) / 2 # concurrent games"
   ]
  },
  {
   "cell_type": "code",
   "execution_count": 85,
   "metadata": {},
   "outputs": [
    {
     "data": {
      "text/plain": [
       "6.0"
      ]
     },
     "execution_count": 85,
     "metadata": {},
     "output_type": "execute_result"
    }
   ],
   "source": [
    "(os.cpu_count() - 2) / 2 * 2 # containers needed"
   ]
  },
  {
   "cell_type": "code",
   "execution_count": 86,
   "metadata": {},
   "outputs": [],
   "source": [
    "match = []"
   ]
  },
  {
   "cell_type": "code",
   "execution_count": 87,
   "metadata": {},
   "outputs": [],
   "source": [
    "games = []"
   ]
  },
  {
   "cell_type": "code",
   "execution_count": 88,
   "metadata": {},
   "outputs": [],
   "source": [
    "match.append('Locutus')"
   ]
  },
  {
   "cell_type": "code",
   "execution_count": 89,
   "metadata": {},
   "outputs": [],
   "source": [
    "match.append('Letabot')"
   ]
  },
  {
   "cell_type": "code",
   "execution_count": 90,
   "metadata": {},
   "outputs": [],
   "source": [
    "match.append('Microwave')"
   ]
  },
  {
   "cell_type": "code",
   "execution_count": 91,
   "metadata": {},
   "outputs": [
    {
     "data": {
      "text/plain": [
       "3"
      ]
     },
     "execution_count": 91,
     "metadata": {},
     "output_type": "execute_result"
    }
   ],
   "source": [
    "len(list(itertools.combinations(match,2)))"
   ]
  },
  {
   "cell_type": "code",
   "execution_count": 92,
   "metadata": {},
   "outputs": [
    {
     "data": {
      "text/plain": [
       "[('Locutus', 'Letabot'), ('Locutus', 'Microwave'), ('Letabot', 'Microwave')]"
      ]
     },
     "execution_count": 92,
     "metadata": {},
     "output_type": "execute_result"
    }
   ],
   "source": [
    "list(itertools.combinations(match,2))"
   ]
  },
  {
   "cell_type": "code",
   "execution_count": 93,
   "metadata": {},
   "outputs": [],
   "source": [
    "#match.append('Ecgberht')"
   ]
  },
  {
   "cell_type": "code",
   "execution_count": 94,
   "metadata": {},
   "outputs": [],
   "source": [
    "#match.append('PurpleWave')"
   ]
  },
  {
   "cell_type": "code",
   "execution_count": 95,
   "metadata": {},
   "outputs": [],
   "source": [
    "#match.append('Halo')"
   ]
  },
  {
   "cell_type": "code",
   "execution_count": 96,
   "metadata": {},
   "outputs": [],
   "source": [
    "#match.append('Crona')"
   ]
  },
  {
   "cell_type": "code",
   "execution_count": 97,
   "metadata": {},
   "outputs": [],
   "source": [
    "#match.append('StyxZ')"
   ]
  },
  {
   "cell_type": "code",
   "execution_count": 98,
   "metadata": {},
   "outputs": [],
   "source": [
    "#match.append('ZZZKBot')"
   ]
  },
  {
   "cell_type": "code",
   "execution_count": 99,
   "metadata": {},
   "outputs": [],
   "source": [
    "#match.append('CUNYBot')"
   ]
  },
  {
   "cell_type": "code",
   "execution_count": 100,
   "metadata": {},
   "outputs": [],
   "source": [
    "#match.append('TCPZerg')"
   ]
  },
  {
   "cell_type": "code",
   "execution_count": 101,
   "metadata": {},
   "outputs": [],
   "source": [
    "pairs = list(itertools.combinations(match,2))"
   ]
  },
  {
   "cell_type": "code",
   "execution_count": 102,
   "metadata": {},
   "outputs": [
    {
     "data": {
      "text/plain": [
       "3"
      ]
     },
     "execution_count": 102,
     "metadata": {},
     "output_type": "execute_result"
    }
   ],
   "source": [
    "len(list(itertools.combinations(match,2)))"
   ]
  },
  {
   "cell_type": "code",
   "execution_count": 103,
   "metadata": {},
   "outputs": [],
   "source": [
    "match.append('\\\\(4\\\\)CircuitBreaker.scx')"
   ]
  },
  {
   "cell_type": "code",
   "execution_count": 104,
   "metadata": {},
   "outputs": [],
   "source": [
    "match.append('\\\\(3\\\\)Aztec2.1.scx')"
   ]
  },
  {
   "cell_type": "code",
   "execution_count": 105,
   "metadata": {},
   "outputs": [],
   "source": [
    "match.append('\\\\(2\\\\)BlueStorm1.2.scx')"
   ]
  },
  {
   "cell_type": "code",
   "execution_count": 106,
   "metadata": {},
   "outputs": [],
   "source": [
    "match.append('\\\\(4\\\\)Gladiator1.1.scx')"
   ]
  },
  {
   "cell_type": "code",
   "execution_count": 107,
   "metadata": {},
   "outputs": [],
   "source": [
    "match.append('\\\\(3\\\\)GoldRush.scx')"
   ]
  },
  {
   "cell_type": "code",
   "execution_count": 108,
   "metadata": {},
   "outputs": [],
   "source": [
    "match.append('\\\\(2\\\\)HeartbreakRidge.scx')"
   ]
  },
  {
   "cell_type": "code",
   "execution_count": 109,
   "metadata": {},
   "outputs": [],
   "source": [
    "match.append('\\\\(4\\\\)FightingSpirit.scx')"
   ]
  },
  {
   "cell_type": "code",
   "execution_count": 110,
   "metadata": {},
   "outputs": [],
   "source": [
    "match.append('\\\\(3\\\\)PowerBond.scx')"
   ]
  },
  {
   "cell_type": "code",
   "execution_count": 111,
   "metadata": {},
   "outputs": [],
   "source": [
    "match.append('\\\\(2\\\\)Overwatch2.2.scx')"
   ]
  },
  {
   "cell_type": "code",
   "execution_count": 112,
   "metadata": {},
   "outputs": [],
   "source": [
    "# bonus island round\n",
    "#match.append('\\\\(4\\\\)Sparkle1.1.scx')"
   ]
  },
  {
   "cell_type": "code",
   "execution_count": 113,
   "metadata": {},
   "outputs": [],
   "source": [
    "for x in list(itertools.combinations(match,3)): \n",
    "    if '\\\\' in x[2] and not '\\\\' in x[0] and not '\\\\' in x[1]:\n",
    "        games.append(x)\n",
    "    else:\n",
    "        pass"
   ]
  },
  {
   "cell_type": "code",
   "execution_count": 114,
   "metadata": {},
   "outputs": [
    {
     "name": "stdout",
     "output_type": "stream",
     "text": [
      "27\n"
     ]
    }
   ],
   "source": [
    "print(len(games))"
   ]
  },
  {
   "cell_type": "code",
   "execution_count": 115,
   "metadata": {},
   "outputs": [
    {
     "name": "stdout",
     "output_type": "stream",
     "text": [
      "[('Locutus', 'Letabot'), ('Locutus', 'Microwave'), ('Letabot', 'Microwave')]\n"
     ]
    }
   ],
   "source": [
    "print(pairs)"
   ]
  },
  {
   "cell_type": "code",
   "execution_count": 116,
   "metadata": {},
   "outputs": [],
   "source": [
    "#bw play -b Locutus -m \"maps/TorchUp/\\\\(3\\\\)PowerBond.scx\""
   ]
  },
  {
   "cell_type": "code",
   "execution_count": 64,
   "metadata": {},
   "outputs": [
    {
     "data": {
      "text/plain": [
       "[('Locutus', 'Letabot', '\\\\(4\\\\)CircuitBreaker.scx'),\n",
       " ('Locutus', 'Letabot', '\\\\(3\\\\)Aztec2.1.scx'),\n",
       " ('Locutus', 'Letabot', '\\\\(2\\\\)BlueStorm1.2.scx'),\n",
       " ('Locutus', 'Letabot', '\\\\(4\\\\)Gladiator1.1.scx'),\n",
       " ('Locutus', 'Letabot', '\\\\(3\\\\)GoldRush.scx'),\n",
       " ('Locutus', 'Letabot', '\\\\(2\\\\)HeartbreakRidge.scx'),\n",
       " ('Locutus', 'Letabot', '\\\\(4\\\\)FightingSpirit.scx'),\n",
       " ('Locutus', 'Letabot', '\\\\(3\\\\)PowerBond.scx'),\n",
       " ('Locutus', 'Letabot', '\\\\(2\\\\)Overwatch2.2.scx'),\n",
       " ('Locutus', 'Microwave', '\\\\(4\\\\)CircuitBreaker.scx'),\n",
       " ('Locutus', 'Microwave', '\\\\(3\\\\)Aztec2.1.scx'),\n",
       " ('Locutus', 'Microwave', '\\\\(2\\\\)BlueStorm1.2.scx'),\n",
       " ('Locutus', 'Microwave', '\\\\(4\\\\)Gladiator1.1.scx'),\n",
       " ('Locutus', 'Microwave', '\\\\(3\\\\)GoldRush.scx'),\n",
       " ('Locutus', 'Microwave', '\\\\(2\\\\)HeartbreakRidge.scx'),\n",
       " ('Locutus', 'Microwave', '\\\\(4\\\\)FightingSpirit.scx'),\n",
       " ('Locutus', 'Microwave', '\\\\(3\\\\)PowerBond.scx'),\n",
       " ('Locutus', 'Microwave', '\\\\(2\\\\)Overwatch2.2.scx'),\n",
       " ('Letabot', 'Microwave', '\\\\(4\\\\)CircuitBreaker.scx'),\n",
       " ('Letabot', 'Microwave', '\\\\(3\\\\)Aztec2.1.scx'),\n",
       " ('Letabot', 'Microwave', '\\\\(2\\\\)BlueStorm1.2.scx'),\n",
       " ('Letabot', 'Microwave', '\\\\(4\\\\)Gladiator1.1.scx'),\n",
       " ('Letabot', 'Microwave', '\\\\(3\\\\)GoldRush.scx'),\n",
       " ('Letabot', 'Microwave', '\\\\(2\\\\)HeartbreakRidge.scx'),\n",
       " ('Letabot', 'Microwave', '\\\\(4\\\\)FightingSpirit.scx'),\n",
       " ('Letabot', 'Microwave', '\\\\(3\\\\)PowerBond.scx'),\n",
       " ('Letabot', 'Microwave', '\\\\(2\\\\)Overwatch2.2.scx')]"
      ]
     },
     "execution_count": 64,
     "metadata": {},
     "output_type": "execute_result"
    }
   ],
   "source": [
    "games"
   ]
  },
  {
   "cell_type": "code",
   "execution_count": null,
   "metadata": {},
   "outputs": [],
   "source": []
  }
 ],
 "metadata": {
  "kernelspec": {
   "display_name": "Python 3",
   "language": "python",
   "name": "python3"
  },
  "language_info": {
   "codemirror_mode": {
    "name": "ipython",
    "version": 3
   },
   "file_extension": ".py",
   "mimetype": "text/x-python",
   "name": "python",
   "nbconvert_exporter": "python",
   "pygments_lexer": "ipython3",
   "version": "3.7.3"
  }
 },
 "nbformat": 4,
 "nbformat_minor": 2
}
