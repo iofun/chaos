{
 "cells": [
  {
   "cell_type": "markdown",
   "metadata": {},
   "source": [
    "## Current 2v2 ladder maps"
   ]
  },
  {
   "cell_type": "markdown",
   "metadata": {},
   "source": [
    "  \n",
    "| (4) Avalon | &nbsp; | (4) Sparkle | &nbsp; | (4) Iron Curtain |\n",
    ":---:|:---:|:---:|:---:|:---:|\n",
    "| <img src=\"https://spacebeam.org/images/maps/Avalon.jpg\" width=\"200\"> | &nbsp; | <img src=\"https://spacebeam.org/images/maps/Sparkle.jpg\" width=\"200\"> | &nbsp; | <img src=\"https://spacebeam.org/images/maps/Iron_Curtain.jpg\" width=\"200\"> |\n",
    "\n",
    "| (4) The Fortress SE | &nbsp; | (4) Othello | &nbsp; | (4) Vampire |\n",
    ":---:|:---:|:---:|:---:|:---:|\n",
    "| <img src=\"https://spacebeam.org/images/maps/TheFortressSE.jpg\" width=\"200\"> | &nbsp; | <img src=\"https://spacebeam.org/images/maps/Othello.jpg\" width=\"200\"> | &nbsp; | <img src=\"https://spacebeam.org/images/maps/Vampire.jpg\" width=\"200\"> |\n",
    "\n",
    "| (4) Grand Line SE | &nbsp; | (4) Neo Jade | &nbsp; | (4) Dante's Peak SE |\n",
    ":---:|:---:|:---:|:---:|:---:|\n",
    "| <img src=\"https://spacebeam.org/images/maps/GrandLineSE.jpg\" width=\"200\"> | &nbsp; | <img src=\"https://spacebeam.org/images/maps/NeoJade.jpg\" width=\"200\"> | &nbsp; | <img src=\"https://spacebeam.org/images/maps/DantesPeakSE.jpg\" width=\"200\"> |"
   ]
  },
  {
   "cell_type": "code",
   "execution_count": 1,
   "metadata": {},
   "outputs": [],
   "source": [
    "maybe = []"
   ]
  }
 ],
 "metadata": {
  "kernelspec": {
   "display_name": "Python 3",
   "language": "python",
   "name": "python3"
  },
  "language_info": {
   "codemirror_mode": {
    "name": "ipython",
    "version": 3
   },
   "file_extension": ".py",
   "mimetype": "text/x-python",
   "name": "python",
   "nbconvert_exporter": "python",
   "pygments_lexer": "ipython3",
   "version": "3.7.3"
  }
 },
 "nbformat": 4,
 "nbformat_minor": 2
}
