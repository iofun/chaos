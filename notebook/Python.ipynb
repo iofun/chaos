{
 "cells": [
  {
   "cell_type": "code",
   "execution_count": 1,
   "metadata": {},
   "outputs": [
    {
     "name": "stdout",
     "output_type": "stream",
     "text": [
      "b'Hello Python!'\n"
     ]
    }
   ],
   "source": [
    "print(b\"Hello Python!\") # could this represent a binary string?\n",
    "                        # what is the concept of binary string in pythonland?"
   ]
  },
  {
   "cell_type": "code",
   "execution_count": 2,
   "metadata": {},
   "outputs": [
    {
     "data": {
      "application/vnd.jupyter.widget-view+json": {
       "model_id": "3847887558b14849924010b73a8f61c3",
       "version_major": 2,
       "version_minor": 0
      },
      "text/plain": [
       "HBox(children=(FloatProgress(value=0.0, description='1st loop', max=9.0, style=ProgressStyle(description_width…"
      ]
     },
     "metadata": {},
     "output_type": "display_data"
    },
    {
     "data": {
      "application/vnd.jupyter.widget-view+json": {
       "model_id": "4d629cc0bb954c26ba7850f1c1e5286c",
       "version_major": 2,
       "version_minor": 0
      },
      "text/plain": [
       "HBox(children=(FloatProgress(value=0.0, description='2nd loop', max=99.0, style=ProgressStyle(description_widt…"
      ]
     },
     "metadata": {},
     "output_type": "display_data"
    },
    {
     "name": "stdout",
     "output_type": "stream",
     "text": [
      "\n"
     ]
    },
    {
     "data": {
      "application/vnd.jupyter.widget-view+json": {
       "model_id": "5f728c5c09e6409590a18e9af8ab54f1",
       "version_major": 2,
       "version_minor": 0
      },
      "text/plain": [
       "HBox(children=(FloatProgress(value=0.0, description='2nd loop', max=99.0, style=ProgressStyle(description_widt…"
      ]
     },
     "metadata": {},
     "output_type": "display_data"
    },
    {
     "name": "stdout",
     "output_type": "stream",
     "text": [
      "\n"
     ]
    },
    {
     "data": {
      "application/vnd.jupyter.widget-view+json": {
       "model_id": "e2fd6f1fb44f4e54b3a2e48312a0ce90",
       "version_major": 2,
       "version_minor": 0
      },
      "text/plain": [
       "HBox(children=(FloatProgress(value=0.0, description='2nd loop', max=99.0, style=ProgressStyle(description_widt…"
      ]
     },
     "metadata": {},
     "output_type": "display_data"
    },
    {
     "name": "stdout",
     "output_type": "stream",
     "text": [
      "\n"
     ]
    },
    {
     "data": {
      "application/vnd.jupyter.widget-view+json": {
       "model_id": "dc2615c2964f417cb6ae21be42d6b733",
       "version_major": 2,
       "version_minor": 0
      },
      "text/plain": [
       "HBox(children=(FloatProgress(value=0.0, description='2nd loop', max=99.0, style=ProgressStyle(description_widt…"
      ]
     },
     "metadata": {},
     "output_type": "display_data"
    },
    {
     "name": "stdout",
     "output_type": "stream",
     "text": [
      "\n"
     ]
    },
    {
     "data": {
      "application/vnd.jupyter.widget-view+json": {
       "model_id": "44f7b72dde86498fb3b8e27842885181",
       "version_major": 2,
       "version_minor": 0
      },
      "text/plain": [
       "HBox(children=(FloatProgress(value=0.0, description='2nd loop', max=99.0, style=ProgressStyle(description_widt…"
      ]
     },
     "metadata": {},
     "output_type": "display_data"
    },
    {
     "name": "stdout",
     "output_type": "stream",
     "text": [
      "\n"
     ]
    },
    {
     "data": {
      "application/vnd.jupyter.widget-view+json": {
       "model_id": "0af3ccfbe0484ed889f92658b45e333a",
       "version_major": 2,
       "version_minor": 0
      },
      "text/plain": [
       "HBox(children=(FloatProgress(value=0.0, description='2nd loop', max=99.0, style=ProgressStyle(description_widt…"
      ]
     },
     "metadata": {},
     "output_type": "display_data"
    },
    {
     "name": "stdout",
     "output_type": "stream",
     "text": [
      "\n"
     ]
    },
    {
     "data": {
      "application/vnd.jupyter.widget-view+json": {
       "model_id": "20d2556161484bd89ccd55b92bd40a24",
       "version_major": 2,
       "version_minor": 0
      },
      "text/plain": [
       "HBox(children=(FloatProgress(value=0.0, description='2nd loop', max=99.0, style=ProgressStyle(description_widt…"
      ]
     },
     "metadata": {},
     "output_type": "display_data"
    },
    {
     "name": "stdout",
     "output_type": "stream",
     "text": [
      "\n"
     ]
    },
    {
     "data": {
      "application/vnd.jupyter.widget-view+json": {
       "model_id": "bf405b88a1164c05ad2a0df6e86fa12d",
       "version_major": 2,
       "version_minor": 0
      },
      "text/plain": [
       "HBox(children=(FloatProgress(value=0.0, description='2nd loop', max=99.0, style=ProgressStyle(description_widt…"
      ]
     },
     "metadata": {},
     "output_type": "display_data"
    },
    {
     "name": "stdout",
     "output_type": "stream",
     "text": [
      "\n"
     ]
    },
    {
     "data": {
      "application/vnd.jupyter.widget-view+json": {
       "model_id": "e8e5680743e341398883219169d551f0",
       "version_major": 2,
       "version_minor": 0
      },
      "text/plain": [
       "HBox(children=(FloatProgress(value=0.0, description='2nd loop', max=99.0, style=ProgressStyle(description_widt…"
      ]
     },
     "metadata": {},
     "output_type": "display_data"
    },
    {
     "name": "stdout",
     "output_type": "stream",
     "text": [
      "\n",
      "\n"
     ]
    }
   ],
   "source": [
    "from tqdm.notebook import trange, tqdm\n",
    "from time import sleep\n",
    "\n",
    "for i in trange(9, desc='1st loop'):\n",
    "    for j in tqdm(range(99), desc='2nd loop'):\n",
    "        sleep(0.01)"
   ]
  },
  {
   "cell_type": "markdown",
   "metadata": {},
   "source": [
    "### Git 2.19 Switch to the SHA-256 hash algorithm"
   ]
  },
  {
   "cell_type": "code",
   "execution_count": 2,
   "metadata": {},
   "outputs": [],
   "source": [
    "import hashlib"
   ]
  },
  {
   "cell_type": "code",
   "execution_count": 3,
   "metadata": {},
   "outputs": [
    {
     "data": {
      "text/plain": [
       "64"
      ]
     },
     "execution_count": 3,
     "metadata": {},
     "output_type": "execute_result"
    }
   ],
   "source": [
    "len(hashlib.sha256(b\"unit mango 1\").hexdigest())"
   ]
  },
  {
   "cell_type": "markdown",
   "metadata": {},
   "source": [
    "Python is a lot less elegant language in nearly every way but it has the data science libraries and a lot of them are pretty great so I kind of use it because it's the best we have but it's definitely not good enough."
   ]
  },
  {
   "cell_type": "markdown",
   "metadata": {},
   "source": [
    "I hope X is successful bacause the goal it is to be infinitely hackable and that's what I want, I want something where me and the people I do research with and my students can look at and change everything from top to bottom unfortunately with Python it's the opposite of that because pythons so slow it's extremely unhackable you get to a point where it's like okay from here on down at C so your debugger doesn't work in the same way your profiler dosn't work in the same way your build system doesn't work in the same way it's really not very hackable at all."
   ]
  },
  {
   "cell_type": "markdown",
   "metadata": {},
   "source": [
    "Python has a big gap in terms of our ability to innovate around recurrent neural networks and natural language processing because it's so slow the actual loop where we actually loop through words we have to do that whole thing in C so we actually can't innovate with the kernel the heart of that most important algorithm and it's just a huge problem and this happens all over the place so we hit research limitations."
   ]
  },
  {
   "cell_type": "markdown",
   "metadata": {},
   "source": [
    "There's just big gaps in like what people actually research on what people actually implement because of the programming language problem, it's kind of just too difficult to write things in C, a programming language like X should enable the easier input fooling around creative stuff."
   ]
  },
  {
   "cell_type": "markdown",
   "metadata": {},
   "source": [
    "Is just that we ignore Y but recently people have been starting to reinvent pieces of that and kind of create some interesting new directions in compiler technology because if you have to deal with the fact that I've got you know 10,000 threads and I have to synchronize between them all and I have to put my thing in to grid blocks and think about warps and all this stuff it's just it's just so much boilerplate to do that well you have to be a specialist at that and it's going to be a year's work to optimize that algorithm in that way but with things like tensor comprehensions and all these various projects which are all about saying let's let people create like domain-specific languages for tensor computations these are the kinds of things we do generally on the GPU for deep learning and then have a compiler which can optimize that tensor computation like do it block by block and do these bits in parallel directly acccessible thorugh X so that I could use X to kind of write those domain-specific languages and hopefully we'll get them X CUDA kernels written in a very expressive and concise way that looks a bit like Lua in Erlang and then X layers on top of that and a nice javascript UI, it does all eventually boil down to CUDA and NVIDIA GPUs."
   ]
  },
  {
   "cell_type": "markdown",
   "metadata": {},
   "source": [
    "Can you comment in whichever you want to comment on?\n",
    "\n",
    "I'm not that hopeful that Python will develop into a sort of high concurrency high parallelism language that's sort of the way the language is designed the way most users use the language the way the language is implemented all make that a pretty unlikely future... I think async IO is a special case because it sort of allows overlapping IO and only IO and that is a sort of best practice of supporting very high throughput IO many connections per second I'm not worried about that I think async IO will evolve, parallel computing I think that Python is not the language for that there are ways to work around it but you can't expect to write an algorithm in Python and have a compiler automatically parallelize that, what you can do is use a package like numpy and they're a bunch of other very powerful packages that uuse all the CPUs available because you tell the package here's the data here's the abstract operation to apply over it go at it and then we're back in the C++ world"
   ]
  },
  {
   "cell_type": "markdown",
   "metadata": {},
   "source": [
    "So in terms of packaging? can you comment in the future of packaging?\n",
    "\n",
    "Packaging has alway been my least favorite topic it's a really tough problem because the OS and the platform want to own packaging and several languages like node JavaScript and Ruby and Python all have their own packaging solutions that only work within the ecosystem of that language well what should you use that is a tough problem my own approach is I use the system packaging system to install Python and I use the Python packaging system then to install third party Python packages that's what most people do "
   ]
  },
  {
   "cell_type": "markdown",
   "metadata": {},
   "source": [
    "Ten years ago packaging was terrible now pip is the present and the future there is a separate ecosystem for numerial and scientific Python, Python based on anaconda those two can live together I don't think there is a need for more than that so that's packaging."
   ]
  },
  {
   "cell_type": "code",
   "execution_count": 4,
   "metadata": {},
   "outputs": [
    {
     "data": {
      "text/plain": [
       "32"
      ]
     },
     "execution_count": 4,
     "metadata": {},
     "output_type": "execute_result"
    }
   ],
   "source": [
    "len('6531923c8f81b03535d041faa14c867c')"
   ]
  },
  {
   "cell_type": "code",
   "execution_count": 5,
   "metadata": {},
   "outputs": [
    {
     "data": {
      "text/plain": [
       "'974ccf03c2cebaedb160c8c976ccd196'"
      ]
     },
     "execution_count": 5,
     "metadata": {},
     "output_type": "execute_result"
    }
   ],
   "source": [
    "hashlib.md5(b\"Zerg_Defiler\").hexdigest()"
   ]
  },
  {
   "cell_type": "code",
   "execution_count": 10,
   "metadata": {},
   "outputs": [
    {
     "data": {
      "text/plain": [
       "'a88f3ee9de91c4c32e95284caee31e55'"
      ]
     },
     "execution_count": 10,
     "metadata": {},
     "output_type": "execute_result"
    }
   ],
   "source": [
    "hashlib.md5(b\"unit mango 1\").hexdigest()"
   ]
  },
  {
   "cell_type": "code",
   "execution_count": 311,
   "metadata": {},
   "outputs": [],
   "source": [
    "things = []"
   ]
  },
  {
   "cell_type": "markdown",
   "metadata": {},
   "source": [
    "## Terran things"
   ]
  },
  {
   "cell_type": "code",
   "execution_count": 312,
   "metadata": {},
   "outputs": [],
   "source": [
    "things.append(b\"Terran_Firebat\")"
   ]
  },
  {
   "cell_type": "code",
   "execution_count": 313,
   "metadata": {},
   "outputs": [],
   "source": [
    "things.append(b\"Terran_Ghost\")"
   ]
  },
  {
   "cell_type": "code",
   "execution_count": 314,
   "metadata": {},
   "outputs": [],
   "source": [
    "things.append(b\"Terran_Goliath\")"
   ]
  },
  {
   "cell_type": "code",
   "execution_count": 315,
   "metadata": {},
   "outputs": [],
   "source": [
    "things.append(b\"Terran_Marine\")"
   ]
  },
  {
   "cell_type": "code",
   "execution_count": 316,
   "metadata": {},
   "outputs": [],
   "source": [
    "things.append(b\"Terran_Medic\")"
   ]
  },
  {
   "cell_type": "code",
   "execution_count": 317,
   "metadata": {},
   "outputs": [],
   "source": [
    "things.append(b\"Terran_SCV\")"
   ]
  },
  {
   "cell_type": "code",
   "execution_count": 318,
   "metadata": {},
   "outputs": [],
   "source": [
    "things.append(b\"Terran_Siege_Tank_Siege_Mode\")"
   ]
  },
  {
   "cell_type": "code",
   "execution_count": 319,
   "metadata": {},
   "outputs": [],
   "source": [
    "things.append(b\"Terran_Siege_Tank_Tank_Mode\")"
   ]
  },
  {
   "cell_type": "code",
   "execution_count": 320,
   "metadata": {},
   "outputs": [],
   "source": [
    "things.append(b\"Terran_Vulture\")"
   ]
  },
  {
   "cell_type": "code",
   "execution_count": 321,
   "metadata": {},
   "outputs": [],
   "source": [
    "things.append(b\"Terran_Vulture_Spider_Mine\")"
   ]
  },
  {
   "cell_type": "code",
   "execution_count": 322,
   "metadata": {},
   "outputs": [],
   "source": [
    "things.append(b\"Terran_Battlecruiser\")"
   ]
  },
  {
   "cell_type": "code",
   "execution_count": 323,
   "metadata": {},
   "outputs": [],
   "source": [
    "things.append(b\"Terran_Dropship\")"
   ]
  },
  {
   "cell_type": "code",
   "execution_count": 324,
   "metadata": {},
   "outputs": [],
   "source": [
    "things.append(b\"Terran_Nuclear_Missile\")"
   ]
  },
  {
   "cell_type": "code",
   "execution_count": 325,
   "metadata": {},
   "outputs": [],
   "source": [
    "things.append(b\"Terran_Science_Vessel\")"
   ]
  },
  {
   "cell_type": "code",
   "execution_count": 326,
   "metadata": {},
   "outputs": [],
   "source": [
    "things.append(b\"Terran_Valkyrie\")"
   ]
  },
  {
   "cell_type": "code",
   "execution_count": 327,
   "metadata": {},
   "outputs": [],
   "source": [
    "things.append(b\"Terran_Wraith\")"
   ]
  },
  {
   "cell_type": "code",
   "execution_count": 328,
   "metadata": {},
   "outputs": [],
   "source": [
    "things.append(b\"Terran_Academy\")"
   ]
  },
  {
   "cell_type": "code",
   "execution_count": 329,
   "metadata": {},
   "outputs": [],
   "source": [
    "things.append(b\"Terran_Armory\")"
   ]
  },
  {
   "cell_type": "code",
   "execution_count": 330,
   "metadata": {},
   "outputs": [],
   "source": [
    "things.append(b\"Terran_Barracks\")"
   ]
  },
  {
   "cell_type": "code",
   "execution_count": 331,
   "metadata": {},
   "outputs": [],
   "source": [
    "things.append(b\"Terran_Bunker\")"
   ]
  },
  {
   "cell_type": "code",
   "execution_count": 332,
   "metadata": {},
   "outputs": [],
   "source": [
    "things.append(b\"Terran_Command_Center\")"
   ]
  },
  {
   "cell_type": "code",
   "execution_count": 333,
   "metadata": {},
   "outputs": [],
   "source": [
    "things.append(b\"Terran_Enginnering_Bay\")"
   ]
  },
  {
   "cell_type": "code",
   "execution_count": 334,
   "metadata": {},
   "outputs": [],
   "source": [
    "things.append(b\"Terran_Factory\")"
   ]
  },
  {
   "cell_type": "code",
   "execution_count": 335,
   "metadata": {},
   "outputs": [],
   "source": [
    "things.append(b\"Terran_Missile_Turret\")"
   ]
  },
  {
   "cell_type": "code",
   "execution_count": 336,
   "metadata": {},
   "outputs": [],
   "source": [
    "things.append(b\"Terran_Refinery\")"
   ]
  },
  {
   "cell_type": "code",
   "execution_count": 337,
   "metadata": {},
   "outputs": [],
   "source": [
    "things.append(b\"Terran_Sience_Facility\")"
   ]
  },
  {
   "cell_type": "code",
   "execution_count": 338,
   "metadata": {},
   "outputs": [],
   "source": [
    "things.append(b\"Terran_Starport\")"
   ]
  },
  {
   "cell_type": "code",
   "execution_count": 339,
   "metadata": {},
   "outputs": [],
   "source": [
    "things.append(b\"Terran_Supply_Depot\")"
   ]
  },
  {
   "cell_type": "code",
   "execution_count": 340,
   "metadata": {},
   "outputs": [],
   "source": [
    "things.append(b\"Terran_Comsat_Station\")"
   ]
  },
  {
   "cell_type": "code",
   "execution_count": 341,
   "metadata": {},
   "outputs": [],
   "source": [
    "things.append(b\"Terran_Control_Tower\")"
   ]
  },
  {
   "cell_type": "code",
   "execution_count": 342,
   "metadata": {},
   "outputs": [],
   "source": [
    "things.append(b\"Terran_Covert_Ops\")"
   ]
  },
  {
   "cell_type": "code",
   "execution_count": 343,
   "metadata": {},
   "outputs": [],
   "source": [
    "things.append(b\"Terran_Machine_Shop\")"
   ]
  },
  {
   "cell_type": "code",
   "execution_count": 344,
   "metadata": {},
   "outputs": [],
   "source": [
    "things.append(b\"Terran_Nuclear_Silo\")"
   ]
  },
  {
   "cell_type": "code",
   "execution_count": 345,
   "metadata": {},
   "outputs": [],
   "source": [
    "things.append(b\"Terran_Physics_Lab\")"
   ]
  },
  {
   "cell_type": "code",
   "execution_count": 346,
   "metadata": {},
   "outputs": [],
   "source": [
    "things.append(b\"Protoss_Archon\")"
   ]
  },
  {
   "cell_type": "code",
   "execution_count": 347,
   "metadata": {},
   "outputs": [],
   "source": [
    "things.append(b\"Protoss_Dark_Archon\")"
   ]
  },
  {
   "cell_type": "code",
   "execution_count": 348,
   "metadata": {},
   "outputs": [],
   "source": [
    "things.append(b\"Protoss_Dark_Templar\")"
   ]
  },
  {
   "cell_type": "code",
   "execution_count": 349,
   "metadata": {},
   "outputs": [],
   "source": [
    "things.append(b\"Protoss_Dragoon\")"
   ]
  },
  {
   "cell_type": "code",
   "execution_count": 350,
   "metadata": {},
   "outputs": [],
   "source": [
    "things.append(b\"Protoss_High_Templar\")"
   ]
  },
  {
   "cell_type": "code",
   "execution_count": 351,
   "metadata": {},
   "outputs": [],
   "source": [
    "things.append(b\"Protoss_Probe\")"
   ]
  },
  {
   "cell_type": "code",
   "execution_count": 352,
   "metadata": {},
   "outputs": [],
   "source": [
    "things.append(b\"Protoss_Reaver\")"
   ]
  },
  {
   "cell_type": "code",
   "execution_count": 353,
   "metadata": {},
   "outputs": [],
   "source": [
    "things.append(b\"Protoss_Scarab\")"
   ]
  },
  {
   "cell_type": "code",
   "execution_count": 354,
   "metadata": {},
   "outputs": [],
   "source": [
    "things.append(b\"Protoss_Zealot\")"
   ]
  },
  {
   "cell_type": "code",
   "execution_count": 355,
   "metadata": {},
   "outputs": [],
   "source": [
    "things.append(b\"Protoss_Arbiter\")"
   ]
  },
  {
   "cell_type": "code",
   "execution_count": 356,
   "metadata": {},
   "outputs": [],
   "source": [
    "things.append(b\"Protoss_Carrier\")"
   ]
  },
  {
   "cell_type": "code",
   "execution_count": 357,
   "metadata": {},
   "outputs": [],
   "source": [
    "things.append(b\"Protoss_Corsair\")"
   ]
  },
  {
   "cell_type": "code",
   "execution_count": 358,
   "metadata": {},
   "outputs": [],
   "source": [
    "things.append(b\"Protoss_Interceptor\")"
   ]
  },
  {
   "cell_type": "code",
   "execution_count": 359,
   "metadata": {},
   "outputs": [],
   "source": [
    "things.append(b\"Protoss_Observer\")"
   ]
  },
  {
   "cell_type": "code",
   "execution_count": 360,
   "metadata": {},
   "outputs": [],
   "source": [
    "things.append(b\"Protoss_Scout\")"
   ]
  },
  {
   "cell_type": "code",
   "execution_count": 361,
   "metadata": {},
   "outputs": [],
   "source": [
    "things.append(b\"Protoss_Shuttle\")"
   ]
  },
  {
   "cell_type": "code",
   "execution_count": 362,
   "metadata": {},
   "outputs": [],
   "source": [
    "things.append(b\"Protoss_Arbiter_Tribunal\")"
   ]
  },
  {
   "cell_type": "code",
   "execution_count": 363,
   "metadata": {},
   "outputs": [],
   "source": [
    "things.append(b\"Protoss_Assimilator\")"
   ]
  },
  {
   "cell_type": "code",
   "execution_count": 364,
   "metadata": {},
   "outputs": [],
   "source": [
    "things.append(b\"Protoss_Citadel_of_Adun\")"
   ]
  },
  {
   "cell_type": "code",
   "execution_count": 365,
   "metadata": {},
   "outputs": [],
   "source": [
    "things.append(b\"Protoss_Cybernetics_Core\")"
   ]
  },
  {
   "cell_type": "code",
   "execution_count": 366,
   "metadata": {},
   "outputs": [],
   "source": [
    "things.append(b\"Protoss_Fleet_Beacon\")"
   ]
  },
  {
   "cell_type": "code",
   "execution_count": 367,
   "metadata": {},
   "outputs": [],
   "source": [
    "things.append(b\"Protoss_Forge\")"
   ]
  },
  {
   "cell_type": "code",
   "execution_count": 368,
   "metadata": {},
   "outputs": [],
   "source": [
    "things.append(b\"Protoss_Gateway\")"
   ]
  },
  {
   "cell_type": "code",
   "execution_count": 369,
   "metadata": {},
   "outputs": [],
   "source": [
    "things.append(b\"Protoss_Nexus\")"
   ]
  },
  {
   "cell_type": "code",
   "execution_count": 370,
   "metadata": {},
   "outputs": [],
   "source": [
    "things.append(b\"Protoss_Observatory\")"
   ]
  },
  {
   "cell_type": "code",
   "execution_count": 371,
   "metadata": {},
   "outputs": [],
   "source": [
    "things.append(b\"Protoss_Photon_Cannon\")"
   ]
  },
  {
   "cell_type": "code",
   "execution_count": 372,
   "metadata": {},
   "outputs": [],
   "source": [
    "things.append(b\"Protoss_Pylon\")"
   ]
  },
  {
   "cell_type": "code",
   "execution_count": 373,
   "metadata": {},
   "outputs": [],
   "source": [
    "things.append(b\"Protoss_Robotics_Facility\")"
   ]
  },
  {
   "cell_type": "code",
   "execution_count": 374,
   "metadata": {},
   "outputs": [],
   "source": [
    "things.append(b\"Protoss_Robotics_Support_Bay\")"
   ]
  },
  {
   "cell_type": "code",
   "execution_count": 375,
   "metadata": {},
   "outputs": [],
   "source": [
    "things.append(b\"Protoss_Shield_Battery\")"
   ]
  },
  {
   "cell_type": "code",
   "execution_count": 376,
   "metadata": {},
   "outputs": [],
   "source": [
    "things.append(b\"Protoss_Stargate\")"
   ]
  },
  {
   "cell_type": "code",
   "execution_count": 377,
   "metadata": {},
   "outputs": [],
   "source": [
    "things.append(b\"Protoss_Templar_Archives\")"
   ]
  },
  {
   "cell_type": "code",
   "execution_count": 378,
   "metadata": {},
   "outputs": [],
   "source": [
    "things.append(b\"Zerg_Broodling\")"
   ]
  },
  {
   "cell_type": "code",
   "execution_count": 379,
   "metadata": {},
   "outputs": [],
   "source": [
    "things.append(b\"Zerg_Defiler\")"
   ]
  },
  {
   "cell_type": "code",
   "execution_count": 380,
   "metadata": {},
   "outputs": [],
   "source": [
    "things.append(b\"Zerg_Drone\")"
   ]
  },
  {
   "cell_type": "code",
   "execution_count": 381,
   "metadata": {},
   "outputs": [],
   "source": [
    "things.append(b\"Zerg_Egg\")"
   ]
  },
  {
   "cell_type": "code",
   "execution_count": 382,
   "metadata": {},
   "outputs": [],
   "source": [
    "things.append(b\"Zerg_Hydralisk\")"
   ]
  },
  {
   "cell_type": "code",
   "execution_count": 383,
   "metadata": {},
   "outputs": [],
   "source": [
    "things.append(b\"Zerg_Infested_Terran\")"
   ]
  },
  {
   "cell_type": "code",
   "execution_count": 384,
   "metadata": {},
   "outputs": [],
   "source": [
    "things.append(b\"Zerg_Larva\")"
   ]
  },
  {
   "cell_type": "code",
   "execution_count": 385,
   "metadata": {},
   "outputs": [],
   "source": [
    "things.append(b\"Zerg_Lurker\")"
   ]
  },
  {
   "cell_type": "code",
   "execution_count": 386,
   "metadata": {},
   "outputs": [],
   "source": [
    "things.append(b\"Zerg_Lurker_Egg\")"
   ]
  },
  {
   "cell_type": "code",
   "execution_count": 387,
   "metadata": {},
   "outputs": [],
   "source": [
    "things.append(b\"Zerg_Ultralisk\")"
   ]
  },
  {
   "cell_type": "code",
   "execution_count": 388,
   "metadata": {},
   "outputs": [],
   "source": [
    "things.append(b\"Zerg_Zergling\")"
   ]
  },
  {
   "cell_type": "code",
   "execution_count": 389,
   "metadata": {},
   "outputs": [],
   "source": [
    "things.append(b\"Zerg_Cocoon\")"
   ]
  },
  {
   "cell_type": "code",
   "execution_count": 390,
   "metadata": {},
   "outputs": [],
   "source": [
    "things.append(b\"Zerg_Devourer\")"
   ]
  },
  {
   "cell_type": "code",
   "execution_count": 391,
   "metadata": {},
   "outputs": [],
   "source": [
    "things.append(b\"Zerg_Guardian\")"
   ]
  },
  {
   "cell_type": "code",
   "execution_count": 392,
   "metadata": {},
   "outputs": [],
   "source": [
    "things.append(b\"Zerg_Mutalisk\")"
   ]
  },
  {
   "cell_type": "code",
   "execution_count": 393,
   "metadata": {},
   "outputs": [],
   "source": [
    "things.append(b\"Zerg_Overlord\")"
   ]
  },
  {
   "cell_type": "code",
   "execution_count": 394,
   "metadata": {},
   "outputs": [],
   "source": [
    "things.append(b\"Zerg_Queen\")"
   ]
  },
  {
   "cell_type": "code",
   "execution_count": 395,
   "metadata": {},
   "outputs": [],
   "source": [
    "things.append(b\"Zerg_Scourge\")"
   ]
  },
  {
   "cell_type": "code",
   "execution_count": 396,
   "metadata": {},
   "outputs": [],
   "source": [
    "things.append(b\"Zerg_Creep_Colony\")"
   ]
  },
  {
   "cell_type": "code",
   "execution_count": 397,
   "metadata": {},
   "outputs": [],
   "source": [
    "things.append(b\"Zerg_Defiler_Mound\")"
   ]
  },
  {
   "cell_type": "code",
   "execution_count": 398,
   "metadata": {},
   "outputs": [],
   "source": [
    "things.append(b\"Zerg_Evolution_Chamber\")"
   ]
  },
  {
   "cell_type": "code",
   "execution_count": 399,
   "metadata": {},
   "outputs": [],
   "source": [
    "things.append(b\"Zerg_Extractor\")"
   ]
  },
  {
   "cell_type": "code",
   "execution_count": 400,
   "metadata": {},
   "outputs": [],
   "source": [
    "things.append(b\"Zerg_Greater_Spire\")"
   ]
  },
  {
   "cell_type": "code",
   "execution_count": 401,
   "metadata": {},
   "outputs": [],
   "source": [
    "things.append(b\"Zerg_Hatchery\")"
   ]
  },
  {
   "cell_type": "code",
   "execution_count": 402,
   "metadata": {},
   "outputs": [],
   "source": [
    "things.append(b\"Zerg_Hive\")"
   ]
  },
  {
   "cell_type": "code",
   "execution_count": 403,
   "metadata": {},
   "outputs": [],
   "source": [
    "things.append(b\"Zerg_Hydralisk_Den\")"
   ]
  },
  {
   "cell_type": "code",
   "execution_count": 404,
   "metadata": {},
   "outputs": [],
   "source": [
    "things.append(b\"Zerg_Infested_Command_Center\")"
   ]
  },
  {
   "cell_type": "code",
   "execution_count": 405,
   "metadata": {},
   "outputs": [],
   "source": [
    "things.append(b\"Zerg_Lair\")"
   ]
  },
  {
   "cell_type": "code",
   "execution_count": 406,
   "metadata": {},
   "outputs": [],
   "source": [
    "things.append(b\"Zerg_Nydus_Canal\")"
   ]
  },
  {
   "cell_type": "code",
   "execution_count": 407,
   "metadata": {},
   "outputs": [],
   "source": [
    "things.append(b\"Zerg_Queens_Nest\")"
   ]
  },
  {
   "cell_type": "code",
   "execution_count": 408,
   "metadata": {},
   "outputs": [],
   "source": [
    "things.append(b\"Zerg_Spawning_Pool\")"
   ]
  },
  {
   "cell_type": "code",
   "execution_count": 409,
   "metadata": {},
   "outputs": [],
   "source": [
    "things.append(b\"Zerg_Spire\")"
   ]
  },
  {
   "cell_type": "code",
   "execution_count": 410,
   "metadata": {},
   "outputs": [],
   "source": [
    "things.append(b\"Zerg_Spore_Colony\")"
   ]
  },
  {
   "cell_type": "code",
   "execution_count": 411,
   "metadata": {},
   "outputs": [],
   "source": [
    "things.append(b\"Zerg_Sunken_Colony\")"
   ]
  },
  {
   "cell_type": "code",
   "execution_count": 412,
   "metadata": {},
   "outputs": [],
   "source": [
    "things.append(b\"Zerg_Ultralisk_Cavern\")"
   ]
  },
  {
   "cell_type": "code",
   "execution_count": 413,
   "metadata": {},
   "outputs": [],
   "source": [
    "things.append(b\"Resource_Mineral_Field\")"
   ]
  },
  {
   "cell_type": "code",
   "execution_count": 414,
   "metadata": {},
   "outputs": [],
   "source": [
    "things.append(b\"Resource_Mineral_Field_Type_2\")"
   ]
  },
  {
   "cell_type": "code",
   "execution_count": 415,
   "metadata": {},
   "outputs": [],
   "source": [
    "things.append(b\"Resource_Mineral_Field_Type_3\")"
   ]
  },
  {
   "cell_type": "code",
   "execution_count": 416,
   "metadata": {},
   "outputs": [],
   "source": [
    "things.append(b\"Resource_Vespene_Geyser\")"
   ]
  },
  {
   "cell_type": "code",
   "execution_count": 417,
   "metadata": {},
   "outputs": [],
   "source": [
    "things.append(b\"Spell_Dark_Swarm\")"
   ]
  },
  {
   "cell_type": "code",
   "execution_count": 418,
   "metadata": {},
   "outputs": [],
   "source": [
    "things.append(b\"Spell_Disruption_Web\")"
   ]
  },
  {
   "cell_type": "code",
   "execution_count": 419,
   "metadata": {},
   "outputs": [],
   "source": [
    "things.append(b\"Spell_Scanner_Sweep\")"
   ]
  },
  {
   "cell_type": "code",
   "execution_count": 420,
   "metadata": {},
   "outputs": [
    {
     "name": "stdout",
     "output_type": "stream",
     "text": [
      "0b1568dd0ce151a9733e318f376d21e9 b'Terran_Firebat'\n",
      "e082663682cbdcb36785e86146a1d0d8 b'Terran_Ghost'\n",
      "5278031c7aee5b20d29fe8bfdc782b47 b'Terran_Goliath'\n",
      "c69cb36c140382baa87cdebc1ad48a92 b'Terran_Marine'\n",
      "ae577880c8d171515d6f8f354718017e b'Terran_Medic'\n",
      "4c7b0e52c852ab73dc8e51ba4690b4d3 b'Terran_SCV'\n",
      "c691558343f24769462b91f23863bdcc b'Terran_Siege_Tank_Siege_Mode'\n",
      "d74ea28fc20d466a1980aeed775bd993 b'Terran_Siege_Tank_Tank_Mode'\n",
      "8d485e68a53a1cebd92fc735b9f99143 b'Terran_Vulture'\n",
      "296bf0a5899345582d51f695751eff61 b'Terran_Vulture_Spider_Mine'\n",
      "10bc4b65d446b586b37ccec60fb87454 b'Terran_Battlecruiser'\n",
      "99515e49d4124d9c60cb0b15ed025386 b'Terran_Dropship'\n",
      "8aa3c2bb553fbf8442a5d9eff56aea2d b'Terran_Nuclear_Missile'\n",
      "67b9390dff0e53fcf8011ffa285c0431 b'Terran_Science_Vessel'\n",
      "4974fe23fed6df1bbf2deb5fba935b6f b'Terran_Valkyrie'\n",
      "c96cc0056627dce254d2abf7793c1c92 b'Terran_Wraith'\n",
      "82edcde3377b1650d94033fc092042fd b'Terran_Academy'\n",
      "a8dc7e1b45955da238d449cf1fb6f908 b'Terran_Armory'\n",
      "f2ab423108511814ba46716e0a0d03a9 b'Terran_Barracks'\n",
      "ae11bb1284eb7dd270cc8bc59536f1e4 b'Terran_Bunker'\n",
      "8b295ee9723a1dddf20a5a7007159657 b'Terran_Command_Center'\n",
      "1d23cc6824d61174df495ffa2bed6926 b'Terran_Enginnering_Bay'\n",
      "9ab6e4ab2ac4125c0f7f420785cb6328 b'Terran_Factory'\n",
      "81e01618dc57a40feb18a0bec4442356 b'Terran_Missile_Turret'\n",
      "6a4372a0fa1ad79016f52237033d85a7 b'Terran_Refinery'\n",
      "d46cfcfedf47c6545ddeecb086d68299 b'Terran_Sience_Facility'\n",
      "33f5692e0cc647b1a650e1611aba9aa8 b'Terran_Starport'\n",
      "d3efc4b5b22433b5dc80161e9f9c4b03 b'Terran_Supply_Depot'\n",
      "7f1c6b0d7ecb14bb8bb7c65aa2a8271e b'Terran_Comsat_Station'\n",
      "487583895370c3673019af31ec87e559 b'Terran_Control_Tower'\n",
      "ce0fbb331135a40440a45711883c90ee b'Terran_Covert_Ops'\n",
      "8b64b9952e671df87bcc0004313e0038 b'Terran_Machine_Shop'\n",
      "6b72d16ff7549f26f488feb0c65dd941 b'Terran_Nuclear_Silo'\n",
      "d56716b45d4d9652794081ab13aba90d b'Terran_Physics_Lab'\n",
      "14ab45144d2a8f7590fe08864118c45c b'Protoss_Archon'\n",
      "53ea39dbc67fb8f7a5e174af00f0f14d b'Protoss_Dark_Archon'\n",
      "da98cfdc1844fbef97836a92b4119417 b'Protoss_Dark_Templar'\n",
      "4206149359f86363a0af6b07b2cdb2ed b'Protoss_Dragoon'\n",
      "b8acd8b494b925201790bab46e7883b9 b'Protoss_High_Templar'\n",
      "983d40922d3eee7590dc7c8dff8ab043 b'Protoss_Probe'\n",
      "b3ccb6d4704f49e9998aa69ef9e90017 b'Protoss_Reaver'\n",
      "6f22571fff919b323cc49d7ab8c150c3 b'Protoss_Scarab'\n",
      "79625b6a66fbe5f7a7853891378799be b'Protoss_Zealot'\n",
      "793b167611a91171ed8d759562657d09 b'Protoss_Arbiter'\n",
      "c7b26474826e35fc09a278d14936d9f4 b'Protoss_Carrier'\n",
      "4b39027460eb4c5d5eb0975bcac2247c b'Protoss_Corsair'\n",
      "fa87475904b3ae25f1b221ca8135060c b'Protoss_Interceptor'\n",
      "58e318c0246c59fc593d83fa8559bf02 b'Protoss_Observer'\n",
      "d9d98eb63f5696d1ea69a9053cda222b b'Protoss_Scout'\n",
      "68bff18fba80390887f170dcd14b4274 b'Protoss_Shuttle'\n",
      "d17cb50ca14775ba8c5f429493a4c127 b'Protoss_Arbiter_Tribunal'\n",
      "60cd74573e50a2c46d768921437b6d40 b'Protoss_Assimilator'\n",
      "b740a5435d18a509fa8fab9a5317023d b'Protoss_Citadel_of_Adun'\n",
      "6b311a7487e03267b7bd4c55ea409d95 b'Protoss_Cybernetics_Core'\n",
      "89af9c68c67bd1dd7e36a58ae8e433ea b'Protoss_Fleet_Beacon'\n",
      "5c69cfdfffcecb0d77b7b7bac87fd4f8 b'Protoss_Forge'\n",
      "15c4d2a1edef3c2950950315fab7d54e b'Protoss_Gateway'\n",
      "35df8f645cb528bf632ff50950235480 b'Protoss_Nexus'\n",
      "460cee1c15052d00a00293c2971e3638 b'Protoss_Observatory'\n",
      "b06e5483c17ef29e01a0ec995c0535de b'Protoss_Photon_Cannon'\n",
      "d08058ef757165d0608beb568dddef7b b'Protoss_Pylon'\n",
      "a8d96f9f101896509588e74ab62d3d8f b'Protoss_Robotics_Facility'\n",
      "270873caff1594985b1516ceb4a12fcb b'Protoss_Robotics_Support_Bay'\n",
      "24488ff3fb21b1c333dee875c50beb3b b'Protoss_Shield_Battery'\n",
      "0635ca2c31ba6fce9cb1008f846795a6 b'Protoss_Stargate'\n",
      "53ea1414b6dff551806a543c9ef5926f b'Protoss_Templar_Archives'\n",
      "7cae102705e51c2bc9d0b886af6c2f75 b'Zerg_Broodling'\n",
      "974ccf03c2cebaedb160c8c976ccd196 b'Zerg_Defiler'\n",
      "3244f190e0b0fc28baa2ce60c615512a b'Zerg_Drone'\n",
      "db20647a17898dd022b875b5d54fce71 b'Zerg_Egg'\n",
      "7fe177a97f36a3c91ae9185ec8dad2f7 b'Zerg_Hydralisk'\n",
      "9bf7612bf00a468154bd19e6809d651a b'Zerg_Infested_Terran'\n",
      "2675712dfbab5ec154eb6a1c3da3f51b b'Zerg_Larva'\n",
      "802e25f664bbb92a6a41ae29be25abe9 b'Zerg_Lurker'\n",
      "470b4cde9aa501d1d694a1f6a2eadba5 b'Zerg_Lurker_Egg'\n",
      "df313b97251ec8a50dffc238a31d7e11 b'Zerg_Ultralisk'\n",
      "a83944a7467537757e52c178dda339f0 b'Zerg_Zergling'\n",
      "5b43f1dde684d2bbc2b71e1a2b6ff681 b'Zerg_Cocoon'\n",
      "529122331581c82c34d8284ac07c1636 b'Zerg_Devourer'\n",
      "f86b891aa2c83011b9114485efabedb1 b'Zerg_Guardian'\n",
      "9f5a75ad491437bfa1b342459d9a3806 b'Zerg_Mutalisk'\n",
      "7205d1cfd51ca54cb033183a12f92573 b'Zerg_Overlord'\n",
      "6531923c8f81b03535d041faa14c867c b'Zerg_Queen'\n",
      "46f722e1424442a185f160914566554c b'Zerg_Scourge'\n",
      "f4cb17f2e6a99c54831367b120678d42 b'Zerg_Creep_Colony'\n",
      "35e26b8e4024720b4315650eae0c5056 b'Zerg_Defiler_Mound'\n",
      "daeef588da2c97c097504a72736bb9a6 b'Zerg_Evolution_Chamber'\n",
      "7692a6e24010266a3e34ed0415533c8a b'Zerg_Extractor'\n",
      "e3289632f5dde06931179d469695e11e b'Zerg_Greater_Spire'\n",
      "37cd9f9a02fd1e538b867b582023dcf4 b'Zerg_Hatchery'\n",
      "17767e546c8208e55b91531715d0c6fe b'Zerg_Hive'\n",
      "e260c72c3547a7f1f302b70835bc60ad b'Zerg_Hydralisk_Den'\n",
      "614ad2f3fa28d442e373cab552428fbc b'Zerg_Infested_Command_Center'\n",
      "abd7f02418f84efc7cf304f02f245edd b'Zerg_Lair'\n",
      "107e2d6a116293487d3b7c523df36f24 b'Zerg_Nydus_Canal'\n",
      "2c598244d8437973138a7fc9c13308ce b'Zerg_Queens_Nest'\n",
      "784a5f767aaa9e34251e58974c189aad b'Zerg_Spawning_Pool'\n",
      "13fee03740c963e9fd99857346a0b886 b'Zerg_Spire'\n",
      "86fbfa53e969854ae7df2f47fee68200 b'Zerg_Spore_Colony'\n",
      "3b0bbd8d99d92ed69a56fab6cffa91c7 b'Zerg_Sunken_Colony'\n",
      "4fd73b5c775e8ad7682aea853d8c1fdd b'Zerg_Ultralisk_Cavern'\n",
      "c3b3fc9639fbca0ba0e5bacc82852584 b'Resource_Mineral_Field'\n",
      "cb663192b06c97ee4a29fd28f0690145 b'Resource_Mineral_Field_Type_2'\n",
      "417e28ff6da2cfea833bb7233c65c14c b'Resource_Mineral_Field_Type_3'\n",
      "dbbb2b1cbc6891edd50e457861fcb857 b'Resource_Vespene_Geyser'\n",
      "69c57c49a439dae05a6e77ad78f0f4e8 b'Spell_Dark_Swarm'\n",
      "99856064e858fd95e70cf7eba555a394 b'Spell_Disruption_Web'\n",
      "d7eb615166872098c13cca87c9efb7f4 b'Spell_Scanner_Sweep'\n"
     ]
    }
   ],
   "source": [
    "for x in things:\n",
    "    print(hashlib.md5(x).hexdigest(), x)"
   ]
  }
 ],
 "metadata": {
  "kernelspec": {
   "display_name": "Python 3",
   "language": "python",
   "name": "python3"
  },
  "language_info": {
   "codemirror_mode": {
    "name": "ipython",
    "version": 3
   },
   "file_extension": ".py",
   "mimetype": "text/x-python",
   "name": "python",
   "nbconvert_exporter": "python",
   "pygments_lexer": "ipython3",
   "version": "3.7.3"
  }
 },
 "nbformat": 4,
 "nbformat_minor": 2
}
