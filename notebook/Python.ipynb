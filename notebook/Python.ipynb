{
 "cells": [
  {
   "cell_type": "code",
   "execution_count": 1,
   "metadata": {},
   "outputs": [
    {
     "name": "stdout",
     "output_type": "stream",
     "text": [
      "b'Hello Python!'\n"
     ]
    }
   ],
   "source": [
    "print(b\"Hello Python!\")"
   ]
  },
  {
   "cell_type": "markdown",
   "metadata": {},
   "source": [
    "### Git 2.19 Switch to the SHA-256 hash algorithm"
   ]
  },
  {
   "cell_type": "code",
   "execution_count": 2,
   "metadata": {},
   "outputs": [],
   "source": [
    "import hashlib"
   ]
  },
  {
   "cell_type": "code",
   "execution_count": 3,
   "metadata": {},
   "outputs": [
    {
     "data": {
      "text/plain": [
       "64"
      ]
     },
     "execution_count": 3,
     "metadata": {},
     "output_type": "execute_result"
    }
   ],
   "source": [
    "len(hashlib.sha256(b\"unit mango 1\").hexdigest())"
   ]
  },
  {
   "cell_type": "code",
   "execution_count": 4,
   "metadata": {},
   "outputs": [
    {
     "data": {
      "text/plain": [
       "32"
      ]
     },
     "execution_count": 4,
     "metadata": {},
     "output_type": "execute_result"
    }
   ],
   "source": [
    "len('6531923c8f81b03535d041faa14c867c')"
   ]
  },
  {
   "cell_type": "code",
   "execution_count": 5,
   "metadata": {},
   "outputs": [
    {
     "data": {
      "text/plain": [
       "'974ccf03c2cebaedb160c8c976ccd196'"
      ]
     },
     "execution_count": 5,
     "metadata": {},
     "output_type": "execute_result"
    }
   ],
   "source": [
    "hashlib.md5(b\"Zerg_Defiler\").hexdigest()"
   ]
  },
  {
   "cell_type": "code",
   "execution_count": 6,
   "metadata": {},
   "outputs": [
    {
     "data": {
      "text/plain": [
       "'a88f3ee9de91c4c32e95284caee31e55'"
      ]
     },
     "execution_count": 6,
     "metadata": {},
     "output_type": "execute_result"
    }
   ],
   "source": [
    "hashlib.md5(b\"unit mango 1\").hexdigest()"
   ]
  },
  {
   "cell_type": "code",
   "execution_count": 7,
   "metadata": {},
   "outputs": [],
   "source": [
    "things = []"
   ]
  },
  {
   "cell_type": "markdown",
   "metadata": {},
   "source": [
    "## Brood War things"
   ]
  },
  {
   "cell_type": "code",
   "execution_count": 8,
   "metadata": {},
   "outputs": [],
   "source": [
    "things.append(b\"Terran_Firebat\")"
   ]
  },
  {
   "cell_type": "code",
   "execution_count": 9,
   "metadata": {},
   "outputs": [],
   "source": [
    "things.append(b\"Terran_Ghost\")"
   ]
  },
  {
   "cell_type": "code",
   "execution_count": 10,
   "metadata": {},
   "outputs": [],
   "source": [
    "things.append(b\"Terran_Goliath\")"
   ]
  },
  {
   "cell_type": "code",
   "execution_count": 11,
   "metadata": {},
   "outputs": [],
   "source": [
    "things.append(b\"Terran_Marine\")"
   ]
  },
  {
   "cell_type": "code",
   "execution_count": 12,
   "metadata": {},
   "outputs": [],
   "source": [
    "things.append(b\"Terran_Medic\")"
   ]
  },
  {
   "cell_type": "code",
   "execution_count": 13,
   "metadata": {},
   "outputs": [],
   "source": [
    "things.append(b\"Terran_SCV\")"
   ]
  },
  {
   "cell_type": "code",
   "execution_count": 14,
   "metadata": {},
   "outputs": [],
   "source": [
    "things.append(b\"Terran_Siege_Tank_Siege_Mode\")"
   ]
  },
  {
   "cell_type": "code",
   "execution_count": 15,
   "metadata": {},
   "outputs": [],
   "source": [
    "things.append(b\"Terran_Siege_Tank_Tank_Mode\")"
   ]
  },
  {
   "cell_type": "code",
   "execution_count": 16,
   "metadata": {},
   "outputs": [],
   "source": [
    "things.append(b\"Terran_Vulture\")"
   ]
  },
  {
   "cell_type": "code",
   "execution_count": 17,
   "metadata": {},
   "outputs": [],
   "source": [
    "things.append(b\"Terran_Vulture_Spider_Mine\")"
   ]
  },
  {
   "cell_type": "code",
   "execution_count": 18,
   "metadata": {},
   "outputs": [],
   "source": [
    "things.append(b\"Terran_Battlecruiser\")"
   ]
  },
  {
   "cell_type": "code",
   "execution_count": 19,
   "metadata": {},
   "outputs": [],
   "source": [
    "things.append(b\"Terran_Dropship\")"
   ]
  },
  {
   "cell_type": "code",
   "execution_count": 20,
   "metadata": {},
   "outputs": [],
   "source": [
    "things.append(b\"Terran_Nuclear_Missile\")"
   ]
  },
  {
   "cell_type": "code",
   "execution_count": 21,
   "metadata": {},
   "outputs": [],
   "source": [
    "things.append(b\"Terran_Science_Vessel\")"
   ]
  },
  {
   "cell_type": "code",
   "execution_count": 22,
   "metadata": {},
   "outputs": [],
   "source": [
    "things.append(b\"Terran_Valkyrie\")"
   ]
  },
  {
   "cell_type": "code",
   "execution_count": 23,
   "metadata": {},
   "outputs": [],
   "source": [
    "things.append(b\"Terran_Wraith\")"
   ]
  },
  {
   "cell_type": "code",
   "execution_count": 24,
   "metadata": {},
   "outputs": [],
   "source": [
    "things.append(b\"Terran_Academy\")"
   ]
  },
  {
   "cell_type": "code",
   "execution_count": 25,
   "metadata": {},
   "outputs": [],
   "source": [
    "things.append(b\"Terran_Armory\")"
   ]
  },
  {
   "cell_type": "code",
   "execution_count": 26,
   "metadata": {},
   "outputs": [],
   "source": [
    "things.append(b\"Terran_Barracks\")"
   ]
  },
  {
   "cell_type": "code",
   "execution_count": 27,
   "metadata": {},
   "outputs": [],
   "source": [
    "things.append(b\"Terran_Bunker\")"
   ]
  },
  {
   "cell_type": "code",
   "execution_count": 28,
   "metadata": {},
   "outputs": [],
   "source": [
    "things.append(b\"Terran_Command_Center\")"
   ]
  },
  {
   "cell_type": "code",
   "execution_count": 29,
   "metadata": {},
   "outputs": [],
   "source": [
    "things.append(b\"Terran_Enginnering_Bay\")"
   ]
  },
  {
   "cell_type": "code",
   "execution_count": 30,
   "metadata": {},
   "outputs": [],
   "source": [
    "things.append(b\"Terran_Factory\")"
   ]
  },
  {
   "cell_type": "code",
   "execution_count": 31,
   "metadata": {},
   "outputs": [],
   "source": [
    "things.append(b\"Terran_Missile_Turret\")"
   ]
  },
  {
   "cell_type": "code",
   "execution_count": 32,
   "metadata": {},
   "outputs": [],
   "source": [
    "things.append(b\"Terran_Refinery\")"
   ]
  },
  {
   "cell_type": "code",
   "execution_count": 33,
   "metadata": {},
   "outputs": [],
   "source": [
    "things.append(b\"Terran_Sience_Facility\")"
   ]
  },
  {
   "cell_type": "code",
   "execution_count": 34,
   "metadata": {},
   "outputs": [],
   "source": [
    "things.append(b\"Terran_Starport\")"
   ]
  },
  {
   "cell_type": "code",
   "execution_count": 35,
   "metadata": {},
   "outputs": [],
   "source": [
    "things.append(b\"Terran_Supply_Depot\")"
   ]
  },
  {
   "cell_type": "code",
   "execution_count": 36,
   "metadata": {},
   "outputs": [],
   "source": [
    "things.append(b\"Terran_Comsat_Station\")"
   ]
  },
  {
   "cell_type": "code",
   "execution_count": 37,
   "metadata": {},
   "outputs": [],
   "source": [
    "things.append(b\"Terran_Control_Tower\")"
   ]
  },
  {
   "cell_type": "code",
   "execution_count": 38,
   "metadata": {},
   "outputs": [],
   "source": [
    "things.append(b\"Terran_Covert_Ops\")"
   ]
  },
  {
   "cell_type": "code",
   "execution_count": 39,
   "metadata": {},
   "outputs": [],
   "source": [
    "things.append(b\"Terran_Machine_Shop\")"
   ]
  },
  {
   "cell_type": "code",
   "execution_count": 40,
   "metadata": {},
   "outputs": [],
   "source": [
    "things.append(b\"Terran_Nuclear_Silo\")"
   ]
  },
  {
   "cell_type": "code",
   "execution_count": 41,
   "metadata": {},
   "outputs": [],
   "source": [
    "things.append(b\"Terran_Physics_Lab\")"
   ]
  },
  {
   "cell_type": "code",
   "execution_count": 42,
   "metadata": {},
   "outputs": [],
   "source": [
    "things.append(b\"Protoss_Archon\")"
   ]
  },
  {
   "cell_type": "code",
   "execution_count": 43,
   "metadata": {},
   "outputs": [],
   "source": [
    "things.append(b\"Protoss_Dark_Archon\")"
   ]
  },
  {
   "cell_type": "code",
   "execution_count": 44,
   "metadata": {},
   "outputs": [],
   "source": [
    "things.append(b\"Protoss_Dark_Templar\")"
   ]
  },
  {
   "cell_type": "code",
   "execution_count": 45,
   "metadata": {},
   "outputs": [],
   "source": [
    "things.append(b\"Protoss_Dragoon\")"
   ]
  },
  {
   "cell_type": "code",
   "execution_count": 46,
   "metadata": {},
   "outputs": [],
   "source": [
    "things.append(b\"Protoss_High_Templar\")"
   ]
  },
  {
   "cell_type": "code",
   "execution_count": 47,
   "metadata": {},
   "outputs": [],
   "source": [
    "things.append(b\"Protoss_Probe\")"
   ]
  },
  {
   "cell_type": "code",
   "execution_count": 48,
   "metadata": {},
   "outputs": [],
   "source": [
    "things.append(b\"Protoss_Reaver\")"
   ]
  },
  {
   "cell_type": "code",
   "execution_count": 49,
   "metadata": {},
   "outputs": [],
   "source": [
    "things.append(b\"Protoss_Scarab\")"
   ]
  },
  {
   "cell_type": "code",
   "execution_count": 50,
   "metadata": {},
   "outputs": [],
   "source": [
    "things.append(b\"Protoss_Zealot\")"
   ]
  },
  {
   "cell_type": "code",
   "execution_count": 51,
   "metadata": {},
   "outputs": [],
   "source": [
    "things.append(b\"Protoss_Arbiter\")"
   ]
  },
  {
   "cell_type": "code",
   "execution_count": 52,
   "metadata": {},
   "outputs": [],
   "source": [
    "things.append(b\"Protoss_Carrier\")"
   ]
  },
  {
   "cell_type": "code",
   "execution_count": 53,
   "metadata": {},
   "outputs": [],
   "source": [
    "things.append(b\"Protoss_Corsair\")"
   ]
  },
  {
   "cell_type": "code",
   "execution_count": 54,
   "metadata": {},
   "outputs": [],
   "source": [
    "things.append(b\"Protoss_Interceptor\")"
   ]
  },
  {
   "cell_type": "code",
   "execution_count": 55,
   "metadata": {},
   "outputs": [],
   "source": [
    "things.append(b\"Protoss_Observer\")"
   ]
  },
  {
   "cell_type": "code",
   "execution_count": 56,
   "metadata": {},
   "outputs": [],
   "source": [
    "things.append(b\"Protoss_Scout\")"
   ]
  },
  {
   "cell_type": "code",
   "execution_count": 57,
   "metadata": {},
   "outputs": [],
   "source": [
    "things.append(b\"Protoss_Shuttle\")"
   ]
  },
  {
   "cell_type": "code",
   "execution_count": 58,
   "metadata": {},
   "outputs": [],
   "source": [
    "things.append(b\"Protoss_Arbiter_Tribunal\")"
   ]
  },
  {
   "cell_type": "code",
   "execution_count": 59,
   "metadata": {},
   "outputs": [],
   "source": [
    "things.append(b\"Protoss_Assimilator\")"
   ]
  },
  {
   "cell_type": "code",
   "execution_count": 60,
   "metadata": {},
   "outputs": [],
   "source": [
    "things.append(b\"Protoss_Citadel_of_Adun\")"
   ]
  },
  {
   "cell_type": "code",
   "execution_count": 61,
   "metadata": {},
   "outputs": [],
   "source": [
    "things.append(b\"Protoss_Cybernetics_Core\")"
   ]
  },
  {
   "cell_type": "code",
   "execution_count": 62,
   "metadata": {},
   "outputs": [],
   "source": [
    "things.append(b\"Protoss_Fleet_Beacon\")"
   ]
  },
  {
   "cell_type": "code",
   "execution_count": 63,
   "metadata": {},
   "outputs": [],
   "source": [
    "things.append(b\"Protoss_Forge\")"
   ]
  },
  {
   "cell_type": "code",
   "execution_count": 64,
   "metadata": {},
   "outputs": [],
   "source": [
    "things.append(b\"Protoss_Gateway\")"
   ]
  },
  {
   "cell_type": "code",
   "execution_count": 65,
   "metadata": {},
   "outputs": [],
   "source": [
    "things.append(b\"Protoss_Nexus\")"
   ]
  },
  {
   "cell_type": "code",
   "execution_count": 66,
   "metadata": {},
   "outputs": [],
   "source": [
    "things.append(b\"Protoss_Observatory\")"
   ]
  },
  {
   "cell_type": "code",
   "execution_count": 67,
   "metadata": {},
   "outputs": [],
   "source": [
    "things.append(b\"Protoss_Photon_Cannon\")"
   ]
  },
  {
   "cell_type": "code",
   "execution_count": 68,
   "metadata": {},
   "outputs": [],
   "source": [
    "things.append(b\"Protoss_Pylon\")"
   ]
  },
  {
   "cell_type": "code",
   "execution_count": 69,
   "metadata": {},
   "outputs": [],
   "source": [
    "things.append(b\"Protoss_Robotics_Facility\")"
   ]
  },
  {
   "cell_type": "code",
   "execution_count": 70,
   "metadata": {},
   "outputs": [],
   "source": [
    "things.append(b\"Protoss_Robotics_Support_Bay\")"
   ]
  },
  {
   "cell_type": "code",
   "execution_count": 71,
   "metadata": {},
   "outputs": [],
   "source": [
    "things.append(b\"Protoss_Shield_Battery\")"
   ]
  },
  {
   "cell_type": "code",
   "execution_count": 72,
   "metadata": {},
   "outputs": [],
   "source": [
    "things.append(b\"Protoss_Stargate\")"
   ]
  },
  {
   "cell_type": "code",
   "execution_count": 73,
   "metadata": {},
   "outputs": [],
   "source": [
    "things.append(b\"Protoss_Templar_Archives\")"
   ]
  },
  {
   "cell_type": "code",
   "execution_count": 74,
   "metadata": {},
   "outputs": [],
   "source": [
    "things.append(b\"Zerg_Broodling\")"
   ]
  },
  {
   "cell_type": "code",
   "execution_count": 75,
   "metadata": {},
   "outputs": [],
   "source": [
    "things.append(b\"Zerg_Defiler\")"
   ]
  },
  {
   "cell_type": "code",
   "execution_count": 76,
   "metadata": {},
   "outputs": [],
   "source": [
    "things.append(b\"Zerg_Drone\")"
   ]
  },
  {
   "cell_type": "code",
   "execution_count": 77,
   "metadata": {},
   "outputs": [],
   "source": [
    "things.append(b\"Zerg_Egg\")"
   ]
  },
  {
   "cell_type": "code",
   "execution_count": 78,
   "metadata": {},
   "outputs": [],
   "source": [
    "things.append(b\"Zerg_Hydralisk\")"
   ]
  },
  {
   "cell_type": "code",
   "execution_count": 79,
   "metadata": {},
   "outputs": [],
   "source": [
    "things.append(b\"Zerg_Infested_Terran\")"
   ]
  },
  {
   "cell_type": "code",
   "execution_count": 80,
   "metadata": {},
   "outputs": [],
   "source": [
    "things.append(b\"Zerg_Larva\")"
   ]
  },
  {
   "cell_type": "code",
   "execution_count": 81,
   "metadata": {},
   "outputs": [],
   "source": [
    "things.append(b\"Zerg_Lurker\")"
   ]
  },
  {
   "cell_type": "code",
   "execution_count": 82,
   "metadata": {},
   "outputs": [],
   "source": [
    "things.append(b\"Zerg_Lurker_Egg\")"
   ]
  },
  {
   "cell_type": "code",
   "execution_count": 83,
   "metadata": {},
   "outputs": [],
   "source": [
    "things.append(b\"Zerg_Ultralisk\")"
   ]
  },
  {
   "cell_type": "code",
   "execution_count": 84,
   "metadata": {},
   "outputs": [],
   "source": [
    "things.append(b\"Zerg_Zergling\")"
   ]
  },
  {
   "cell_type": "code",
   "execution_count": 85,
   "metadata": {},
   "outputs": [],
   "source": [
    "things.append(b\"Zerg_Cocoon\")"
   ]
  },
  {
   "cell_type": "code",
   "execution_count": 86,
   "metadata": {},
   "outputs": [],
   "source": [
    "things.append(b\"Zerg_Devourer\")"
   ]
  },
  {
   "cell_type": "code",
   "execution_count": 87,
   "metadata": {},
   "outputs": [],
   "source": [
    "things.append(b\"Zerg_Guardian\")"
   ]
  },
  {
   "cell_type": "code",
   "execution_count": 88,
   "metadata": {},
   "outputs": [],
   "source": [
    "things.append(b\"Zerg_Mutalisk\")"
   ]
  },
  {
   "cell_type": "code",
   "execution_count": 89,
   "metadata": {},
   "outputs": [],
   "source": [
    "things.append(b\"Zerg_Overlord\")"
   ]
  },
  {
   "cell_type": "code",
   "execution_count": 90,
   "metadata": {},
   "outputs": [],
   "source": [
    "things.append(b\"Zerg_Queen\")"
   ]
  },
  {
   "cell_type": "code",
   "execution_count": 91,
   "metadata": {},
   "outputs": [],
   "source": [
    "things.append(b\"Zerg_Scourge\")"
   ]
  },
  {
   "cell_type": "code",
   "execution_count": 92,
   "metadata": {},
   "outputs": [],
   "source": [
    "things.append(b\"Zerg_Creep_Colony\")"
   ]
  },
  {
   "cell_type": "code",
   "execution_count": 93,
   "metadata": {},
   "outputs": [],
   "source": [
    "things.append(b\"Zerg_Defiler_Mound\")"
   ]
  },
  {
   "cell_type": "code",
   "execution_count": 94,
   "metadata": {},
   "outputs": [],
   "source": [
    "things.append(b\"Zerg_Evolution_Chamber\")"
   ]
  },
  {
   "cell_type": "code",
   "execution_count": 95,
   "metadata": {},
   "outputs": [],
   "source": [
    "things.append(b\"Zerg_Extractor\")"
   ]
  },
  {
   "cell_type": "code",
   "execution_count": 96,
   "metadata": {},
   "outputs": [],
   "source": [
    "things.append(b\"Zerg_Greater_Spire\")"
   ]
  },
  {
   "cell_type": "code",
   "execution_count": 97,
   "metadata": {},
   "outputs": [],
   "source": [
    "things.append(b\"Zerg_Hatchery\")"
   ]
  },
  {
   "cell_type": "code",
   "execution_count": 98,
   "metadata": {},
   "outputs": [],
   "source": [
    "things.append(b\"Zerg_Hive\")"
   ]
  },
  {
   "cell_type": "code",
   "execution_count": 99,
   "metadata": {},
   "outputs": [],
   "source": [
    "things.append(b\"Zerg_Hydralisk_Den\")"
   ]
  },
  {
   "cell_type": "code",
   "execution_count": 100,
   "metadata": {},
   "outputs": [],
   "source": [
    "things.append(b\"Zerg_Infested_Command_Center\")"
   ]
  },
  {
   "cell_type": "code",
   "execution_count": 101,
   "metadata": {},
   "outputs": [],
   "source": [
    "things.append(b\"Zerg_Lair\")"
   ]
  },
  {
   "cell_type": "code",
   "execution_count": 102,
   "metadata": {},
   "outputs": [],
   "source": [
    "things.append(b\"Zerg_Nydus_Canal\")"
   ]
  },
  {
   "cell_type": "code",
   "execution_count": 103,
   "metadata": {},
   "outputs": [],
   "source": [
    "things.append(b\"Zerg_Queens_Nest\")"
   ]
  },
  {
   "cell_type": "code",
   "execution_count": 104,
   "metadata": {},
   "outputs": [],
   "source": [
    "things.append(b\"Zerg_Spawning_Pool\")"
   ]
  },
  {
   "cell_type": "code",
   "execution_count": 105,
   "metadata": {},
   "outputs": [],
   "source": [
    "things.append(b\"Zerg_Spire\")"
   ]
  },
  {
   "cell_type": "code",
   "execution_count": 106,
   "metadata": {},
   "outputs": [],
   "source": [
    "things.append(b\"Zerg_Spore_Colony\")"
   ]
  },
  {
   "cell_type": "code",
   "execution_count": 107,
   "metadata": {},
   "outputs": [],
   "source": [
    "things.append(b\"Zerg_Sunken_Colony\")"
   ]
  },
  {
   "cell_type": "code",
   "execution_count": 108,
   "metadata": {},
   "outputs": [],
   "source": [
    "things.append(b\"Zerg_Ultralisk_Cavern\")"
   ]
  },
  {
   "cell_type": "code",
   "execution_count": 109,
   "metadata": {},
   "outputs": [],
   "source": [
    "things.append(b\"Resource_Mineral_Field\")"
   ]
  },
  {
   "cell_type": "code",
   "execution_count": 110,
   "metadata": {},
   "outputs": [],
   "source": [
    "things.append(b\"Resource_Mineral_Field_Type_2\")"
   ]
  },
  {
   "cell_type": "code",
   "execution_count": 111,
   "metadata": {},
   "outputs": [],
   "source": [
    "things.append(b\"Resource_Mineral_Field_Type_3\")"
   ]
  },
  {
   "cell_type": "code",
   "execution_count": 112,
   "metadata": {},
   "outputs": [],
   "source": [
    "things.append(b\"Resource_Vespene_Geyser\")"
   ]
  },
  {
   "cell_type": "code",
   "execution_count": 113,
   "metadata": {},
   "outputs": [],
   "source": [
    "things.append(b\"Spell_Dark_Swarm\")"
   ]
  },
  {
   "cell_type": "code",
   "execution_count": 114,
   "metadata": {},
   "outputs": [],
   "source": [
    "things.append(b\"Spell_Disruption_Web\")"
   ]
  },
  {
   "cell_type": "code",
   "execution_count": 115,
   "metadata": {},
   "outputs": [],
   "source": [
    "things.append(b\"Spell_Scanner_Sweep\")"
   ]
  },
  {
   "cell_type": "code",
   "execution_count": 116,
   "metadata": {},
   "outputs": [
    {
     "name": "stdout",
     "output_type": "stream",
     "text": [
      "0b1568dd0ce151a9733e318f376d21e9 b'Terran_Firebat'\n",
      "e082663682cbdcb36785e86146a1d0d8 b'Terran_Ghost'\n",
      "5278031c7aee5b20d29fe8bfdc782b47 b'Terran_Goliath'\n",
      "c69cb36c140382baa87cdebc1ad48a92 b'Terran_Marine'\n",
      "ae577880c8d171515d6f8f354718017e b'Terran_Medic'\n",
      "4c7b0e52c852ab73dc8e51ba4690b4d3 b'Terran_SCV'\n",
      "c691558343f24769462b91f23863bdcc b'Terran_Siege_Tank_Siege_Mode'\n",
      "d74ea28fc20d466a1980aeed775bd993 b'Terran_Siege_Tank_Tank_Mode'\n",
      "8d485e68a53a1cebd92fc735b9f99143 b'Terran_Vulture'\n",
      "296bf0a5899345582d51f695751eff61 b'Terran_Vulture_Spider_Mine'\n",
      "10bc4b65d446b586b37ccec60fb87454 b'Terran_Battlecruiser'\n",
      "99515e49d4124d9c60cb0b15ed025386 b'Terran_Dropship'\n",
      "8aa3c2bb553fbf8442a5d9eff56aea2d b'Terran_Nuclear_Missile'\n",
      "67b9390dff0e53fcf8011ffa285c0431 b'Terran_Science_Vessel'\n",
      "4974fe23fed6df1bbf2deb5fba935b6f b'Terran_Valkyrie'\n",
      "c96cc0056627dce254d2abf7793c1c92 b'Terran_Wraith'\n",
      "82edcde3377b1650d94033fc092042fd b'Terran_Academy'\n",
      "a8dc7e1b45955da238d449cf1fb6f908 b'Terran_Armory'\n",
      "f2ab423108511814ba46716e0a0d03a9 b'Terran_Barracks'\n",
      "ae11bb1284eb7dd270cc8bc59536f1e4 b'Terran_Bunker'\n",
      "8b295ee9723a1dddf20a5a7007159657 b'Terran_Command_Center'\n",
      "1d23cc6824d61174df495ffa2bed6926 b'Terran_Enginnering_Bay'\n",
      "9ab6e4ab2ac4125c0f7f420785cb6328 b'Terran_Factory'\n",
      "81e01618dc57a40feb18a0bec4442356 b'Terran_Missile_Turret'\n",
      "6a4372a0fa1ad79016f52237033d85a7 b'Terran_Refinery'\n",
      "d46cfcfedf47c6545ddeecb086d68299 b'Terran_Sience_Facility'\n",
      "33f5692e0cc647b1a650e1611aba9aa8 b'Terran_Starport'\n",
      "d3efc4b5b22433b5dc80161e9f9c4b03 b'Terran_Supply_Depot'\n",
      "7f1c6b0d7ecb14bb8bb7c65aa2a8271e b'Terran_Comsat_Station'\n",
      "487583895370c3673019af31ec87e559 b'Terran_Control_Tower'\n",
      "ce0fbb331135a40440a45711883c90ee b'Terran_Covert_Ops'\n",
      "8b64b9952e671df87bcc0004313e0038 b'Terran_Machine_Shop'\n",
      "6b72d16ff7549f26f488feb0c65dd941 b'Terran_Nuclear_Silo'\n",
      "d56716b45d4d9652794081ab13aba90d b'Terran_Physics_Lab'\n",
      "14ab45144d2a8f7590fe08864118c45c b'Protoss_Archon'\n",
      "53ea39dbc67fb8f7a5e174af00f0f14d b'Protoss_Dark_Archon'\n",
      "da98cfdc1844fbef97836a92b4119417 b'Protoss_Dark_Templar'\n",
      "4206149359f86363a0af6b07b2cdb2ed b'Protoss_Dragoon'\n",
      "b8acd8b494b925201790bab46e7883b9 b'Protoss_High_Templar'\n",
      "983d40922d3eee7590dc7c8dff8ab043 b'Protoss_Probe'\n",
      "b3ccb6d4704f49e9998aa69ef9e90017 b'Protoss_Reaver'\n",
      "6f22571fff919b323cc49d7ab8c150c3 b'Protoss_Scarab'\n",
      "79625b6a66fbe5f7a7853891378799be b'Protoss_Zealot'\n",
      "793b167611a91171ed8d759562657d09 b'Protoss_Arbiter'\n",
      "c7b26474826e35fc09a278d14936d9f4 b'Protoss_Carrier'\n",
      "4b39027460eb4c5d5eb0975bcac2247c b'Protoss_Corsair'\n",
      "fa87475904b3ae25f1b221ca8135060c b'Protoss_Interceptor'\n",
      "58e318c0246c59fc593d83fa8559bf02 b'Protoss_Observer'\n",
      "d9d98eb63f5696d1ea69a9053cda222b b'Protoss_Scout'\n",
      "68bff18fba80390887f170dcd14b4274 b'Protoss_Shuttle'\n",
      "d17cb50ca14775ba8c5f429493a4c127 b'Protoss_Arbiter_Tribunal'\n",
      "60cd74573e50a2c46d768921437b6d40 b'Protoss_Assimilator'\n",
      "b740a5435d18a509fa8fab9a5317023d b'Protoss_Citadel_of_Adun'\n",
      "6b311a7487e03267b7bd4c55ea409d95 b'Protoss_Cybernetics_Core'\n",
      "89af9c68c67bd1dd7e36a58ae8e433ea b'Protoss_Fleet_Beacon'\n",
      "5c69cfdfffcecb0d77b7b7bac87fd4f8 b'Protoss_Forge'\n",
      "15c4d2a1edef3c2950950315fab7d54e b'Protoss_Gateway'\n",
      "35df8f645cb528bf632ff50950235480 b'Protoss_Nexus'\n",
      "460cee1c15052d00a00293c2971e3638 b'Protoss_Observatory'\n",
      "b06e5483c17ef29e01a0ec995c0535de b'Protoss_Photon_Cannon'\n",
      "d08058ef757165d0608beb568dddef7b b'Protoss_Pylon'\n",
      "a8d96f9f101896509588e74ab62d3d8f b'Protoss_Robotics_Facility'\n",
      "270873caff1594985b1516ceb4a12fcb b'Protoss_Robotics_Support_Bay'\n",
      "24488ff3fb21b1c333dee875c50beb3b b'Protoss_Shield_Battery'\n",
      "0635ca2c31ba6fce9cb1008f846795a6 b'Protoss_Stargate'\n",
      "53ea1414b6dff551806a543c9ef5926f b'Protoss_Templar_Archives'\n",
      "7cae102705e51c2bc9d0b886af6c2f75 b'Zerg_Broodling'\n",
      "974ccf03c2cebaedb160c8c976ccd196 b'Zerg_Defiler'\n",
      "3244f190e0b0fc28baa2ce60c615512a b'Zerg_Drone'\n",
      "db20647a17898dd022b875b5d54fce71 b'Zerg_Egg'\n",
      "7fe177a97f36a3c91ae9185ec8dad2f7 b'Zerg_Hydralisk'\n",
      "9bf7612bf00a468154bd19e6809d651a b'Zerg_Infested_Terran'\n",
      "2675712dfbab5ec154eb6a1c3da3f51b b'Zerg_Larva'\n",
      "802e25f664bbb92a6a41ae29be25abe9 b'Zerg_Lurker'\n",
      "470b4cde9aa501d1d694a1f6a2eadba5 b'Zerg_Lurker_Egg'\n",
      "df313b97251ec8a50dffc238a31d7e11 b'Zerg_Ultralisk'\n",
      "a83944a7467537757e52c178dda339f0 b'Zerg_Zergling'\n",
      "5b43f1dde684d2bbc2b71e1a2b6ff681 b'Zerg_Cocoon'\n",
      "529122331581c82c34d8284ac07c1636 b'Zerg_Devourer'\n",
      "f86b891aa2c83011b9114485efabedb1 b'Zerg_Guardian'\n",
      "9f5a75ad491437bfa1b342459d9a3806 b'Zerg_Mutalisk'\n",
      "7205d1cfd51ca54cb033183a12f92573 b'Zerg_Overlord'\n",
      "6531923c8f81b03535d041faa14c867c b'Zerg_Queen'\n",
      "46f722e1424442a185f160914566554c b'Zerg_Scourge'\n",
      "f4cb17f2e6a99c54831367b120678d42 b'Zerg_Creep_Colony'\n",
      "35e26b8e4024720b4315650eae0c5056 b'Zerg_Defiler_Mound'\n",
      "daeef588da2c97c097504a72736bb9a6 b'Zerg_Evolution_Chamber'\n",
      "7692a6e24010266a3e34ed0415533c8a b'Zerg_Extractor'\n",
      "e3289632f5dde06931179d469695e11e b'Zerg_Greater_Spire'\n",
      "37cd9f9a02fd1e538b867b582023dcf4 b'Zerg_Hatchery'\n",
      "17767e546c8208e55b91531715d0c6fe b'Zerg_Hive'\n",
      "e260c72c3547a7f1f302b70835bc60ad b'Zerg_Hydralisk_Den'\n",
      "614ad2f3fa28d442e373cab552428fbc b'Zerg_Infested_Command_Center'\n",
      "abd7f02418f84efc7cf304f02f245edd b'Zerg_Lair'\n",
      "107e2d6a116293487d3b7c523df36f24 b'Zerg_Nydus_Canal'\n",
      "2c598244d8437973138a7fc9c13308ce b'Zerg_Queens_Nest'\n",
      "784a5f767aaa9e34251e58974c189aad b'Zerg_Spawning_Pool'\n",
      "13fee03740c963e9fd99857346a0b886 b'Zerg_Spire'\n",
      "86fbfa53e969854ae7df2f47fee68200 b'Zerg_Spore_Colony'\n",
      "3b0bbd8d99d92ed69a56fab6cffa91c7 b'Zerg_Sunken_Colony'\n",
      "4fd73b5c775e8ad7682aea853d8c1fdd b'Zerg_Ultralisk_Cavern'\n",
      "c3b3fc9639fbca0ba0e5bacc82852584 b'Resource_Mineral_Field'\n",
      "cb663192b06c97ee4a29fd28f0690145 b'Resource_Mineral_Field_Type_2'\n",
      "417e28ff6da2cfea833bb7233c65c14c b'Resource_Mineral_Field_Type_3'\n",
      "dbbb2b1cbc6891edd50e457861fcb857 b'Resource_Vespene_Geyser'\n",
      "69c57c49a439dae05a6e77ad78f0f4e8 b'Spell_Dark_Swarm'\n",
      "99856064e858fd95e70cf7eba555a394 b'Spell_Disruption_Web'\n",
      "d7eb615166872098c13cca87c9efb7f4 b'Spell_Scanner_Sweep'\n"
     ]
    }
   ],
   "source": [
    "for x in things:\n",
    "    print(hashlib.md5(x).hexdigest(), x)"
   ]
  }
 ],
 "metadata": {
  "kernelspec": {
   "display_name": "Python 3",
   "language": "python",
   "name": "python3"
  },
  "language_info": {
   "codemirror_mode": {
    "name": "ipython",
    "version": 3
   },
   "file_extension": ".py",
   "mimetype": "text/x-python",
   "name": "python",
   "nbconvert_exporter": "python",
   "pygments_lexer": "ipython3",
   "version": "3.7.3"
  }
 },
 "nbformat": 4,
 "nbformat_minor": 2
}
