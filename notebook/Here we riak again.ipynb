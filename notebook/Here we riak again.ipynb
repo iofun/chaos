{
 "cells": [
  {
   "cell_type": "code",
   "execution_count": 26,
   "metadata": {},
   "outputs": [],
   "source": [
    "import riak"
   ]
  },
  {
   "cell_type": "code",
   "execution_count": 27,
   "metadata": {},
   "outputs": [],
   "source": [
    "db = riak.RiakClient(pb_port=8087)"
   ]
  },
  {
   "cell_type": "code",
   "execution_count": 42,
   "metadata": {},
   "outputs": [],
   "source": [
    "bucket = db.bucket('games')"
   ]
  },
  {
   "cell_type": "code",
   "execution_count": 43,
   "metadata": {},
   "outputs": [],
   "source": [
    "uuids = bucket.stream_index(\"uuid_bin\", \"b19c2782-70a8-4c00-80f3-3b01cc782278\", \"ecd21d80-65f7-4672-a2d8-fb2b714fcab3\", max_results=3,)"
   ]
  },
  {
   "cell_type": "code",
   "execution_count": 44,
   "metadata": {},
   "outputs": [],
   "source": [
    "games = bucket.get_index(\"game_int\", 1, 1969)"
   ]
  },
  {
   "cell_type": "code",
   "execution_count": 45,
   "metadata": {},
   "outputs": [
    {
     "name": "stdout",
     "output_type": "stream",
     "text": [
      "['b19c2782-70a8-4c00-80f3-3b01cc782278', 'b4c7059b-ae84-45f6-b9ae-afb16044f89e', 'ecd21d80-65f7-4672-a2d8-fb2b714fcab3']\n"
     ]
    }
   ],
   "source": [
    "for x in uuids:\n",
    "    print(x)"
   ]
  },
  {
   "cell_type": "code",
   "execution_count": 46,
   "metadata": {},
   "outputs": [
    {
     "name": "stdout",
     "output_type": "stream",
     "text": [
      "b19c2782-70a8-4c00-80f3-3b01cc782278\n",
      "ecd21d80-65f7-4672-a2d8-fb2b714fcab3\n",
      "84e16eae-18ee-40eb-b7ff-feaa64e4ea63\n",
      "b4c7059b-ae84-45f6-b9ae-afb16044f89e\n"
     ]
    }
   ],
   "source": [
    "for x in games:\n",
    "    print(x)"
   ]
  },
  {
   "cell_type": "code",
   "execution_count": 47,
   "metadata": {},
   "outputs": [],
   "source": [
    "for x in uuids: print (x)"
   ]
  },
  {
   "cell_type": "code",
   "execution_count": 48,
   "metadata": {},
   "outputs": [],
   "source": [
    "x = (bucket.get(x) for x in games)"
   ]
  },
  {
   "cell_type": "code",
   "execution_count": 49,
   "metadata": {},
   "outputs": [
    {
     "data": {
      "text/plain": [
       "[{'uuid': 'b19c2782-70a8-4c00-80f3-3b01cc782278',\n",
       "  'game': '8',\n",
       "  'status': '',\n",
       "  'labels': '',\n",
       "  'history': '',\n",
       "  'address': '',\n",
       "  'session ': '8ded2270-9f38-4176-8b85-bd700de667ed',\n",
       "  'bots': 'Letabot:Microwave',\n",
       "  'map': '\\\\(4\\\\)FightingSpirit.scx',\n",
       "  'replay': '',\n",
       "  'home': '',\n",
       "  'home_is_winner': 'False',\n",
       "  'home_crashed': 'False',\n",
       "  'home_timed_out': 'False',\n",
       "  'home_building_score': '',\n",
       "  'home_razing_score': '',\n",
       "  'home_unit_score': '',\n",
       "  'away': '',\n",
       "  'away_is_winner': 'False',\n",
       "  'away_crashed': 'False',\n",
       "  'away_timed_out': 'False',\n",
       "  'away_building_score': '',\n",
       "  'away_razing_score': '',\n",
       "  'away_unit_score': '',\n",
       "  'created_by': '',\n",
       "  'created_at': '1586135460.0',\n",
       "  'last_update_by': '',\n",
       "  'last_update_at': ''},\n",
       " {'uuid': 'ecd21d80-65f7-4672-a2d8-fb2b714fcab3',\n",
       "  'game': '8',\n",
       "  'status': '',\n",
       "  'labels': '',\n",
       "  'history': '',\n",
       "  'address': '',\n",
       "  'session': 'd880abbb-2e9d-4229-939d-00f58d4bc377',\n",
       "  'bots': 'Letabot:Microwave',\n",
       "  'map': '\\\\(4\\\\)FightingSpirit.scx',\n",
       "  'replay': '',\n",
       "  'home': '',\n",
       "  'home_is_winner': 'False',\n",
       "  'home_crashed': 'False',\n",
       "  'home_timed_out': 'False',\n",
       "  'home_building_score': '',\n",
       "  'home_razing_score': '',\n",
       "  'home_unit_score': '',\n",
       "  'away': '',\n",
       "  'away_is_winner': 'False',\n",
       "  'away_crashed': 'False',\n",
       "  'away_timed_out': 'False',\n",
       "  'away_building_score': '',\n",
       "  'away_razing_score': '',\n",
       "  'away_unit_score': '',\n",
       "  'created_by': '',\n",
       "  'created_at': '1586136409.0',\n",
       "  'last_update_by': '',\n",
       "  'last_update_at': ''},\n",
       " {'uuid': '84e16eae-18ee-40eb-b7ff-feaa64e4ea63',\n",
       "  'game': '8',\n",
       "  'status': '',\n",
       "  'labels': '',\n",
       "  'history': '',\n",
       "  'address': '',\n",
       "  'session': 'f409e69e-92c1-4c40-b786-ddb1e143c188',\n",
       "  'bots': 'Letabot:Microwave',\n",
       "  'map': '\\\\(4\\\\)FightingSpirit.scx',\n",
       "  'replay': '',\n",
       "  'home': '',\n",
       "  'home_is_winner': 'False',\n",
       "  'home_crashed': 'False',\n",
       "  'home_timed_out': 'False',\n",
       "  'home_building_score': '',\n",
       "  'home_razing_score': '',\n",
       "  'home_unit_score': '',\n",
       "  'away': '',\n",
       "  'away_is_winner': 'False',\n",
       "  'away_crashed': 'False',\n",
       "  'away_timed_out': 'False',\n",
       "  'away_building_score': '',\n",
       "  'away_razing_score': '',\n",
       "  'away_unit_score': '',\n",
       "  'created_by': '',\n",
       "  'created_at': '1586180380.0',\n",
       "  'last_update_by': '',\n",
       "  'last_update_at': ''},\n",
       " {'uuid': 'b4c7059b-ae84-45f6-b9ae-afb16044f89e',\n",
       "  'game': '8',\n",
       "  'status': '',\n",
       "  'labels': '',\n",
       "  'history': '',\n",
       "  'address': '',\n",
       "  'session': '17cdbac0-2747-42db-a55b-a85534cbb534',\n",
       "  'bots': 'Letabot:Microwave',\n",
       "  'map': '\\\\(4\\\\)FightingSpirit.scx',\n",
       "  'replay': '',\n",
       "  'home': '',\n",
       "  'home_is_winner': 'False',\n",
       "  'home_crashed': 'False',\n",
       "  'home_timed_out': 'False',\n",
       "  'home_building_score': '',\n",
       "  'home_razing_score': '',\n",
       "  'home_unit_score': '',\n",
       "  'away': '',\n",
       "  'away_is_winner': 'False',\n",
       "  'away_crashed': 'False',\n",
       "  'away_timed_out': 'False',\n",
       "  'away_building_score': '',\n",
       "  'away_razing_score': '',\n",
       "  'away_unit_score': '',\n",
       "  'created_by': '',\n",
       "  'created_at': '1586179823.0',\n",
       "  'last_update_by': '',\n",
       "  'last_update_at': ''}]"
      ]
     },
     "execution_count": 49,
     "metadata": {},
     "output_type": "execute_result"
    }
   ],
   "source": [
    "[a.data for a in x]"
   ]
  }
 ],
 "metadata": {
  "kernelspec": {
   "display_name": "Python 3",
   "language": "python",
   "name": "python3"
  },
  "language_info": {
   "codemirror_mode": {
    "name": "ipython",
    "version": 3
   },
   "file_extension": ".py",
   "mimetype": "text/x-python",
   "name": "python",
   "nbconvert_exporter": "python",
   "pygments_lexer": "ipython3",
   "version": "3.7.3"
  }
 },
 "nbformat": 4,
 "nbformat_minor": 2
}
