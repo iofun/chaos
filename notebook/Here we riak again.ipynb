{
 "cells": [
  {
   "cell_type": "code",
   "execution_count": 2,
   "metadata": {},
   "outputs": [],
   "source": [
    "import riak"
   ]
  },
  {
   "cell_type": "code",
   "execution_count": 3,
   "metadata": {},
   "outputs": [],
   "source": [
    "db = riak.RiakClient(pb_port=8087)"
   ]
  },
  {
   "cell_type": "code",
   "execution_count": 4,
   "metadata": {},
   "outputs": [
    {
     "data": {
      "text/plain": [
       "<riak.riak_object.RiakObject at 0x7fc3483bdf28>"
      ]
     },
     "execution_count": 4,
     "metadata": {},
     "output_type": "execute_result"
    }
   ],
   "source": [
    "myBucket = db.bucket('test')\n",
    "\n",
    "val1 = 1\n",
    "key1 = myBucket.new('one', data=val1)\n",
    "key1.store()"
   ]
  },
  {
   "cell_type": "code",
   "execution_count": 5,
   "metadata": {},
   "outputs": [
    {
     "data": {
      "text/plain": [
       "<riak.riak_object.RiakObject at 0x7fc3483d4080>"
      ]
     },
     "execution_count": 5,
     "metadata": {},
     "output_type": "execute_result"
    }
   ],
   "source": [
    "val2 = \"two\"\n",
    "key2 = myBucket.new('two', data=val2)\n",
    "key2.store()"
   ]
  },
  {
   "cell_type": "code",
   "execution_count": 6,
   "metadata": {},
   "outputs": [
    {
     "data": {
      "text/plain": [
       "<riak.riak_object.RiakObject at 0x7fc3483d4d68>"
      ]
     },
     "execution_count": 6,
     "metadata": {},
     "output_type": "execute_result"
    }
   ],
   "source": [
    "val3 = {\"myValue\": 3}\n",
    "key3 = myBucket.new('three', data=val3)\n",
    "key3.store()"
   ]
  },
  {
   "cell_type": "code",
   "execution_count": 7,
   "metadata": {},
   "outputs": [],
   "source": [
    "fetched1 = myBucket.get('one')\n",
    "fetched2 = myBucket.get('two')\n",
    "fetched3 = myBucket.get('three')\n",
    "\n",
    "assert val1 == fetched1.data\n",
    "assert val2 == fetched2.data\n",
    "assert val3 == fetched3.data"
   ]
  },
  {
   "cell_type": "code",
   "execution_count": 8,
   "metadata": {},
   "outputs": [
    {
     "data": {
      "text/plain": [
       "{'myValue': 3}"
      ]
     },
     "execution_count": 8,
     "metadata": {},
     "output_type": "execute_result"
    }
   ],
   "source": [
    "fetched3.data"
   ]
  },
  {
   "cell_type": "code",
   "execution_count": 9,
   "metadata": {},
   "outputs": [],
   "source": [
    "bucket = db.bucket('users')"
   ]
  },
  {
   "cell_type": "code",
   "execution_count": 10,
   "metadata": {},
   "outputs": [
    {
     "data": {
      "text/plain": [
       "<riak.riak_object.RiakObject at 0x7fc348379be0>"
      ]
     },
     "execution_count": 10,
     "metadata": {},
     "output_type": "execute_result"
    }
   ],
   "source": [
    "# Tag an object with indexes and save\n",
    "sean = bucket.new(\"seancribbs\", data=2)\n",
    "sean.add_index(\"fname_bin\", \"Sean\")\n",
    "sean.add_index(\"byear_int\", 1979)\n",
    "sean.store()"
   ]
  },
  {
   "cell_type": "code",
   "execution_count": 11,
   "metadata": {},
   "outputs": [],
   "source": [
    "# Performs an equality query\n",
    "seans = bucket.get_index(\"fname_bin\", \"Sean\")"
   ]
  },
  {
   "cell_type": "code",
   "execution_count": 12,
   "metadata": {},
   "outputs": [],
   "source": [
    "# Performs a range query\n",
    "eighties = bucket.get_index(\"byear_int\", 1980, 1989)"
   ]
  },
  {
   "cell_type": "code",
   "execution_count": 13,
   "metadata": {},
   "outputs": [
    {
     "data": {
      "text/plain": [
       "<IndexPage {'client': <riak.client.RiakClient object at 0x7fc3483bd748>, 'bucket': <RiakBucket 'users'>, 'index': 'fname_bin', 'startkey': 'Sean', 'endkey': None, 'return_terms': None, 'max_results': None, 'results': ['seancribbs'], 'stream': False, 'term_regex': None, 'continuation': None}>"
      ]
     },
     "execution_count": 13,
     "metadata": {},
     "output_type": "execute_result"
    }
   ],
   "source": [
    "seans"
   ]
  },
  {
   "cell_type": "code",
   "execution_count": 14,
   "metadata": {},
   "outputs": [
    {
     "data": {
      "text/plain": [
       "<IndexPage {'client': <riak.client.RiakClient object at 0x7fc3483bd748>, 'bucket': <RiakBucket 'users'>, 'index': 'byear_int', 'startkey': 1980, 'endkey': 1989, 'return_terms': None, 'max_results': None, 'results': [], 'stream': False, 'term_regex': None, 'continuation': None}>"
      ]
     },
     "execution_count": 14,
     "metadata": {},
     "output_type": "execute_result"
    }
   ],
   "source": [
    "eighties"
   ]
  }
 ],
 "metadata": {
  "kernelspec": {
   "display_name": "Python 3",
   "language": "python",
   "name": "python3"
  },
  "language_info": {
   "codemirror_mode": {
    "name": "ipython",
    "version": 3
   },
   "file_extension": ".py",
   "mimetype": "text/x-python",
   "name": "python",
   "nbconvert_exporter": "python",
   "pygments_lexer": "ipython3",
   "version": "3.7.3"
  }
 },
 "nbformat": 4,
 "nbformat_minor": 2
}
