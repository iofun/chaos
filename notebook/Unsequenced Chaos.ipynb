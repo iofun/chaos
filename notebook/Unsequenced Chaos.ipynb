{
 "cells": [
  {
   "cell_type": "code",
   "execution_count": 144,
   "metadata": {},
   "outputs": [],
   "source": [
    "import uuid"
   ]
  },
  {
   "cell_type": "code",
   "execution_count": 145,
   "metadata": {},
   "outputs": [],
   "source": [
    "import itertools"
   ]
  },
  {
   "cell_type": "code",
   "execution_count": 146,
   "metadata": {},
   "outputs": [],
   "source": [
    "import os"
   ]
  },
  {
   "cell_type": "code",
   "execution_count": 147,
   "metadata": {},
   "outputs": [],
   "source": [
    "import shutil"
   ]
  },
  {
   "cell_type": "code",
   "execution_count": 148,
   "metadata": {},
   "outputs": [],
   "source": [
    "import ujson as json"
   ]
  },
  {
   "cell_type": "code",
   "execution_count": 149,
   "metadata": {},
   "outputs": [],
   "source": [
    "import requests"
   ]
  },
  {
   "cell_type": "code",
   "execution_count": null,
   "metadata": {},
   "outputs": [],
   "source": []
  },
  {
   "cell_type": "code",
   "execution_count": 150,
   "metadata": {},
   "outputs": [],
   "source": [
    "system_uuid = uuid.uuid4()"
   ]
  },
  {
   "cell_type": "code",
   "execution_count": null,
   "metadata": {},
   "outputs": [],
   "source": []
  },
  {
   "cell_type": "code",
   "execution_count": 151,
   "metadata": {},
   "outputs": [],
   "source": [
    "maps = []"
   ]
  },
  {
   "cell_type": "code",
   "execution_count": 152,
   "metadata": {},
   "outputs": [],
   "source": [
    "bots = []"
   ]
  },
  {
   "cell_type": "code",
   "execution_count": 153,
   "metadata": {},
   "outputs": [],
   "source": [
    "match = []"
   ]
  },
  {
   "cell_type": "code",
   "execution_count": 154,
   "metadata": {},
   "outputs": [],
   "source": [
    "games = []"
   ]
  },
  {
   "cell_type": "code",
   "execution_count": 155,
   "metadata": {},
   "outputs": [],
   "source": [
    "pairs = []"
   ]
  },
  {
   "cell_type": "code",
   "execution_count": null,
   "metadata": {},
   "outputs": [],
   "source": []
  },
  {
   "cell_type": "code",
   "execution_count": 156,
   "metadata": {},
   "outputs": [],
   "source": [
    "torchup_map = 'maps/TorchUp/'"
   ]
  },
  {
   "cell_type": "code",
   "execution_count": null,
   "metadata": {},
   "outputs": [],
   "source": []
  },
  {
   "cell_type": "code",
   "execution_count": 157,
   "metadata": {},
   "outputs": [],
   "source": [
    "maps.append('\\\\(4\\\\)CircuitBreaker.scx')"
   ]
  },
  {
   "cell_type": "code",
   "execution_count": 158,
   "metadata": {},
   "outputs": [],
   "source": [
    "maps.append('\\\\(3\\\\)Aztec2.1.scx')"
   ]
  },
  {
   "cell_type": "code",
   "execution_count": 159,
   "metadata": {},
   "outputs": [],
   "source": [
    "maps.append('\\\\(2\\\\)BlueStorm1.2.scx')"
   ]
  },
  {
   "cell_type": "code",
   "execution_count": 160,
   "metadata": {},
   "outputs": [],
   "source": [
    "#maps.append('\\\\(4\\\\)Gladiator1.1.scx')"
   ]
  },
  {
   "cell_type": "code",
   "execution_count": 161,
   "metadata": {},
   "outputs": [],
   "source": [
    "#maps.append('\\\\(3\\\\)GoldRush.scx')"
   ]
  },
  {
   "cell_type": "code",
   "execution_count": 162,
   "metadata": {},
   "outputs": [],
   "source": [
    "#maps.append('\\\\(2\\\\)HeartbreakRidge.scx')"
   ]
  },
  {
   "cell_type": "code",
   "execution_count": 163,
   "metadata": {},
   "outputs": [],
   "source": [
    "#maps.append('\\\\(4\\\\)FightingSpirit.scx')"
   ]
  },
  {
   "cell_type": "code",
   "execution_count": 164,
   "metadata": {},
   "outputs": [],
   "source": [
    "#maps.append('\\\\(3\\\\)PowerBond.scx')"
   ]
  },
  {
   "cell_type": "code",
   "execution_count": 165,
   "metadata": {},
   "outputs": [],
   "source": [
    "#maps.append('\\\\(2\\\\)Overwatch2.3.scx')"
   ]
  },
  {
   "cell_type": "code",
   "execution_count": null,
   "metadata": {},
   "outputs": [],
   "source": []
  },
  {
   "cell_type": "code",
   "execution_count": 166,
   "metadata": {},
   "outputs": [],
   "source": [
    "# Optional Challenge"
   ]
  },
  {
   "cell_type": "code",
   "execution_count": 167,
   "metadata": {},
   "outputs": [],
   "source": [
    "#maps.append('\\\\(4\\\\)Sparkle1.1.scx')"
   ]
  },
  {
   "cell_type": "code",
   "execution_count": 168,
   "metadata": {},
   "outputs": [],
   "source": [
    "#maps.append('\\\\(2\\\\)MatchPoint1.3.scx')"
   ]
  },
  {
   "cell_type": "code",
   "execution_count": 169,
   "metadata": {},
   "outputs": [],
   "source": [
    "#maps.append('\\\\(4\\\\)Hitchhiker.scx')"
   ]
  },
  {
   "cell_type": "code",
   "execution_count": 170,
   "metadata": {},
   "outputs": [],
   "source": [
    "#maps.append('\\\\(3\\\\)NeoSylphid1.8.scx')"
   ]
  },
  {
   "cell_type": "code",
   "execution_count": 171,
   "metadata": {},
   "outputs": [],
   "source": [
    "#maps.append('\\\\(4\\\\)ColosseumII.scx')"
   ]
  },
  {
   "cell_type": "code",
   "execution_count": 172,
   "metadata": {},
   "outputs": [],
   "source": [
    "#maps.append('\\\\(2\\\\)CrossingField.scx')"
   ]
  },
  {
   "cell_type": "code",
   "execution_count": 173,
   "metadata": {},
   "outputs": [],
   "source": [
    "#maps.append('\\\\(4\\\\)Kiseyras.scx')"
   ]
  },
  {
   "cell_type": "code",
   "execution_count": 174,
   "metadata": {},
   "outputs": [],
   "source": [
    "#maps.append('\\\\(3\\\\)CoreBreach2.01.scx')"
   ]
  },
  {
   "cell_type": "code",
   "execution_count": 175,
   "metadata": {},
   "outputs": [],
   "source": [
    "#maps.append('\\\\(2\\\\)NewBloodyRidge.scx')"
   ]
  },
  {
   "cell_type": "code",
   "execution_count": null,
   "metadata": {},
   "outputs": [],
   "source": []
  },
  {
   "cell_type": "code",
   "execution_count": 176,
   "metadata": {},
   "outputs": [
    {
     "data": {
      "text/plain": [
       "['\\\\(4\\\\)CircuitBreaker.scx', '\\\\(3\\\\)Aztec2.1.scx', '\\\\(2\\\\)BlueStorm1.2.scx']"
      ]
     },
     "execution_count": 176,
     "metadata": {},
     "output_type": "execute_result"
    }
   ],
   "source": [
    "maps"
   ]
  },
  {
   "cell_type": "code",
   "execution_count": 177,
   "metadata": {},
   "outputs": [],
   "source": [
    "total, used, free = shutil.disk_usage(\"/\")"
   ]
  },
  {
   "cell_type": "code",
   "execution_count": 178,
   "metadata": {},
   "outputs": [
    {
     "name": "stdout",
     "output_type": "stream",
     "text": [
      "Total: 109 GiB\n",
      "Used: 59 GiB\n",
      "Free: 44 GiB\n"
     ]
    }
   ],
   "source": [
    "print(\"Total: %d GiB\" % (total // (2**30)))\n",
    "print(\"Used: %d GiB\" % (used // (2**30)))\n",
    "print(\"Free: %d GiB\" % (free // (2**30)))"
   ]
  },
  {
   "cell_type": "code",
   "execution_count": 179,
   "metadata": {},
   "outputs": [
    {
     "data": {
      "text/plain": [
       "8"
      ]
     },
     "execution_count": 179,
     "metadata": {},
     "output_type": "execute_result"
    }
   ],
   "source": [
    "os.cpu_count() # current machine cores"
   ]
  },
  {
   "cell_type": "code",
   "execution_count": 180,
   "metadata": {},
   "outputs": [
    {
     "data": {
      "text/plain": [
       "3.0"
      ]
     },
     "execution_count": 180,
     "metadata": {},
     "output_type": "execute_result"
    }
   ],
   "source": [
    "(os.cpu_count() - 2) / 2 # concurrent games"
   ]
  },
  {
   "cell_type": "code",
   "execution_count": 181,
   "metadata": {},
   "outputs": [
    {
     "data": {
      "text/plain": [
       "6.0"
      ]
     },
     "execution_count": 181,
     "metadata": {},
     "output_type": "execute_result"
    }
   ],
   "source": [
    "(os.cpu_count() - 2) / 2 * 2 # containers needed"
   ]
  },
  {
   "cell_type": "code",
   "execution_count": 182,
   "metadata": {},
   "outputs": [],
   "source": [
    "bots.append('Locutus')"
   ]
  },
  {
   "cell_type": "code",
   "execution_count": 183,
   "metadata": {},
   "outputs": [],
   "source": [
    "bots.append('Letabot')"
   ]
  },
  {
   "cell_type": "code",
   "execution_count": 184,
   "metadata": {},
   "outputs": [],
   "source": [
    "bots.append('Microwave')"
   ]
  },
  {
   "cell_type": "code",
   "execution_count": 185,
   "metadata": {},
   "outputs": [],
   "source": [
    "#bots.append('Ecgberht')"
   ]
  },
  {
   "cell_type": "code",
   "execution_count": 186,
   "metadata": {},
   "outputs": [],
   "source": [
    "#bots.append('PurpleWave')"
   ]
  },
  {
   "cell_type": "code",
   "execution_count": 187,
   "metadata": {},
   "outputs": [],
   "source": [
    "#bots.append('Halo')"
   ]
  },
  {
   "cell_type": "code",
   "execution_count": 188,
   "metadata": {},
   "outputs": [],
   "source": [
    "#bots.append('Crona')"
   ]
  },
  {
   "cell_type": "code",
   "execution_count": 189,
   "metadata": {},
   "outputs": [],
   "source": [
    "#bots.append('StyxZ')"
   ]
  },
  {
   "cell_type": "code",
   "execution_count": 190,
   "metadata": {},
   "outputs": [],
   "source": [
    "#bots.append('ZZZKBot')"
   ]
  },
  {
   "cell_type": "code",
   "execution_count": 191,
   "metadata": {},
   "outputs": [],
   "source": [
    "#bots.append('CUNYBot')"
   ]
  },
  {
   "cell_type": "code",
   "execution_count": 192,
   "metadata": {},
   "outputs": [],
   "source": [
    "#bots.append('TCPZerg')"
   ]
  },
  {
   "cell_type": "code",
   "execution_count": 193,
   "metadata": {},
   "outputs": [],
   "source": [
    "#bots.append('Ophelia')"
   ]
  },
  {
   "cell_type": "code",
   "execution_count": 194,
   "metadata": {},
   "outputs": [],
   "source": [
    "for b in bots: match.append(b)"
   ]
  },
  {
   "cell_type": "code",
   "execution_count": 195,
   "metadata": {},
   "outputs": [
    {
     "data": {
      "text/plain": [
       "3"
      ]
     },
     "execution_count": 195,
     "metadata": {},
     "output_type": "execute_result"
    }
   ],
   "source": [
    "len(list(itertools.combinations(match,2)))"
   ]
  },
  {
   "cell_type": "code",
   "execution_count": 196,
   "metadata": {},
   "outputs": [
    {
     "data": {
      "text/plain": [
       "[('Locutus', 'Letabot'), ('Locutus', 'Microwave'), ('Letabot', 'Microwave')]"
      ]
     },
     "execution_count": 196,
     "metadata": {},
     "output_type": "execute_result"
    }
   ],
   "source": [
    "list(itertools.combinations(match,2))"
   ]
  },
  {
   "cell_type": "code",
   "execution_count": 197,
   "metadata": {},
   "outputs": [],
   "source": [
    "pairs = list(itertools.combinations(match,2))"
   ]
  },
  {
   "cell_type": "code",
   "execution_count": 198,
   "metadata": {},
   "outputs": [
    {
     "data": {
      "text/plain": [
       "3"
      ]
     },
     "execution_count": 198,
     "metadata": {},
     "output_type": "execute_result"
    }
   ],
   "source": [
    "len(list(itertools.combinations(match,2)))"
   ]
  },
  {
   "cell_type": "code",
   "execution_count": 199,
   "metadata": {},
   "outputs": [],
   "source": [
    "for x in maps: match.append(x)"
   ]
  },
  {
   "cell_type": "code",
   "execution_count": 200,
   "metadata": {},
   "outputs": [],
   "source": [
    "for x in list(itertools.combinations(match,3)): \n",
    "    if '\\\\' in x[2] and not '\\\\' in x[0] and not '\\\\' in x[1]:\n",
    "        games.append(x)\n",
    "    else:\n",
    "        pass"
   ]
  },
  {
   "cell_type": "code",
   "execution_count": 201,
   "metadata": {},
   "outputs": [
    {
     "name": "stdout",
     "output_type": "stream",
     "text": [
      "9\n"
     ]
    }
   ],
   "source": [
    "print(len(games))"
   ]
  },
  {
   "cell_type": "code",
   "execution_count": 202,
   "metadata": {},
   "outputs": [
    {
     "name": "stdout",
     "output_type": "stream",
     "text": [
      "[('Locutus', 'Letabot'), ('Locutus', 'Microwave'), ('Letabot', 'Microwave')]\n"
     ]
    }
   ],
   "source": [
    "print(pairs)"
   ]
  },
  {
   "cell_type": "code",
   "execution_count": 203,
   "metadata": {},
   "outputs": [
    {
     "data": {
      "text/plain": [
       "[('Locutus', 'Letabot', '\\\\(4\\\\)CircuitBreaker.scx'),\n",
       " ('Locutus', 'Letabot', '\\\\(3\\\\)Aztec2.1.scx'),\n",
       " ('Locutus', 'Letabot', '\\\\(2\\\\)BlueStorm1.2.scx'),\n",
       " ('Locutus', 'Microwave', '\\\\(4\\\\)CircuitBreaker.scx'),\n",
       " ('Locutus', 'Microwave', '\\\\(3\\\\)Aztec2.1.scx'),\n",
       " ('Locutus', 'Microwave', '\\\\(2\\\\)BlueStorm1.2.scx'),\n",
       " ('Letabot', 'Microwave', '\\\\(4\\\\)CircuitBreaker.scx'),\n",
       " ('Letabot', 'Microwave', '\\\\(3\\\\)Aztec2.1.scx'),\n",
       " ('Letabot', 'Microwave', '\\\\(2\\\\)BlueStorm1.2.scx')]"
      ]
     },
     "execution_count": 203,
     "metadata": {},
     "output_type": "execute_result"
    }
   ],
   "source": [
    "games"
   ]
  },
  {
   "cell_type": "code",
   "execution_count": 204,
   "metadata": {},
   "outputs": [],
   "source": [
    "tec = list(enumerate(games))"
   ]
  },
  {
   "cell_type": "code",
   "execution_count": 205,
   "metadata": {},
   "outputs": [
    {
     "data": {
      "text/plain": [
       "UUID('5c5df2c5-6c12-42df-a7fa-ce5be5b438e4')"
      ]
     },
     "execution_count": 205,
     "metadata": {},
     "output_type": "execute_result"
    }
   ],
   "source": [
    "system_uuid"
   ]
  },
  {
   "cell_type": "code",
   "execution_count": 206,
   "metadata": {},
   "outputs": [
    {
     "data": {
      "text/plain": [
       "891"
      ]
     },
     "execution_count": 206,
     "metadata": {},
     "output_type": "execute_result"
    }
   ],
   "source": [
    "len(games * 99)"
   ]
  },
  {
   "cell_type": "code",
   "execution_count": 207,
   "metadata": {},
   "outputs": [
    {
     "data": {
      "text/plain": [
       "297.0"
      ]
     },
     "execution_count": 207,
     "metadata": {},
     "output_type": "execute_result"
    }
   ],
   "source": [
    "len(games * 99) / 3"
   ]
  },
  {
   "cell_type": "code",
   "execution_count": 208,
   "metadata": {},
   "outputs": [
    {
     "data": {
      "text/plain": [
       "[(0, ('Locutus', 'Letabot', '\\\\(4\\\\)CircuitBreaker.scx')),\n",
       " (1, ('Locutus', 'Letabot', '\\\\(3\\\\)Aztec2.1.scx')),\n",
       " (2, ('Locutus', 'Letabot', '\\\\(2\\\\)BlueStorm1.2.scx')),\n",
       " (3, ('Locutus', 'Microwave', '\\\\(4\\\\)CircuitBreaker.scx')),\n",
       " (4, ('Locutus', 'Microwave', '\\\\(3\\\\)Aztec2.1.scx')),\n",
       " (5, ('Locutus', 'Microwave', '\\\\(2\\\\)BlueStorm1.2.scx')),\n",
       " (6, ('Letabot', 'Microwave', '\\\\(4\\\\)CircuitBreaker.scx')),\n",
       " (7, ('Letabot', 'Microwave', '\\\\(3\\\\)Aztec2.1.scx')),\n",
       " (8, ('Letabot', 'Microwave', '\\\\(2\\\\)BlueStorm1.2.scx'))]"
      ]
     },
     "execution_count": 208,
     "metadata": {},
     "output_type": "execute_result"
    }
   ],
   "source": [
    "tec"
   ]
  },
  {
   "cell_type": "code",
   "execution_count": 66,
   "metadata": {},
   "outputs": [],
   "source": [
    "# Things are data structures and processes."
   ]
  },
  {
   "cell_type": "code",
   "execution_count": 67,
   "metadata": {},
   "outputs": [],
   "source": [
    "# Implementation and internal details irrelevant!"
   ]
  },
  {
   "cell_type": "code",
   "execution_count": 68,
   "metadata": {},
   "outputs": [],
   "source": [
    "# Everything is run within a process."
   ]
  },
  {
   "cell_type": "code",
   "execution_count": 69,
   "metadata": {},
   "outputs": [],
   "source": [
    "# All process communication by asynchonous messages."
   ]
  },
  {
   "cell_type": "code",
   "execution_count": null,
   "metadata": {},
   "outputs": [],
   "source": []
  },
  {
   "cell_type": "code",
   "execution_count": null,
   "metadata": {},
   "outputs": [],
   "source": []
  },
  {
   "cell_type": "code",
   "execution_count": null,
   "metadata": {},
   "outputs": [],
   "source": []
  },
  {
   "cell_type": "code",
   "execution_count": 235,
   "metadata": {},
   "outputs": [],
   "source": [
    "r = requests.get('http://127.0.0.1:58008/games')"
   ]
  },
  {
   "cell_type": "code",
   "execution_count": 236,
   "metadata": {},
   "outputs": [
    {
     "data": {
      "text/plain": [
       "200"
      ]
     },
     "execution_count": 236,
     "metadata": {},
     "output_type": "execute_result"
    }
   ],
   "source": [
    "r.status_code"
   ]
  },
  {
   "cell_type": "code",
   "execution_count": null,
   "metadata": {},
   "outputs": [],
   "source": []
  },
  {
   "cell_type": "code",
   "execution_count": 237,
   "metadata": {},
   "outputs": [
    {
     "data": {
      "text/plain": [
       "{'count': 8,\n",
       " 'page': 1,\n",
       " 'results': [{'uuid': '4c489b26-4c20-4764-9e1a-4bc8e69185c3',\n",
       "   'game': 1,\n",
       "   'session': '6de0965e-8155-4d96-884c-dd9bc9f76eee',\n",
       "   'bots': 'Locutus:Letabot',\n",
       "   'map': '\\\\(4\\\\)Gladiator1.1.scx',\n",
       "   'home_is_winner': False,\n",
       "   'home_crashed': False,\n",
       "   'home_timed_out': False,\n",
       "   'away_is_winner': False,\n",
       "   'away_crashed': False,\n",
       "   'away_timed_out': False,\n",
       "   'created_at': '2020-04-27T15:58:09.278718',\n",
       "   'status': 'duckduckduck'},\n",
       "  {'uuid': '37907073-4588-4bac-97c5-859f80155940',\n",
       "   'game': 6,\n",
       "   'session': '6de0965e-8155-4d96-884c-dd9bc9f76eee',\n",
       "   'bots': 'Letabot:Microwave',\n",
       "   'map': '\\\\(2\\\\)BlueStorm1.2.scx',\n",
       "   'home_is_winner': False,\n",
       "   'home_crashed': False,\n",
       "   'home_timed_out': False,\n",
       "   'away_is_winner': False,\n",
       "   'away_crashed': False,\n",
       "   'away_timed_out': False,\n",
       "   'created_at': '2020-04-27T15:58:09.315503'},\n",
       "  {'uuid': '10dcd9ed-4ed9-4c2c-a27e-569aede60765',\n",
       "   'game': 8,\n",
       "   'session': '6de0965e-8155-4d96-884c-dd9bc9f76eee',\n",
       "   'bots': 'Letabot:Microwave',\n",
       "   'map': '\\\\(3\\\\)PowerBond.scx',\n",
       "   'home_is_winner': False,\n",
       "   'home_crashed': False,\n",
       "   'home_timed_out': False,\n",
       "   'away_is_winner': False,\n",
       "   'away_crashed': False,\n",
       "   'away_timed_out': False,\n",
       "   'created_at': '2020-04-27T15:58:09.326991'},\n",
       "  {'uuid': 'e7dcc1cf-ddbe-4638-8d5a-8d7c5277d4ae',\n",
       "   'game': 2,\n",
       "   'session': '6de0965e-8155-4d96-884c-dd9bc9f76eee',\n",
       "   'bots': 'Locutus:Letabot',\n",
       "   'map': '\\\\(3\\\\)PowerBond.scx',\n",
       "   'home_is_winner': False,\n",
       "   'home_crashed': False,\n",
       "   'home_timed_out': False,\n",
       "   'away_is_winner': False,\n",
       "   'away_crashed': False,\n",
       "   'away_timed_out': False,\n",
       "   'created_at': '2020-04-27T15:58:09.285274'},\n",
       "  {'uuid': 'ea7f6b52-6c8e-4309-acf5-78e4a6fdf967',\n",
       "   'game': 5,\n",
       "   'session': '6de0965e-8155-4d96-884c-dd9bc9f76eee',\n",
       "   'bots': 'Locutus:Microwave',\n",
       "   'map': '\\\\(3\\\\)PowerBond.scx',\n",
       "   'home_is_winner': False,\n",
       "   'home_crashed': False,\n",
       "   'home_timed_out': False,\n",
       "   'away_is_winner': False,\n",
       "   'away_crashed': False,\n",
       "   'away_timed_out': False,\n",
       "   'created_at': '2020-04-27T15:58:09.308462'},\n",
       "  {'uuid': '213e1fee-a397-42cd-9187-d10654d65a8a',\n",
       "   'game': 7,\n",
       "   'session': '6de0965e-8155-4d96-884c-dd9bc9f76eee',\n",
       "   'bots': 'Letabot:Microwave',\n",
       "   'map': '\\\\(4\\\\)Gladiator1.1.scx',\n",
       "   'home_is_winner': False,\n",
       "   'home_crashed': False,\n",
       "   'home_timed_out': False,\n",
       "   'away_is_winner': False,\n",
       "   'away_crashed': False,\n",
       "   'away_timed_out': False,\n",
       "   'created_at': '2020-04-27T15:58:09.321519'},\n",
       "  {'uuid': '05382fe1-2f90-4163-b287-d0f93485b49c',\n",
       "   'game': 4,\n",
       "   'session': '6de0965e-8155-4d96-884c-dd9bc9f76eee',\n",
       "   'bots': 'Locutus:Microwave',\n",
       "   'map': '\\\\(4\\\\)Gladiator1.1.scx',\n",
       "   'home_is_winner': False,\n",
       "   'home_crashed': False,\n",
       "   'home_timed_out': False,\n",
       "   'away_is_winner': False,\n",
       "   'away_crashed': False,\n",
       "   'away_timed_out': False,\n",
       "   'created_at': '2020-04-27T15:58:09.298828'},\n",
       "  {'uuid': '281a1c75-a464-4756-a55b-d1f21be0d08f',\n",
       "   'game': 3,\n",
       "   'session': '6de0965e-8155-4d96-884c-dd9bc9f76eee',\n",
       "   'bots': 'Locutus:Microwave',\n",
       "   'map': '\\\\(2\\\\)BlueStorm1.2.scx',\n",
       "   'home_is_winner': False,\n",
       "   'home_crashed': False,\n",
       "   'home_timed_out': False,\n",
       "   'away_is_winner': False,\n",
       "   'away_crashed': False,\n",
       "   'away_timed_out': False,\n",
       "   'created_at': '2020-04-27T15:58:09.291933'}]}"
      ]
     },
     "execution_count": 237,
     "metadata": {},
     "output_type": "execute_result"
    }
   ],
   "source": [
    "json.loads(r.content)"
   ]
  },
  {
   "cell_type": "code",
   "execution_count": 73,
   "metadata": {},
   "outputs": [],
   "source": [
    "data = {}"
   ]
  },
  {
   "cell_type": "code",
   "execution_count": 74,
   "metadata": {},
   "outputs": [],
   "source": [
    "#for x in tec:\n",
    "#    data['game'] = x[0]\n",
    "#    data['session'] = str(system_uuid)\n",
    "#    data['bots'] = ':'.join((x[1][0], x[1][1]))\n",
    "#    data['map'] = x[1][2]\n",
    "#    r = requests.post('http://127.0.0.1:58008/games', json.dumps(data))"
   ]
  },
  {
   "cell_type": "code",
   "execution_count": 305,
   "metadata": {},
   "outputs": [],
   "source": [
    "r = requests.get('http://127.0.0.1:58008/games/4c489b26-4c20-4764-9e1a-4bc8e69185c3')"
   ]
  },
  {
   "cell_type": "code",
   "execution_count": 306,
   "metadata": {},
   "outputs": [],
   "source": [
    "a = json.loads(r.content)"
   ]
  },
  {
   "cell_type": "code",
   "execution_count": 307,
   "metadata": {},
   "outputs": [
    {
     "data": {
      "text/plain": [
       "{'uuid': '4c489b26-4c20-4764-9e1a-4bc8e69185c3',\n",
       " 'game': 1,\n",
       " 'session': '6de0965e-8155-4d96-884c-dd9bc9f76eee',\n",
       " 'bots': 'Locutus:Letabot',\n",
       " 'map': '\\\\(4\\\\)Gladiator1.1.scx',\n",
       " 'home_is_winner': False,\n",
       " 'home_crashed': False,\n",
       " 'home_timed_out': False,\n",
       " 'away_is_winner': False,\n",
       " 'away_crashed': False,\n",
       " 'away_timed_out': False,\n",
       " 'created_at': '2020-04-27T15:58:09.278718',\n",
       " 'status': 'new'}"
      ]
     },
     "execution_count": 307,
     "metadata": {},
     "output_type": "execute_result"
    }
   ],
   "source": [
    "a"
   ]
  },
  {
   "cell_type": "code",
   "execution_count": 302,
   "metadata": {},
   "outputs": [],
   "source": [
    "data = {'status': 'new'}"
   ]
  },
  {
   "cell_type": "code",
   "execution_count": 303,
   "metadata": {},
   "outputs": [],
   "source": [
    "r = requests.patch('http://127.0.0.1:58008/games/4c489b26-4c20-4764-9e1a-4bc8e69185c3', json.dumps(data))"
   ]
  },
  {
   "cell_type": "code",
   "execution_count": 304,
   "metadata": {},
   "outputs": [
    {
     "data": {
      "text/plain": [
       "200"
      ]
     },
     "execution_count": 304,
     "metadata": {},
     "output_type": "execute_result"
    }
   ],
   "source": [
    "r.status_code"
   ]
  },
  {
   "cell_type": "code",
   "execution_count": 291,
   "metadata": {},
   "outputs": [
    {
     "data": {
      "text/plain": [
       "b'<html><title>500: Internal Server Error</title><body>500: Internal Server Error</body></html>'"
      ]
     },
     "execution_count": 291,
     "metadata": {},
     "output_type": "execute_result"
    }
   ],
   "source": [
    "r.content"
   ]
  },
  {
   "cell_type": "code",
   "execution_count": null,
   "metadata": {},
   "outputs": [],
   "source": []
  },
  {
   "cell_type": "code",
   "execution_count": 278,
   "metadata": {},
   "outputs": [],
   "source": [
    "r = requests.options('http://127.0.0.1:58008/games')"
   ]
  },
  {
   "cell_type": "code",
   "execution_count": 279,
   "metadata": {},
   "outputs": [
    {
     "data": {
      "text/plain": [
       "{'Allow': ['HEAD', 'GET', 'POST', 'PATCH', 'DELETE', 'OPTIONS'],\n",
       " 'POST': {'description': 'Create new game',\n",
       "  'parameters': {'address': 'str',\n",
       "   'away': 'str',\n",
       "   'away_building_score': 'int',\n",
       "   'away_crashed': 'bool',\n",
       "   'away_is_winner': 'bool',\n",
       "   'away_razing_score': 'int',\n",
       "   'away_timed_out': 'bool',\n",
       "   'away_unit_score': 'int',\n",
       "   'bots': 'str',\n",
       "   'created_at': 'str',\n",
       "   'created_by': 'str',\n",
       "   'game': 'int',\n",
       "   'history': 'list',\n",
       "   'home': 'str',\n",
       "   'home_building_score': 'str',\n",
       "   'home_crashed': 'bool',\n",
       "   'home_is_winner': 'bool',\n",
       "   'home_razing_score': 'str',\n",
       "   'home_timed_out': 'bool',\n",
       "   'home_unit_score': 'int',\n",
       "   'labels': 'list/str',\n",
       "   'last_update_at': 'float',\n",
       "   'last_update_by': 'str',\n",
       "   'map': 'str',\n",
       "   'replay': 'str',\n",
       "   'session': 'str',\n",
       "   'status': 'str',\n",
       "   'uuid': 'str'}}}"
      ]
     },
     "execution_count": 279,
     "metadata": {},
     "output_type": "execute_result"
    }
   ],
   "source": [
    "json.loads(r.content)"
   ]
  },
  {
   "cell_type": "code",
   "execution_count": null,
   "metadata": {},
   "outputs": [],
   "source": []
  }
 ],
 "metadata": {
  "kernelspec": {
   "display_name": "Python 3",
   "language": "python",
   "name": "python3"
  },
  "language_info": {
   "codemirror_mode": {
    "name": "ipython",
    "version": 3
   },
   "file_extension": ".py",
   "mimetype": "text/x-python",
   "name": "python",
   "nbconvert_exporter": "python",
   "pygments_lexer": "ipython3",
   "version": "3.7.3"
  }
 },
 "nbformat": 4,
 "nbformat_minor": 2
}
