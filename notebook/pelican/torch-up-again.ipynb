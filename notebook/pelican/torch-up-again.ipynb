{
 "cells": [
  {
   "cell_type": "markdown",
   "metadata": {},
   "source": [
    "The challenge to manage a computer cluster to run some experiments, from ideas, the systems to build and control datasets, the distributed programming, the building of the actual cluster, handling the gpus, the building of a system that use that cluster and actually manage to do \"X\", ..is actually quite hard."
   ]
  },
  {
   "cell_type": "markdown",
   "metadata": {},
   "source": [
    "Self-play mechanisms inside a simulation transfer well to the physical world, simulation is a tool, witch its strengths and its weknesses, as a tool we should use it."
   ]
  },
  {
   "cell_type": "markdown",
   "metadata": {},
   "source": [
    "Systems that learn by exploring the environment in a competitive setting against other entities similar in skill than them, competing against each other and incrementally improving this way."
   ]
  },
  {
   "cell_type": "markdown",
   "metadata": {},
   "source": [
    "We use human data to explore the science of what deep learning can achieve, human data is used as steping stone to help us for pragmatic reasons go faster towards our goals then we might be able to starting solely from self-play."
   ]
  },
  {
   "cell_type": "markdown",
   "metadata": {},
   "source": [
    "Components based on human data can help understand the system such that then you can build the more principled version later that does it for itself."
   ]
  },
  {
   "cell_type": "markdown",
   "metadata": {},
   "source": [
    "In our constructivistic adventure we are not exploring the reinforcement learning path, ...  "
   ]
  },
  {
   "cell_type": "markdown",
   "metadata": {},
   "source": [
    "Our approach is more around the telephone switchboard and the brain analogy found in very old cybernetic and reductionist books and vision this is all quite vage and this still about the missing torch-up results! not the place nor the time, lets focus on what we actually have.."
   ]
  },
  {
   "cell_type": "markdown",
   "metadata": {},
   "source": [
    "- [ ] Run your stuff with runit, just runit!\n",
    "- [ ] We don't expect anyone to take the map pool very serious until the results are posted, but hey, here it is."
   ]
  },
  {
   "cell_type": "markdown",
   "metadata": {},
   "source": [
    "  \n",
    "| (4) Sparkle | &nbsp; | (3) Reap the Storm | &nbsp; | (2) Hitchhiker |\n",
    ":---:|:---:|:---:|:---:|:---:|\n",
    "| <img src=\"https://spacebeam.org/images/maps/Sparkle.jpg\" width=\"200\"> | &nbsp; | <img src=\"https://spacebeam.org/images/maps/Reap_the_Storm.jpg\" width=\"200\"> | &nbsp; | <img src=\"https://spacebeam.org/images/maps/Hitchhiker.jpg\" width=\"200\"> |\n",
    "\n",
    "| (3) Neo Sylphid | &nbsp; | (4) Colosseum II | &nbsp; | (2) Match Point |\n",
    ":---:|:---:|:---:|:---:|:---:|\n",
    "| <img src=\"maps/NeoSylphid.jpg\" width=\"200\"> | &nbsp; | <img src=\"maps/ColosseumII.jpg\" width=\"200\"> | &nbsp; | <img src=\"maps/MatchPoint.jpg\" width=\"200\"> |\n",
    "\n",
    "| (4) Empire of the Sun | &nbsp; | (3) Core Breach | &nbsp; | (2) New Bloody Ridge |\n",
    ":---:|:---:|:---:|:---:|:---:|\n",
    "| <img src=\"maps/NewEmpire.jpg\" width=\"200\"> | &nbsp; | <img src=\"maps/CoreBreach.jpg\" width=\"200\"> | &nbsp; | <img src=\"maps/New_Bloody_Ridge.jpg\" width=\"200\"> |\n",
    "\n",
    "\n",
    "- [ ] team maps and the future since bwheadless.exe only support 1v1 games without recompile\n",
    "\n",
    "\n",
    "[click here](https://torchup.org/files/maps.zip), to download them on zip file.\n",
    "\n",
    "\n",
    "| (4) Iron Curtain                                  | &nbsp; | (8) Fastest Possible                         |\n",
    "| :---:                                             | :---:  | :---:                                        |\n",
    "| <img src=\"maps/Iron_Curtain.jpg\" width=\"300\"> | &nbsp; | <img src=\"maps/Fastest.jpeg\" width=\"300\"> |"
   ]
  },
  {
   "cell_type": "code",
   "execution_count": null,
   "metadata": {},
   "outputs": [],
   "source": []
  }
 ],
 "metadata": {
  "kernelspec": {
   "display_name": "Python 3",
   "language": "python",
   "name": "python3"
  },
  "language_info": {
   "codemirror_mode": {
    "name": "ipython",
    "version": 3
   },
   "file_extension": ".py",
   "mimetype": "text/x-python",
   "name": "python",
   "nbconvert_exporter": "python",
   "pygments_lexer": "ipython3",
   "version": "3.7.3"
  }
 },
 "nbformat": 4,
 "nbformat_minor": 2
}
