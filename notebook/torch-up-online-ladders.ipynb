{
 "cells": [
  {
   "cell_type": "markdown",
   "metadata": {},
   "source": [
    "## 1v1 online ladder maps"
   ]
  },
  {
   "cell_type": "markdown",
   "metadata": {},
   "source": [
    "  \n",
    "| (3) Neo Sylphid | &nbsp; | (4) Circuit Breaker | &nbsp; | (2) Third World |\n",
    ":---:|:---:|:---:|:---:|:---:|\n",
    "| <img src=\"https://spacebeam.org/images/maps/NeoSylphid.jpg\" width=\"200\"> | &nbsp; | <img src=\"https://spacebeam.org/images/maps/Circuit_Breaker.jpg\" width=\"200\"> | &nbsp; | <img src=\"https://spacebeam.org/images/maps/ThirdWorld.jpg\" width=\"200\"> |\n",
    "\n",
    "| (4) Colosseum II | &nbsp; | (3) Core Breach | &nbsp; | (2) Crossing Field |\n",
    ":---:|:---:|:---:|:---:|:---:|\n",
    "| <img src=\"https://spacebeam.org/images/maps/ColosseumII.jpg\" width=\"200\"> | &nbsp; | <img src=\"https://spacebeam.org/images/maps/CoreBreach.jpg\" width=\"200\"> | &nbsp; | <img src=\"https://spacebeam.org/images/maps/CrossingField.jpg\" width=\"200\"> |                                           \n",
    "\n",
    "| (3) Power Bond | &nbsp; | (4) New Empire of the Sun | &nbsp; | (2) Cross Game |\n",
    ":---:|:---:|:---:|:---:|:---:|\n",
    "| <img src=\"https://spacebeam.org/images/maps/Power_Bond.jpg\" width=\"200\"> | &nbsp; | <img src=\"https://spacebeam.org/images/maps/NewEmpire.jpg\" width=\"200\"> | &nbsp; | <img  src=\"https://spacebeam.org/images/maps/CrossGame.jpg\" width=\"200\"> |\n",
    "                                                                                             "
   ]
  },
  {
   "cell_type": "markdown",
   "metadata": {},
   "source": [
    "## 2v2 online ladder maps"
   ]
  },
  {
   "cell_type": "markdown",
   "metadata": {},
   "source": [
    "  \n",
    "| (4) Neo Jade | &nbsp; | (4) Avalon | &nbsp; | (4) Iron Curtain |\n",
    ":---:|:---:|:---:|:---:|:---:|\n",
    "| <img src=\"https://spacebeam.org/images/maps/NeoJade.jpg\" width=\"200\"> | &nbsp; | <img src=\"https://spacebeam.org/images/maps/Avalon.jpg\" width=\"200\"> | &nbsp; | <img src=\"https://spacebeam.org/images/maps/Iron_Curtain.jpg\" width=\"200\"> |\n",
    "\n",
    "| (4) The Fortress SE | &nbsp; | (4) God's Garden | &nbsp; | (4) Vampire |\n",
    ":---:|:---:|:---:|:---:|:---:|\n",
    "| <img src=\"https://spacebeam.org/images/maps/TheFortressSE.jpg\" width=\"200\"> | &nbsp; | <img src=\"https://spacebeam.org/images/maps/GodsGarden.jpg\" width=\"200\"> | &nbsp; | <img src=\"https://spacebeam.org/images/maps/Vampire.jpg\" width=\"200\"> |\n",
    "\n",
    "| (4) Grand Line SE | &nbsp; | (4) Sparkle | &nbsp; | (4) Dante's Peak SE |\n",
    ":---:|:---:|:---:|:---:|:---:|\n",
    "| <img src=\"https://spacebeam.org/images/maps/GrandLineSE.jpg\" width=\"200\"> | &nbsp; | <img src=\"https://spacebeam.org/images/maps/Sparkle.jpg\" width=\"200\"> | &nbsp; | <img src=\"https://spacebeam.org/images/maps/DantesPeakSE.jpg\" width=\"200\"> |"
   ]
  }
 ],
 "metadata": {
  "kernelspec": {
   "display_name": "Python 3",
   "language": "python",
   "name": "python3"
  },
  "language_info": {
   "codemirror_mode": {
    "name": "ipython",
    "version": 3
   },
   "file_extension": ".py",
   "mimetype": "text/x-python",
   "name": "python",
   "nbconvert_exporter": "python",
   "pygments_lexer": "ipython3",
   "version": "3.7.3"
  }
 },
 "nbformat": 4,
 "nbformat_minor": 2
}
