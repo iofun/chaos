{
 "cells": [
  {
   "cell_type": "markdown",
   "metadata": {},
   "source": [
    "## 1v1 ladder maps"
   ]
  },
  {
   "cell_type": "markdown",
   "metadata": {},
   "source": [
    "  \n",
    "| (4) Fighting Spirit | &nbsp; | (3) Neo Sylphid | &nbsp; | (2) Overwatch |\n",
    ":---:|:---:|:---:|:---:|:---:|\n",
    "| <img src=\"https://spacebeam.org/images/maps/Fighting_Spirit.jpg\" width=\"200\"> | &nbsp; | <img src=\"https://spacebeam.org/images/maps/NeoSylphid.jpg\" width=\"200\"> | &nbsp; | <img src=\"https://spacebeam.org/images/maps/Overwatch.jpg\" width=\"200\"> |\n",
    "\n",
    "| (4) New Empire of the Sun | &nbsp; | (2) Benzene | &nbsp; | (3) Power Bond |\n",
    ":---:|:---:|:---:|:---:|:---:|\n",
    "| <img src=\"https://spacebeam.org/images/maps/NewEmpire.jpg\" width=\"200\"> | &nbsp; | <img src=\"https://torchup.org/images/maps/Benzene.jpg\" width=\"200\"> | &nbsp; | <img src=\"https://spacebeam.org/images/maps/Power_Bond.jpg\" width=\"200\"> |                                           \n",
    "\n",
    "| (4) Circuit Breaker |\n",
    ":---:| \n",
    "| <img src=\"https://spacebeam.org/images/maps/Circuit_Breaker.jpg\" width=\"200\"> \n",
    "                                                                                             "
   ]
  }
 ],
 "metadata": {
  "kernelspec": {
   "display_name": "Python 3",
   "language": "python",
   "name": "python3"
  },
  "language_info": {
   "codemirror_mode": {
    "name": "ipython",
    "version": 3
   },
   "file_extension": ".py",
   "mimetype": "text/x-python",
   "name": "python",
   "nbconvert_exporter": "python",
   "pygments_lexer": "ipython3",
   "version": "3.7.3"
  }
 },
 "nbformat": 4,
 "nbformat_minor": 2
}
