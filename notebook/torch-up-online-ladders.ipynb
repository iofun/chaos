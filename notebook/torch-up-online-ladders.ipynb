{
 "cells": [
  {
   "cell_type": "markdown",
   "metadata": {},
   "source": [
    "## 2v2 online ladder maps"
   ]
  },
  {
   "cell_type": "markdown",
   "metadata": {},
   "source": [
    "  \n",
    "| (4) Neo Jade | &nbsp; | (4) Avalon | &nbsp; | (4) Iron Curtain |\n",
    ":---:|:---:|:---:|:---:|:---:|\n",
    "| <img src=\"https://spacebeam.org/images/maps/NeoJade.jpg\" width=\"200\"> | &nbsp; | <img src=\"https://spacebeam.org/images/maps/Avalon.jpg\" width=\"200\"> | &nbsp; | <img src=\"https://spacebeam.org/images/maps/Iron_Curtain.jpg\" width=\"200\"> |\n",
    "\n",
    "| (4) The Fortress SE | &nbsp; | (4) God's Garden | &nbsp; | (4) Vampire |\n",
    ":---:|:---:|:---:|:---:|:---:|\n",
    "| <img src=\"https://spacebeam.org/images/maps/TheFortressSE.jpg\" width=\"200\"> | &nbsp; | <img src=\"https://spacebeam.org/images/maps/GodsGarden.jpg\" width=\"200\"> | &nbsp; | <img src=\"https://spacebeam.org/images/maps/Vampire.jpg\" width=\"200\"> |\n",
    "\n",
    "| (4) Grand Line SE | &nbsp; | (4) Sparkle | &nbsp; | (4) Dante's Peak SE |\n",
    ":---:|:---:|:---:|:---:|:---:|\n",
    "| <img src=\"https://spacebeam.org/images/maps/GrandLineSE.jpg\" width=\"200\"> | &nbsp; | <img src=\"https://spacebeam.org/images/maps/Sparkle.jpg\" width=\"200\"> | &nbsp; | <img src=\"https://spacebeam.org/images/maps/DantesPeakSE.jpg\" width=\"200\"> |"
   ]
  },
  {
   "cell_type": "markdown",
   "metadata": {},
   "source": [
    "## 1v1 online ladder maps"
   ]
  },
  {
   "cell_type": "markdown",
   "metadata": {},
   "source": [
    "  \n",
    "| (4) Eye of the Storm | &nbsp; | (3) Outsider SE | &nbsp; | (2) Alternative |\n",
    ":---:|:---:|:---:|:---:|:---:|\n",
    "| <img src=\"https://spacebeam.org/images/maps/Eye_of_the_Storm.jpg\" width=\"200\"> | &nbsp; | <img src=\"https://spacebeam.org/images/maps/OutsiderSE.jpg\" width=\"200\"> | &nbsp; | <img src=\"https://spacebeam.org/images/maps/Alternative.jpg\" width=\"200\"> |\n",
    "\n",
    "| (4) Clay Fields | &nbsp; | (3) Medusa | &nbsp; | (2) Crossing Field |\n",
    ":---:|:---:|:---:|:---:|:---:|\n",
    "| <img src=\"https://spacebeam.org/images/maps/Clay_Fields.jpg\" width=\"200\"> | &nbsp; | <img src=\"https://spacebeam.org/images/maps/Medusa.jpg\" width=\"200\"> | &nbsp; | <img src=\"https://spacebeam.org/images/maps/CrossingField.jpg\" width=\"200\"> |\n",
    "\n",
    "| (4) Neo Ground Zero | &nbsp; | (3) Tau Cross | &nbsp; | (2) Cross Game |\n",
    ":---:|:---:|:---:|:---:|:---:|\n",
    "| <img src=\"https://spacebeam.org/images/maps/NeoGroundZero.jpg\" width=\"200\"> | &nbsp; | <img src=\"https://spacebeam.org/images/maps/TauCross.jpg\" width=\"200\"> | &nbsp; | <img src=\"https://spacebeam.org/images/maps/CrossGame.jpg\" width=\"200\"> |\n",
    "\n",
    "| (4) Eddy | &nbsp; | (3) Hazard black | &nbsp; | (2) Monty Hall SE |\n",
    ":---:|:---:|:---:|:---:|:---:|\n",
    "| <img src=\"https://spacebeam.org/images/maps/Eddy.jpg\" width=\"200\"> | &nbsp; | <img src=\"https://spacebeam.org/images/maps/HazardBlack.jpg\" width=\"200\"> | &nbsp; | <img src=\"https://spacebeam.org/images/maps/MontyHall.jpg\" width=\"200\"> |"
   ]
  }
 ],
 "metadata": {
  "kernelspec": {
   "display_name": "Python 3",
   "language": "python",
   "name": "python3"
  },
  "language_info": {
   "codemirror_mode": {
    "name": "ipython",
    "version": 3
   },
   "file_extension": ".py",
   "mimetype": "text/x-python",
   "name": "python",
   "nbconvert_exporter": "python",
   "pygments_lexer": "ipython3",
   "version": "3.7.3"
  }
 },
 "nbformat": 4,
 "nbformat_minor": 2
}
