{
 "cells": [
  {
   "cell_type": "code",
   "execution_count": 1,
   "metadata": {},
   "outputs": [],
   "source": [
    "import hashlib\n"
   ]
  },
  {
   "cell_type": "code",
   "execution_count": null,
   "metadata": {},
   "outputs": [],
   "source": [
    "'ssh admin@{0}.{1}.{2}.{3} -i web.pem'.format('13','58','200','142')"
   ]
  },
  {
   "cell_type": "code",
   "execution_count": null,
   "metadata": {},
   "outputs": [],
   "source": [
    "'ssh admin@{0}.{1}.{2}.{3} -i data.pem'.format('52','14','102','141')"
   ]
  },
  {
   "cell_type": "code",
   "execution_count": 2,
   "metadata": {},
   "outputs": [
    {
     "data": {
      "text/plain": [
       "'585de966958d829428b4508707bafb4bedf4d017'"
      ]
     },
     "execution_count": 2,
     "metadata": {},
     "output_type": "execute_result"
    }
   ],
   "source": [
    "n = hashlib.sha1(b\"1:nginx\").hexdigest()\n",
    "n"
   ]
  },
  {
   "cell_type": "code",
   "execution_count": 3,
   "metadata": {},
   "outputs": [
    {
     "data": {
      "text/plain": [
       "'912aa8aabbb06b681979292666e1264ce992f96d'"
      ]
     },
     "execution_count": 3,
     "metadata": {},
     "output_type": "execute_result"
    }
   ],
   "source": [
    "n = hashlib.sha1(b\"1:kong\").hexdigest()\n",
    "n"
   ]
  },
  {
   "cell_type": "code",
   "execution_count": 4,
   "metadata": {},
   "outputs": [
    {
     "data": {
      "text/plain": [
       "'93da0876e125a4827da0efedcc5a8f082790af82'"
      ]
     },
     "execution_count": 4,
     "metadata": {},
     "output_type": "execute_result"
    }
   ],
   "source": [
    "n = hashlib.sha1(b\"1:postgres\").hexdigest()\n",
    "n"
   ]
  },
  {
   "cell_type": "code",
   "execution_count": 5,
   "metadata": {},
   "outputs": [
    {
     "data": {
      "text/plain": [
       "'34976e9b202f6808228f71bcf5df87141cc72b54'"
      ]
     },
     "execution_count": 5,
     "metadata": {},
     "output_type": "execute_result"
    }
   ],
   "source": [
    "n = hashlib.sha1(b\"1:riak\").hexdigest()\n",
    "n"
   ]
  },
  {
   "cell_type": "code",
   "execution_count": 6,
   "metadata": {},
   "outputs": [
    {
     "data": {
      "text/plain": [
       "'35aa46fd9d30de63b670cb1b4c11e57f6a94e25c'"
      ]
     },
     "execution_count": 6,
     "metadata": {},
     "output_type": "execute_result"
    }
   ],
   "source": [
    "n = hashlib.sha1(b\"2:riak\").hexdigest()\n",
    "n"
   ]
  },
  {
   "cell_type": "code",
   "execution_count": 7,
   "metadata": {},
   "outputs": [
    {
     "data": {
      "text/plain": [
       "'e34d8a83a8a9ac9623989ecea6c6d968c5180948'"
      ]
     },
     "execution_count": 7,
     "metadata": {},
     "output_type": "execute_result"
    }
   ],
   "source": [
    "n = hashlib.sha1(b\"3:riak\").hexdigest()\n",
    "n"
   ]
  },
  {
   "cell_type": "code",
   "execution_count": 8,
   "metadata": {},
   "outputs": [
    {
     "data": {
      "text/plain": [
       "'2bfe543e7249d891ee8f32a9b17731f363e65264'"
      ]
     },
     "execution_count": 8,
     "metadata": {},
     "output_type": "execute_result"
    }
   ],
   "source": [
    "n = hashlib.sha1(b\"1:sloth\").hexdigest()\n",
    "n"
   ]
  },
  {
   "cell_type": "code",
   "execution_count": 9,
   "metadata": {},
   "outputs": [
    {
     "data": {
      "text/plain": [
       "'ed852be2c62fdbc19c4cd4177c4249e22b68973a'"
      ]
     },
     "execution_count": 9,
     "metadata": {},
     "output_type": "execute_result"
    }
   ],
   "source": [
    "n = hashlib.sha1(b\"1:treehouse\").hexdigest()\n",
    "n"
   ]
  },
  {
   "cell_type": "code",
   "execution_count": 10,
   "metadata": {},
   "outputs": [
    {
     "data": {
      "text/plain": [
       "'4a78e1ebc644efa5c42a2b73af48204826d18f5a'"
      ]
     },
     "execution_count": 10,
     "metadata": {},
     "output_type": "execute_result"
    }
   ],
   "source": [
    "n = hashlib.sha1(b\"1:aqueduct\").hexdigest()\n",
    "n"
   ]
  },
  {
   "cell_type": "code",
   "execution_count": 11,
   "metadata": {},
   "outputs": [
    {
     "data": {
      "text/plain": [
       "'8a8303680845d206a1af763bde0f70cfc52350a7'"
      ]
     },
     "execution_count": 11,
     "metadata": {},
     "output_type": "execute_result"
    }
   ],
   "source": [
    "n = hashlib.sha1(b\"2:aqueduct\").hexdigest()\n",
    "n"
   ]
  },
  {
   "cell_type": "code",
   "execution_count": 12,
   "metadata": {},
   "outputs": [
    {
     "data": {
      "text/plain": [
       "'99ca9844c1294bd55a5d576d33b34357c69283ab'"
      ]
     },
     "execution_count": 12,
     "metadata": {},
     "output_type": "execute_result"
    }
   ],
   "source": [
    "n = hashlib.sha1(b\"3:aqueduct\").hexdigest()\n",
    "n"
   ]
  },
  {
   "cell_type": "code",
   "execution_count": 13,
   "metadata": {},
   "outputs": [
    {
     "data": {
      "text/plain": [
       "'97dcb254d84fdd7149ffe6685d981007e2f8cee8'"
      ]
     },
     "execution_count": 13,
     "metadata": {},
     "output_type": "execute_result"
    }
   ],
   "source": [
    "n = hashlib.sha1(b\"1:cas\").hexdigest()\n",
    "n"
   ]
  },
  {
   "cell_type": "code",
   "execution_count": 14,
   "metadata": {},
   "outputs": [
    {
     "data": {
      "text/plain": [
       "'d4d022d4bd3ffa58857419a72884c0ec190c0790'"
      ]
     },
     "execution_count": 14,
     "metadata": {},
     "output_type": "execute_result"
    }
   ],
   "source": [
    "n = hashlib.sha1(b\"2:cas\").hexdigest()\n",
    "n"
   ]
  },
  {
   "cell_type": "code",
   "execution_count": 15,
   "metadata": {},
   "outputs": [
    {
     "data": {
      "text/plain": [
       "'a19092b1d63e701ddf88db35e1284ea998328f0f'"
      ]
     },
     "execution_count": 15,
     "metadata": {},
     "output_type": "execute_result"
    }
   ],
   "source": [
    "n = hashlib.sha1(b\"3:cas\").hexdigest()\n",
    "n"
   ]
  },
  {
   "cell_type": "code",
   "execution_count": 16,
   "metadata": {},
   "outputs": [
    {
     "data": {
      "text/plain": [
       "'00515690a8b0ef3fb528c0af2b5cd10ca98584d2'"
      ]
     },
     "execution_count": 16,
     "metadata": {},
     "output_type": "execute_result"
    }
   ],
   "source": [
    "n = hashlib.sha1(b\"1:colony\").hexdigest()\n",
    "n"
   ]
  },
  {
   "cell_type": "code",
   "execution_count": 17,
   "metadata": {},
   "outputs": [
    {
     "data": {
      "text/plain": [
       "'dc097e371e06cea38484031e36146195ecd79e50'"
      ]
     },
     "execution_count": 17,
     "metadata": {},
     "output_type": "execute_result"
    }
   ],
   "source": [
    "n = hashlib.sha1(b\"2:colony\").hexdigest()\n",
    "n"
   ]
  },
  {
   "cell_type": "code",
   "execution_count": 18,
   "metadata": {},
   "outputs": [
    {
     "data": {
      "text/plain": [
       "'2d52aebe5b248637fb013ddc9ab78fa13d048419'"
      ]
     },
     "execution_count": 18,
     "metadata": {},
     "output_type": "execute_result"
    }
   ],
   "source": [
    "n = hashlib.sha1(b\"3:colony\").hexdigest()\n",
    "n"
   ]
  },
  {
   "cell_type": "code",
   "execution_count": 19,
   "metadata": {},
   "outputs": [
    {
     "data": {
      "text/plain": [
       "'079faefe37aa91c31b34ed3c3f0e868f3f3e137d'"
      ]
     },
     "execution_count": 19,
     "metadata": {},
     "output_type": "execute_result"
    }
   ],
   "source": [
    "n = hashlib.sha1(b\"1:spider\").hexdigest()\n",
    "n"
   ]
  },
  {
   "cell_type": "code",
   "execution_count": 20,
   "metadata": {},
   "outputs": [
    {
     "data": {
      "text/plain": [
       "'3a48fdc51051eafbaad02256f18793a685b2c12c'"
      ]
     },
     "execution_count": 20,
     "metadata": {},
     "output_type": "execute_result"
    }
   ],
   "source": [
    "n = hashlib.sha1(b\"2:spider\").hexdigest()\n",
    "n"
   ]
  },
  {
   "cell_type": "code",
   "execution_count": 21,
   "metadata": {},
   "outputs": [
    {
     "data": {
      "text/plain": [
       "'24cfc768d0961b39ef58e7a4929ed6b0424df78c'"
      ]
     },
     "execution_count": 21,
     "metadata": {},
     "output_type": "execute_result"
    }
   ],
   "source": [
    "n = hashlib.sha1(b\"3:spider\").hexdigest()\n",
    "n"
   ]
  },
  {
   "cell_type": "code",
   "execution_count": 22,
   "metadata": {},
   "outputs": [
    {
     "data": {
      "text/plain": [
       "'c6f9ded672823d7956276b49713a46149be21e47'"
      ]
     },
     "execution_count": 22,
     "metadata": {},
     "output_type": "execute_result"
    }
   ],
   "source": [
    "n = hashlib.sha1(b\"1:howler\").hexdigest()\n",
    "n"
   ]
  },
  {
   "cell_type": "code",
   "execution_count": 23,
   "metadata": {},
   "outputs": [
    {
     "data": {
      "text/plain": [
       "'72f9b0acc57eaea34aa10bd3ac11e7b1523d01e1'"
      ]
     },
     "execution_count": 23,
     "metadata": {},
     "output_type": "execute_result"
    }
   ],
   "source": [
    "n = hashlib.sha1(b\"2:howler\").hexdigest()\n",
    "n"
   ]
  },
  {
   "cell_type": "code",
   "execution_count": 24,
   "metadata": {},
   "outputs": [
    {
     "data": {
      "text/plain": [
       "'8e9cd48a0a388de4ef02e870de5abb5b4e5899e3'"
      ]
     },
     "execution_count": 24,
     "metadata": {},
     "output_type": "execute_result"
    }
   ],
   "source": [
    "n = hashlib.sha1(b\"3:howler\").hexdigest()\n",
    "n"
   ]
  },
  {
   "cell_type": "code",
   "execution_count": 25,
   "metadata": {},
   "outputs": [
    {
     "data": {
      "text/plain": [
       "'d8ea9e910702c189f2cc1377fa70674e5f11974c'"
      ]
     },
     "execution_count": 25,
     "metadata": {},
     "output_type": "execute_result"
    }
   ],
   "source": [
    "n = hashlib.sha1(b\"1:mango\").hexdigest()\n",
    "n"
   ]
  },
  {
   "cell_type": "code",
   "execution_count": 26,
   "metadata": {},
   "outputs": [
    {
     "data": {
      "text/plain": [
       "'c699d7f6df0e004e0265f5ea19e23197fd9cc3bb'"
      ]
     },
     "execution_count": 26,
     "metadata": {},
     "output_type": "execute_result"
    }
   ],
   "source": [
    "n = hashlib.sha1(b\"2:mango\").hexdigest()\n",
    "n"
   ]
  },
  {
   "cell_type": "code",
   "execution_count": 27,
   "metadata": {},
   "outputs": [
    {
     "data": {
      "text/plain": [
       "'7f57415ec2e917692cb1fb4261d35cb440f3e084'"
      ]
     },
     "execution_count": 27,
     "metadata": {},
     "output_type": "execute_result"
    }
   ],
   "source": [
    "n = hashlib.sha1(b\"3:mango\").hexdigest()\n",
    "n"
   ]
  },
  {
   "cell_type": "code",
   "execution_count": null,
   "metadata": {},
   "outputs": [],
   "source": [
    "[\n",
    "    \"Zerg_Hatchery\", \n",
    "    \"Zerg_Lair\", \n",
    "    \"Zerg_Hive\", \n",
    "    \"Zerg_Nydus_Canal\", \n",
    "    \"Zerg_Hydralisk_Den\",\n",
    "    \"Zerg_Defiler_Mound\",\n",
    "    \"Zerg_Greater_Spire\",\n",
    "    \"Zerg_Queens_Nest\",\n",
    "    \"Zerg_Evolution_Chamber\",\n",
    "    \"Zerg_Ultralisk_Cavern\",\n",
    "    \"Zerg_Spire\",\n",
    "    \"Zerg_Spawning_Pool\",\n",
    "    \"Zerg_Creep_Colony\",\n",
    "    \"Zerg_Spore_Colony\",\n",
    "    \"Zerg_Sunken_Colony\",\n",
    "    \"Zerg_Extractor\",\n",
    "    \"Zerg_Larva\",\n",
    "    \"Zerg_Egg\",\n",
    "    \"Zerg_Zergling\",\n",
    "    \"Zerg_Hydralisk\",\n",
    "    \"Zerg_Ultralisk\",\n",
    "    \"Zerg_Broodling\",\n",
    "    \"Zerg_Drone\",\n",
    "    \"Zerg_Overlord\",\n",
    "    \"Zerg_Mutalisk\",\n",
    "    \"Zerg_Guardian\",\n",
    "    \"Zerg_Queen\",\n",
    "    \"Zerg_Defiler\",\n",
    "    \"Zerg_Scourge\",\n",
    "    \"Zerg_Infested_Terran\",\n",
    "    \"Zerg_Cocoon\",\n",
    "    \"Zerg_Devourer\",\n",
    "    \"Zerg_Lurker\",\n",
    "    \"Zerg_Infested_Command_Center\",\n",
    "    \"Zerg_Drone\",\n",
    "    \"Terran_Command_Center\",\n",
    "    \"Terran_Comsat_Station\",\n",
    "    \"Terran_Nuclear_Silo\",\n",
    "    \"Terran_Supply_Depot\",\n",
    "    \"Terran_Refinery\",\n",
    "    \"Terran_Barracks\",\n",
    "    \"Terran_Academy\",\n",
    "    \"Terran_Factory\",\n",
    "    \"Terran_Starport\",\n",
    "    \"Terran_Control_Tower\",\n",
    "    \"Terran_Science_Facility\",\n",
    "    \"Terran_Covert_Ops\",\n",
    "    \"Terran_Physics_Lab\",\n",
    "    \"Terran_Machine_Shop\",\n",
    "    \"Terran_Engineering_Bay\",\n",
    "    \"Terran_Armory\",\n",
    "    \"Terran_Missile_Turret\",\n",
    "    \"Terran_Bunker\",\n",
    "    \"Terran_Marine\",\n",
    "    \"Terran_Ghost\",\n",
    "    \"Terran_Vulture\",\n",
    "    \"Terran_Goliath\",\n",
    "    \"Terran_SCV\",\n",
    "    \"Terran_Wraith\",\n",
    "    \"Terran_Science_Vessel\",\n",
    "    \"Terran_Dropship\",\n",
    "    \"Terran_Battlecruiser\",\n",
    "    \"Terran_Firebat\",\n",
    "    \"Terran_Medic\",\n",
    "    \"Terran_Valkyrie\",\n",
    "    \"Terran_Siege_Tank_Tank_Mode\",\n",
    "    \"\"\n",
    "]"
   ]
  },
  {
   "cell_type": "code",
   "execution_count": 144,
   "metadata": {},
   "outputs": [],
   "source": [
    "ext = 'lua'"
   ]
  },
  {
   "cell_type": "code",
   "execution_count": 167,
   "metadata": {},
   "outputs": [],
   "source": [
    "name = hashlib.md5(b\"Terran_Siege_Tank_Tank_Mode\").hexdigest()"
   ]
  },
  {
   "cell_type": "code",
   "execution_count": 168,
   "metadata": {},
   "outputs": [
    {
     "data": {
      "text/plain": [
       "'d74ea28fc20d466a1980aeed775bd993.lua'"
      ]
     },
     "execution_count": 168,
     "metadata": {},
     "output_type": "execute_result"
    }
   ],
   "source": [
    "'{0}.{1}'.format(name, ext)"
   ]
  },
  {
   "cell_type": "code",
   "execution_count": null,
   "metadata": {},
   "outputs": [],
   "source": []
  },
  {
   "cell_type": "code",
   "execution_count": null,
   "metadata": {},
   "outputs": [],
   "source": []
  },
  {
   "cell_type": "code",
   "execution_count": null,
   "metadata": {},
   "outputs": [],
   "source": []
  }
 ],
 "metadata": {
  "kernelspec": {
   "display_name": "Python 3",
   "language": "python",
   "name": "python3"
  },
  "language_info": {
   "codemirror_mode": {
    "name": "ipython",
    "version": 3
   },
   "file_extension": ".py",
   "mimetype": "text/x-python",
   "name": "python",
   "nbconvert_exporter": "python",
   "pygments_lexer": "ipython3",
   "version": "3.7.3rc1"
  }
 },
 "nbformat": 4,
 "nbformat_minor": 2
}
