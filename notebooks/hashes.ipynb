{
 "cells": [
  {
   "cell_type": "code",
   "execution_count": 27,
   "metadata": {},
   "outputs": [],
   "source": [
    "import hashlib\n",
    "import uuid"
   ]
  },
  {
   "cell_type": "code",
   "execution_count": null,
   "metadata": {},
   "outputs": [],
   "source": [
    "'ssh admin@{0}.{1}.{2}.{3} -i web.pem'.format('13','58','200','142')"
   ]
  },
  {
   "cell_type": "code",
   "execution_count": null,
   "metadata": {},
   "outputs": [],
   "source": [
    "'ssh admin@{0}.{1}.{2}.{3} -i data.pem'.format('52','14','102','141')"
   ]
  },
  {
   "cell_type": "code",
   "execution_count": 40,
   "metadata": {},
   "outputs": [
    {
     "data": {
      "text/plain": [
       "{'sha1': '585de966958d829428b4508707bafb4bedf4d017',\n",
       " 'md5': 'a454e2a1a83eb52c490ca588d59c75fe',\n",
       " 'name': b'1:nginx',\n",
       " 'uuid': 'f9a70243-2ced-4242-81f2-7d2d7e9e96c9'}"
      ]
     },
     "execution_count": 40,
     "metadata": {},
     "output_type": "execute_result"
    }
   ],
   "source": [
    "foo = b\"1:nginx\"\n",
    "\n",
    "bar = {'sha1':hashlib.sha1(foo).hexdigest(),\n",
    "    'md5':hashlib.md5(foo).hexdigest(),\n",
    "    'name':foo,\n",
    "    'uuid':str(uuid.uuid4())}\n",
    "\n",
    "bar"
   ]
  },
  {
   "cell_type": "code",
   "execution_count": 41,
   "metadata": {},
   "outputs": [
    {
     "data": {
      "text/plain": [
       "{'sha1': '912aa8aabbb06b681979292666e1264ce992f96d',\n",
       " 'md5': 'd1ef0c58f61643163fb4b360917f8b77',\n",
       " 'name': b'1:kong',\n",
       " 'uuid': '6794b4f9-9963-45c7-bf97-aa50eda2159c'}"
      ]
     },
     "execution_count": 41,
     "metadata": {},
     "output_type": "execute_result"
    }
   ],
   "source": [
    "foo = b\"1:kong\"\n",
    "\n",
    "bar = {'sha1':hashlib.sha1(foo).hexdigest(),\n",
    "    'md5':hashlib.md5(foo).hexdigest(),\n",
    "    'name':foo,\n",
    "    'uuid':str(uuid.uuid4())}\n",
    "\n",
    "bar"
   ]
  },
  {
   "cell_type": "code",
   "execution_count": 42,
   "metadata": {},
   "outputs": [
    {
     "data": {
      "text/plain": [
       "{'sha1': '93da0876e125a4827da0efedcc5a8f082790af82',\n",
       " 'md5': 'c781989982ab87ac6754f1f9253d1b18',\n",
       " 'name': b'1:postgres',\n",
       " 'uuid': '7b20401b-c151-4241-9c02-f8b5557dc81e'}"
      ]
     },
     "execution_count": 42,
     "metadata": {},
     "output_type": "execute_result"
    }
   ],
   "source": [
    "foo = b\"1:postgres\"\n",
    "\n",
    "bar = {'sha1':hashlib.sha1(foo).hexdigest(),\n",
    "    'md5':hashlib.md5(foo).hexdigest(),\n",
    "    'name':foo,\n",
    "    'uuid':str(uuid.uuid4())}\n",
    "\n",
    "bar"
   ]
  },
  {
   "cell_type": "code",
   "execution_count": 43,
   "metadata": {},
   "outputs": [
    {
     "data": {
      "text/plain": [
       "{'sha1': '34976e9b202f6808228f71bcf5df87141cc72b54',\n",
       " 'md5': 'c187ee987bc6091b16a41801b262880f',\n",
       " 'name': b'1:riak',\n",
       " 'uuid': '9ba9d7c8-1d30-497f-a1b9-08763d367986'}"
      ]
     },
     "execution_count": 43,
     "metadata": {},
     "output_type": "execute_result"
    }
   ],
   "source": [
    "foo = b\"1:riak\"\n",
    "\n",
    "bar = {'sha1':hashlib.sha1(foo).hexdigest(),\n",
    "    'md5':hashlib.md5(foo).hexdigest(),\n",
    "    'name':foo,\n",
    "    'uuid':str(uuid.uuid4())}\n",
    "\n",
    "bar"
   ]
  },
  {
   "cell_type": "code",
   "execution_count": 44,
   "metadata": {},
   "outputs": [
    {
     "data": {
      "text/plain": [
       "{'sha1': '35aa46fd9d30de63b670cb1b4c11e57f6a94e25c',\n",
       " 'md5': 'c7f23a692dbc36c2a9aa04945dd24517',\n",
       " 'name': b'2:riak',\n",
       " 'uuid': '057ef919-573c-4fec-9ef9-f81c42bcd15e'}"
      ]
     },
     "execution_count": 44,
     "metadata": {},
     "output_type": "execute_result"
    }
   ],
   "source": [
    "foo = b\"2:riak\"\n",
    "\n",
    "bar = {'sha1':hashlib.sha1(foo).hexdigest(),\n",
    "    'md5':hashlib.md5(foo).hexdigest(),\n",
    "    'name':foo,\n",
    "    'uuid':str(uuid.uuid4())}\n",
    "\n",
    "bar"
   ]
  },
  {
   "cell_type": "code",
   "execution_count": 45,
   "metadata": {},
   "outputs": [
    {
     "data": {
      "text/plain": [
       "{'sha1': 'e34d8a83a8a9ac9623989ecea6c6d968c5180948',\n",
       " 'md5': '91b66113890667e4ef56dffb7482ed04',\n",
       " 'name': b'3:riak',\n",
       " 'uuid': '3392cce4-9aa3-4f53-8a9a-40cb7cec5dd3'}"
      ]
     },
     "execution_count": 45,
     "metadata": {},
     "output_type": "execute_result"
    }
   ],
   "source": [
    "foo = b\"3:riak\"\n",
    "\n",
    "bar = {'sha1':hashlib.sha1(foo).hexdigest(),\n",
    "    'md5':hashlib.md5(foo).hexdigest(),\n",
    "    'name':foo,\n",
    "    'uuid':str(uuid.uuid4())}\n",
    "\n",
    "bar"
   ]
  },
  {
   "cell_type": "code",
   "execution_count": 46,
   "metadata": {},
   "outputs": [
    {
     "data": {
      "text/plain": [
       "{'sha1': '2bfe543e7249d891ee8f32a9b17731f363e65264',\n",
       " 'md5': 'bcf7a032fcc60dbea3d69dc6931f9dd3',\n",
       " 'name': b'1:sloth',\n",
       " 'uuid': '45920e1e-9385-46f7-8cb5-47f587d82533'}"
      ]
     },
     "execution_count": 46,
     "metadata": {},
     "output_type": "execute_result"
    }
   ],
   "source": [
    "foo = b\"1:sloth\"\n",
    "\n",
    "bar = {'sha1':hashlib.sha1(foo).hexdigest(),\n",
    "    'md5':hashlib.md5(foo).hexdigest(),\n",
    "    'name':foo,\n",
    "    'uuid':str(uuid.uuid4())}\n",
    "\n",
    "bar"
   ]
  },
  {
   "cell_type": "code",
   "execution_count": 47,
   "metadata": {},
   "outputs": [
    {
     "data": {
      "text/plain": [
       "{'sha1': '71db3b2ea442ce1d46d0346f12cf74a38c9f90f1',\n",
       " 'md5': '3b97690f23c41c6d7cc7fcb7965b2d20',\n",
       " 'name': b'1:blackboard',\n",
       " 'uuid': 'a738c1eb-80a8-408a-bbd7-6f37852503d2'}"
      ]
     },
     "execution_count": 47,
     "metadata": {},
     "output_type": "execute_result"
    }
   ],
   "source": [
    "foo = b\"1:blackboard\"\n",
    "\n",
    "bar = {'sha1':hashlib.sha1(foo).hexdigest(),\n",
    "    'md5':hashlib.md5(foo).hexdigest(),\n",
    "    'name':foo,\n",
    "    'uuid':str(uuid.uuid4())}\n",
    "\n",
    "bar"
   ]
  },
  {
   "cell_type": "code",
   "execution_count": 48,
   "metadata": {},
   "outputs": [
    {
     "data": {
      "text/plain": [
       "{'sha1': 'd8ea9e910702c189f2cc1377fa70674e5f11974c',\n",
       " 'md5': '08487ef118db8d7fdad2d163660798f1',\n",
       " 'name': b'1:mango',\n",
       " 'uuid': '02dc4562-9371-4376-982d-dad8607eecdb'}"
      ]
     },
     "execution_count": 48,
     "metadata": {},
     "output_type": "execute_result"
    }
   ],
   "source": [
    "foo = b\"1:mango\"\n",
    "\n",
    "bar = {'sha1':hashlib.sha1(foo).hexdigest(),\n",
    "    'md5':hashlib.md5(foo).hexdigest(),\n",
    "    'name':foo,\n",
    "    'uuid':str(uuid.uuid4())}\n",
    "\n",
    "bar"
   ]
  },
  {
   "cell_type": "code",
   "execution_count": 49,
   "metadata": {},
   "outputs": [
    {
     "data": {
      "text/plain": [
       "{'sha1': 'c699d7f6df0e004e0265f5ea19e23197fd9cc3bb',\n",
       " 'md5': '472c97ca6363865f6728c47a4f171777',\n",
       " 'name': b'2:mango',\n",
       " 'uuid': 'e36849de-ef65-44dd-b6d7-687fee672e03'}"
      ]
     },
     "execution_count": 49,
     "metadata": {},
     "output_type": "execute_result"
    }
   ],
   "source": [
    "foo = b\"2:mango\"\n",
    "\n",
    "bar = {'sha1':hashlib.sha1(foo).hexdigest(),\n",
    "    'md5':hashlib.md5(foo).hexdigest(),\n",
    "    'name':foo,\n",
    "    'uuid':str(uuid.uuid4())}\n",
    "\n",
    "bar"
   ]
  },
  {
   "cell_type": "code",
   "execution_count": 50,
   "metadata": {},
   "outputs": [
    {
     "data": {
      "text/plain": [
       "{'sha1': '7f57415ec2e917692cb1fb4261d35cb440f3e084',\n",
       " 'md5': 'ac612d41314e9ddc52ca1513e964a4da',\n",
       " 'name': b'3:mango',\n",
       " 'uuid': 'c3307bb0-86b9-44d6-9775-31dbb940c9e4'}"
      ]
     },
     "execution_count": 50,
     "metadata": {},
     "output_type": "execute_result"
    }
   ],
   "source": [
    "foo = b\"3:mango\"\n",
    "\n",
    "bar = {'sha1':hashlib.sha1(foo).hexdigest(),\n",
    "    'md5':hashlib.md5(foo).hexdigest(),\n",
    "    'name':foo,\n",
    "    'uuid':str(uuid.uuid4())}\n",
    "\n",
    "bar"
   ]
  },
  {
   "cell_type": "code",
   "execution_count": 51,
   "metadata": {},
   "outputs": [],
   "source": [
    "units = [\n",
    "    \"Zerg_Hatchery\", \n",
    "    \"Zerg_Lair\", \n",
    "    \"Zerg_Hive\", \n",
    "    \"Zerg_Nydus_Canal\", \n",
    "    \"Zerg_Hydralisk_Den\",\n",
    "    \"Zerg_Defiler_Mound\",\n",
    "    \"Zerg_Greater_Spire\",\n",
    "    \"Zerg_Queens_Nest\",\n",
    "    \"Zerg_Evolution_Chamber\",\n",
    "    \"Zerg_Ultralisk_Cavern\",\n",
    "    \"Zerg_Spire\",\n",
    "    \"Zerg_Spawning_Pool\",\n",
    "    \"Zerg_Creep_Colony\",\n",
    "    \"Zerg_Spore_Colony\",\n",
    "    \"Zerg_Sunken_Colony\",\n",
    "    \"Zerg_Extractor\",\n",
    "    \"Zerg_Larva\",\n",
    "    \"Zerg_Egg\",\n",
    "    \"Zerg_Zergling\",\n",
    "    \"Zerg_Hydralisk\",\n",
    "    \"Zerg_Ultralisk\",\n",
    "    \"Zerg_Broodling\",\n",
    "    \"Zerg_Drone\",\n",
    "    \"Zerg_Overlord\",\n",
    "    \"Zerg_Mutalisk\",\n",
    "    \"Zerg_Guardian\",\n",
    "    \"Zerg_Queen\",\n",
    "    \"Zerg_Defiler\",\n",
    "    \"Zerg_Scourge\",\n",
    "    \"Zerg_Infested_Terran\",\n",
    "    \"Zerg_Cocoon\",\n",
    "    \"Zerg_Devourer\",\n",
    "    \"Zerg_Lurker\",\n",
    "    \"Zerg_Infested_Command_Center\",\n",
    "    \"Zerg_Drone\",\n",
    "    \"Terran_Command_Center\",\n",
    "    \"Terran_Comsat_Station\",\n",
    "    \"Terran_Nuclear_Silo\",\n",
    "    \"Terran_Supply_Depot\",\n",
    "    \"Terran_Refinery\",\n",
    "    \"Terran_Barracks\",\n",
    "    \"Terran_Academy\",\n",
    "    \"Terran_Factory\",\n",
    "    \"Terran_Starport\",\n",
    "    \"Terran_Control_Tower\",\n",
    "    \"Terran_Science_Facility\",\n",
    "    \"Terran_Covert_Ops\",\n",
    "    \"Terran_Physics_Lab\",\n",
    "    \"Terran_Machine_Shop\",\n",
    "    \"Terran_Engineering_Bay\",\n",
    "    \"Terran_Armory\",\n",
    "    \"Terran_Missile_Turret\",\n",
    "    \"Terran_Bunker\",\n",
    "    \"Terran_Marine\",\n",
    "    \"Terran_Ghost\",\n",
    "    \"Terran_Vulture\",\n",
    "    \"Terran_Goliath\",\n",
    "    \"Terran_SCV\",\n",
    "    \"Terran_Wraith\",\n",
    "    \"Terran_Science_Vessel\",\n",
    "    \"Terran_Dropship\",\n",
    "    \"Terran_Battlecruiser\",\n",
    "    \"Terran_Firebat\",\n",
    "    \"Terran_Medic\",\n",
    "    \"Terran_Valkyrie\",\n",
    "    \"Terran_Siege_Tank_Tank_Mode\",\n",
    "    \"\"\n",
    "]"
   ]
  },
  {
   "cell_type": "code",
   "execution_count": 144,
   "metadata": {},
   "outputs": [],
   "source": [
    "ext = 'lua'"
   ]
  },
  {
   "cell_type": "code",
   "execution_count": 167,
   "metadata": {},
   "outputs": [],
   "source": [
    "name = hashlib.md5(b\"Terran_Siege_Tank_Tank_Mode\").hexdigest()"
   ]
  },
  {
   "cell_type": "code",
   "execution_count": 168,
   "metadata": {},
   "outputs": [
    {
     "data": {
      "text/plain": [
       "'d74ea28fc20d466a1980aeed775bd993.lua'"
      ]
     },
     "execution_count": 168,
     "metadata": {},
     "output_type": "execute_result"
    }
   ],
   "source": [
    "'{0}.{1}'.format(name, ext)"
   ]
  },
  {
   "cell_type": "code",
   "execution_count": null,
   "metadata": {},
   "outputs": [],
   "source": []
  },
  {
   "cell_type": "code",
   "execution_count": null,
   "metadata": {},
   "outputs": [],
   "source": []
  },
  {
   "cell_type": "code",
   "execution_count": null,
   "metadata": {},
   "outputs": [],
   "source": []
  }
 ],
 "metadata": {
  "kernelspec": {
   "display_name": "Python 3",
   "language": "python",
   "name": "python3"
  },
  "language_info": {
   "codemirror_mode": {
    "name": "ipython",
    "version": 3
   },
   "file_extension": ".py",
   "mimetype": "text/x-python",
   "name": "python",
   "nbconvert_exporter": "python",
   "pygments_lexer": "ipython3",
   "version": "3.7.3rc1"
  }
 },
 "nbformat": 4,
 "nbformat_minor": 2
}
