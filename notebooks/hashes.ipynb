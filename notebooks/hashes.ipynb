{
 "cells": [
  {
   "cell_type": "code",
   "execution_count": 27,
   "metadata": {},
   "outputs": [],
   "source": [
    "import hashlib\n",
    "import uuid"
   ]
  },
  {
   "cell_type": "code",
   "execution_count": null,
   "metadata": {},
   "outputs": [],
   "source": [
    "'ssh admin@{0}.{1}.{2}.{3} -i web.pem'.format('13','58','200','142')"
   ]
  },
  {
   "cell_type": "code",
   "execution_count": null,
   "metadata": {},
   "outputs": [],
   "source": [
    "'ssh admin@{0}.{1}.{2}.{3} -i data.pem'.format('52','14','102','141')"
   ]
  },
  {
   "cell_type": "code",
   "execution_count": 40,
   "metadata": {},
   "outputs": [
    {
     "data": {
      "text/plain": [
       "{'sha1': '585de966958d829428b4508707bafb4bedf4d017',\n",
       " 'md5': 'a454e2a1a83eb52c490ca588d59c75fe',\n",
       " 'name': b'1:nginx',\n",
       " 'uuid': 'f9a70243-2ced-4242-81f2-7d2d7e9e96c9'}"
      ]
     },
     "execution_count": 40,
     "metadata": {},
     "output_type": "execute_result"
    }
   ],
   "source": [
    "foo = b\"1:nginx\"\n",
    "\n",
    "bar = {'sha1':hashlib.sha1(foo).hexdigest(),\n",
    "    'md5':hashlib.md5(foo).hexdigest(),\n",
    "    'name':foo,\n",
    "    'uuid':str(uuid.uuid4())}\n",
    "\n",
    "bar"
   ]
  },
  {
   "cell_type": "code",
   "execution_count": 41,
   "metadata": {},
   "outputs": [
    {
     "data": {
      "text/plain": [
       "{'sha1': '912aa8aabbb06b681979292666e1264ce992f96d',\n",
       " 'md5': 'd1ef0c58f61643163fb4b360917f8b77',\n",
       " 'name': b'1:kong',\n",
       " 'uuid': '6794b4f9-9963-45c7-bf97-aa50eda2159c'}"
      ]
     },
     "execution_count": 41,
     "metadata": {},
     "output_type": "execute_result"
    }
   ],
   "source": [
    "foo = b\"1:kong\"\n",
    "\n",
    "bar = {'sha1':hashlib.sha1(foo).hexdigest(),\n",
    "    'md5':hashlib.md5(foo).hexdigest(),\n",
    "    'name':foo,\n",
    "    'uuid':str(uuid.uuid4())}\n",
    "\n",
    "bar"
   ]
  },
  {
   "cell_type": "code",
   "execution_count": 42,
   "metadata": {},
   "outputs": [
    {
     "data": {
      "text/plain": [
       "{'sha1': '93da0876e125a4827da0efedcc5a8f082790af82',\n",
       " 'md5': 'c781989982ab87ac6754f1f9253d1b18',\n",
       " 'name': b'1:postgres',\n",
       " 'uuid': '7b20401b-c151-4241-9c02-f8b5557dc81e'}"
      ]
     },
     "execution_count": 42,
     "metadata": {},
     "output_type": "execute_result"
    }
   ],
   "source": [
    "foo = b\"1:postgres\"\n",
    "\n",
    "bar = {'sha1':hashlib.sha1(foo).hexdigest(),\n",
    "    'md5':hashlib.md5(foo).hexdigest(),\n",
    "    'name':foo,\n",
    "    'uuid':str(uuid.uuid4())}\n",
    "\n",
    "bar"
   ]
  },
  {
   "cell_type": "code",
   "execution_count": 43,
   "metadata": {},
   "outputs": [
    {
     "data": {
      "text/plain": [
       "{'sha1': '34976e9b202f6808228f71bcf5df87141cc72b54',\n",
       " 'md5': 'c187ee987bc6091b16a41801b262880f',\n",
       " 'name': b'1:riak',\n",
       " 'uuid': '9ba9d7c8-1d30-497f-a1b9-08763d367986'}"
      ]
     },
     "execution_count": 43,
     "metadata": {},
     "output_type": "execute_result"
    }
   ],
   "source": [
    "foo = b\"1:riak\"\n",
    "\n",
    "bar = {'sha1':hashlib.sha1(foo).hexdigest(),\n",
    "    'md5':hashlib.md5(foo).hexdigest(),\n",
    "    'name':foo,\n",
    "    'uuid':str(uuid.uuid4())}\n",
    "\n",
    "bar"
   ]
  },
  {
   "cell_type": "code",
   "execution_count": 44,
   "metadata": {},
   "outputs": [
    {
     "data": {
      "text/plain": [
       "{'sha1': '35aa46fd9d30de63b670cb1b4c11e57f6a94e25c',\n",
       " 'md5': 'c7f23a692dbc36c2a9aa04945dd24517',\n",
       " 'name': b'2:riak',\n",
       " 'uuid': '057ef919-573c-4fec-9ef9-f81c42bcd15e'}"
      ]
     },
     "execution_count": 44,
     "metadata": {},
     "output_type": "execute_result"
    }
   ],
   "source": [
    "foo = b\"2:riak\"\n",
    "\n",
    "bar = {'sha1':hashlib.sha1(foo).hexdigest(),\n",
    "    'md5':hashlib.md5(foo).hexdigest(),\n",
    "    'name':foo,\n",
    "    'uuid':str(uuid.uuid4())}\n",
    "\n",
    "bar"
   ]
  },
  {
   "cell_type": "code",
   "execution_count": 45,
   "metadata": {},
   "outputs": [
    {
     "data": {
      "text/plain": [
       "{'sha1': 'e34d8a83a8a9ac9623989ecea6c6d968c5180948',\n",
       " 'md5': '91b66113890667e4ef56dffb7482ed04',\n",
       " 'name': b'3:riak',\n",
       " 'uuid': '3392cce4-9aa3-4f53-8a9a-40cb7cec5dd3'}"
      ]
     },
     "execution_count": 45,
     "metadata": {},
     "output_type": "execute_result"
    }
   ],
   "source": [
    "foo = b\"3:riak\"\n",
    "\n",
    "bar = {'sha1':hashlib.sha1(foo).hexdigest(),\n",
    "    'md5':hashlib.md5(foo).hexdigest(),\n",
    "    'name':foo,\n",
    "    'uuid':str(uuid.uuid4())}\n",
    "\n",
    "bar"
   ]
  },
  {
   "cell_type": "code",
   "execution_count": 46,
   "metadata": {},
   "outputs": [
    {
     "data": {
      "text/plain": [
       "{'sha1': '2bfe543e7249d891ee8f32a9b17731f363e65264',\n",
       " 'md5': 'bcf7a032fcc60dbea3d69dc6931f9dd3',\n",
       " 'name': b'1:sloth',\n",
       " 'uuid': '45920e1e-9385-46f7-8cb5-47f587d82533'}"
      ]
     },
     "execution_count": 46,
     "metadata": {},
     "output_type": "execute_result"
    }
   ],
   "source": [
    "foo = b\"1:sloth\"\n",
    "\n",
    "bar = {'sha1':hashlib.sha1(foo).hexdigest(),\n",
    "    'md5':hashlib.md5(foo).hexdigest(),\n",
    "    'name':foo,\n",
    "    'uuid':str(uuid.uuid4())}\n",
    "\n",
    "bar"
   ]
  },
  {
   "cell_type": "code",
   "execution_count": 47,
   "metadata": {},
   "outputs": [
    {
     "data": {
      "text/plain": [
       "{'sha1': '71db3b2ea442ce1d46d0346f12cf74a38c9f90f1',\n",
       " 'md5': '3b97690f23c41c6d7cc7fcb7965b2d20',\n",
       " 'name': b'1:blackboard',\n",
       " 'uuid': 'a738c1eb-80a8-408a-bbd7-6f37852503d2'}"
      ]
     },
     "execution_count": 47,
     "metadata": {},
     "output_type": "execute_result"
    }
   ],
   "source": [
    "foo = b\"1:blackboard\"\n",
    "\n",
    "bar = {'sha1':hashlib.sha1(foo).hexdigest(),\n",
    "    'md5':hashlib.md5(foo).hexdigest(),\n",
    "    'name':foo,\n",
    "    'uuid':str(uuid.uuid4())}\n",
    "\n",
    "bar"
   ]
  },
  {
   "cell_type": "code",
   "execution_count": 48,
   "metadata": {},
   "outputs": [
    {
     "data": {
      "text/plain": [
       "{'sha1': 'd8ea9e910702c189f2cc1377fa70674e5f11974c',\n",
       " 'md5': '08487ef118db8d7fdad2d163660798f1',\n",
       " 'name': b'1:mango',\n",
       " 'uuid': '02dc4562-9371-4376-982d-dad8607eecdb'}"
      ]
     },
     "execution_count": 48,
     "metadata": {},
     "output_type": "execute_result"
    }
   ],
   "source": [
    "foo = b\"1:mango\"\n",
    "\n",
    "bar = {'sha1':hashlib.sha1(foo).hexdigest(),\n",
    "    'md5':hashlib.md5(foo).hexdigest(),\n",
    "    'name':foo,\n",
    "    'uuid':str(uuid.uuid4())}\n",
    "\n",
    "bar"
   ]
  },
  {
   "cell_type": "code",
   "execution_count": 49,
   "metadata": {},
   "outputs": [
    {
     "data": {
      "text/plain": [
       "{'sha1': 'c699d7f6df0e004e0265f5ea19e23197fd9cc3bb',\n",
       " 'md5': '472c97ca6363865f6728c47a4f171777',\n",
       " 'name': b'2:mango',\n",
       " 'uuid': 'e36849de-ef65-44dd-b6d7-687fee672e03'}"
      ]
     },
     "execution_count": 49,
     "metadata": {},
     "output_type": "execute_result"
    }
   ],
   "source": [
    "foo = b\"2:mango\"\n",
    "\n",
    "bar = {'sha1':hashlib.sha1(foo).hexdigest(),\n",
    "    'md5':hashlib.md5(foo).hexdigest(),\n",
    "    'name':foo,\n",
    "    'uuid':str(uuid.uuid4())}\n",
    "\n",
    "bar"
   ]
  },
  {
   "cell_type": "code",
   "execution_count": 50,
   "metadata": {},
   "outputs": [
    {
     "data": {
      "text/plain": [
       "{'sha1': '7f57415ec2e917692cb1fb4261d35cb440f3e084',\n",
       " 'md5': 'ac612d41314e9ddc52ca1513e964a4da',\n",
       " 'name': b'3:mango',\n",
       " 'uuid': 'c3307bb0-86b9-44d6-9775-31dbb940c9e4'}"
      ]
     },
     "execution_count": 50,
     "metadata": {},
     "output_type": "execute_result"
    }
   ],
   "source": [
    "foo = b\"3:mango\"\n",
    "\n",
    "bar = {'sha1':hashlib.sha1(foo).hexdigest(),\n",
    "    'md5':hashlib.md5(foo).hexdigest(),\n",
    "    'name':foo,\n",
    "    'uuid':str(uuid.uuid4())}\n",
    "\n",
    "bar"
   ]
  },
  {
   "cell_type": "code",
   "execution_count": 56,
   "metadata": {},
   "outputs": [],
   "source": [
    "units = [\n",
    "    b\"Zerg_Hatchery\", \n",
    "    b\"Zerg_Lair\", \n",
    "    b\"Zerg_Hive\", \n",
    "    b\"Zerg_Nydus_Canal\", \n",
    "    b\"Zerg_Hydralisk_Den\",\n",
    "    b\"Zerg_Defiler_Mound\",\n",
    "    b\"Zerg_Greater_Spire\",\n",
    "    b\"Zerg_Queens_Nest\",\n",
    "    b\"Zerg_Evolution_Chamber\",\n",
    "    b\"Zerg_Ultralisk_Cavern\",\n",
    "    b\"Zerg_Spire\",\n",
    "    b\"Zerg_Spawning_Pool\",\n",
    "    b\"Zerg_Creep_Colony\",\n",
    "    b\"Zerg_Spore_Colony\",\n",
    "    b\"Zerg_Sunken_Colony\",\n",
    "    b\"Zerg_Extractor\",\n",
    "    b\"Zerg_Larva\",\n",
    "    b\"Zerg_Egg\",\n",
    "    b\"Zerg_Zergling\",\n",
    "    b\"Zerg_Hydralisk\",\n",
    "    b\"Zerg_Ultralisk\",\n",
    "    b\"Zerg_Broodling\",\n",
    "    b\"Zerg_Drone\",\n",
    "    b\"Zerg_Overlord\",\n",
    "    b\"Zerg_Mutalisk\",\n",
    "    b\"Zerg_Guardian\",\n",
    "    b\"Zerg_Queen\",\n",
    "    b\"Zerg_Defiler\",\n",
    "    b\"Zerg_Scourge\",\n",
    "    b\"Zerg_Infested_Terran\",\n",
    "    b\"Zerg_Cocoon\",\n",
    "    b\"Zerg_Devourer\",\n",
    "    b\"Zerg_Lurker\",\n",
    "    b\"Zerg_Infested_Command_Center\",\n",
    "    b\"Zerg_Drone\",\n",
    "    b\"Terran_Command_Center\",\n",
    "    b\"Terran_Comsat_Station\",\n",
    "    b\"Terran_Nuclear_Silo\",\n",
    "    b\"Terran_Supply_Depot\",\n",
    "    b\"Terran_Refinery\",\n",
    "    b\"Terran_Barracks\",\n",
    "    b\"Terran_Academy\",\n",
    "    b\"Terran_Factory\",\n",
    "    b\"Terran_Starport\",\n",
    "    b\"Terran_Control_Tower\",\n",
    "    b\"Terran_Science_Facility\",\n",
    "    b\"Terran_Covert_Ops\",\n",
    "    b\"Terran_Physics_Lab\",\n",
    "    b\"Terran_Machine_Shop\",\n",
    "    b\"Terran_Engineering_Bay\",\n",
    "    b\"Terran_Armory\",\n",
    "    b\"Terran_Missile_Turret\",\n",
    "    b\"Terran_Bunker\",\n",
    "    b\"Terran_Marine\",\n",
    "    b\"Terran_Ghost\",\n",
    "    b\"Terran_Vulture\",\n",
    "    b\"Terran_Goliath\",\n",
    "    b\"Terran_SCV\",\n",
    "    b\"Terran_Wraith\",\n",
    "    b\"Terran_Science_Vessel\",\n",
    "    b\"Terran_Dropship\",\n",
    "    b\"Terran_Battlecruiser\",\n",
    "    b\"Terran_Firebat\",\n",
    "    b\"Terran_Medic\",\n",
    "    b\"Terran_Valkyrie\",\n",
    "    b\"Terran_Siege_Tank_Tank_Mode\",\n",
    "    b\"\"\n",
    "]"
   ]
  },
  {
   "cell_type": "code",
   "execution_count": 61,
   "metadata": {},
   "outputs": [
    {
     "name": "stdout",
     "output_type": "stream",
     "text": [
      "37cd9f9a02fd1e538b867b582023dcf4.lua\n",
      "abd7f02418f84efc7cf304f02f245edd.lua\n",
      "17767e546c8208e55b91531715d0c6fe.lua\n",
      "107e2d6a116293487d3b7c523df36f24.lua\n",
      "e260c72c3547a7f1f302b70835bc60ad.lua\n",
      "35e26b8e4024720b4315650eae0c5056.lua\n",
      "e3289632f5dde06931179d469695e11e.lua\n",
      "2c598244d8437973138a7fc9c13308ce.lua\n",
      "daeef588da2c97c097504a72736bb9a6.lua\n",
      "4fd73b5c775e8ad7682aea853d8c1fdd.lua\n",
      "13fee03740c963e9fd99857346a0b886.lua\n",
      "784a5f767aaa9e34251e58974c189aad.lua\n",
      "f4cb17f2e6a99c54831367b120678d42.lua\n",
      "86fbfa53e969854ae7df2f47fee68200.lua\n",
      "3b0bbd8d99d92ed69a56fab6cffa91c7.lua\n",
      "7692a6e24010266a3e34ed0415533c8a.lua\n",
      "2675712dfbab5ec154eb6a1c3da3f51b.lua\n",
      "db20647a17898dd022b875b5d54fce71.lua\n",
      "a83944a7467537757e52c178dda339f0.lua\n",
      "7fe177a97f36a3c91ae9185ec8dad2f7.lua\n",
      "df313b97251ec8a50dffc238a31d7e11.lua\n",
      "7cae102705e51c2bc9d0b886af6c2f75.lua\n",
      "3244f190e0b0fc28baa2ce60c615512a.lua\n",
      "7205d1cfd51ca54cb033183a12f92573.lua\n",
      "9f5a75ad491437bfa1b342459d9a3806.lua\n",
      "f86b891aa2c83011b9114485efabedb1.lua\n",
      "6531923c8f81b03535d041faa14c867c.lua\n",
      "974ccf03c2cebaedb160c8c976ccd196.lua\n",
      "46f722e1424442a185f160914566554c.lua\n",
      "9bf7612bf00a468154bd19e6809d651a.lua\n",
      "5b43f1dde684d2bbc2b71e1a2b6ff681.lua\n",
      "529122331581c82c34d8284ac07c1636.lua\n",
      "802e25f664bbb92a6a41ae29be25abe9.lua\n",
      "614ad2f3fa28d442e373cab552428fbc.lua\n",
      "3244f190e0b0fc28baa2ce60c615512a.lua\n",
      "8b295ee9723a1dddf20a5a7007159657.lua\n",
      "7f1c6b0d7ecb14bb8bb7c65aa2a8271e.lua\n",
      "6b72d16ff7549f26f488feb0c65dd941.lua\n",
      "d3efc4b5b22433b5dc80161e9f9c4b03.lua\n",
      "6a4372a0fa1ad79016f52237033d85a7.lua\n",
      "f2ab423108511814ba46716e0a0d03a9.lua\n",
      "82edcde3377b1650d94033fc092042fd.lua\n",
      "9ab6e4ab2ac4125c0f7f420785cb6328.lua\n",
      "33f5692e0cc647b1a650e1611aba9aa8.lua\n",
      "487583895370c3673019af31ec87e559.lua\n",
      "e102182e51f9f096e5d523bc3b4bd3d7.lua\n",
      "ce0fbb331135a40440a45711883c90ee.lua\n",
      "d56716b45d4d9652794081ab13aba90d.lua\n",
      "8b64b9952e671df87bcc0004313e0038.lua\n",
      "11f815dc234f81714d8a79cc6fa9d8b8.lua\n",
      "a8dc7e1b45955da238d449cf1fb6f908.lua\n",
      "81e01618dc57a40feb18a0bec4442356.lua\n",
      "ae11bb1284eb7dd270cc8bc59536f1e4.lua\n",
      "c69cb36c140382baa87cdebc1ad48a92.lua\n",
      "e082663682cbdcb36785e86146a1d0d8.lua\n",
      "8d485e68a53a1cebd92fc735b9f99143.lua\n",
      "5278031c7aee5b20d29fe8bfdc782b47.lua\n",
      "4c7b0e52c852ab73dc8e51ba4690b4d3.lua\n",
      "c96cc0056627dce254d2abf7793c1c92.lua\n",
      "67b9390dff0e53fcf8011ffa285c0431.lua\n",
      "99515e49d4124d9c60cb0b15ed025386.lua\n",
      "10bc4b65d446b586b37ccec60fb87454.lua\n",
      "0b1568dd0ce151a9733e318f376d21e9.lua\n",
      "ae577880c8d171515d6f8f354718017e.lua\n",
      "4974fe23fed6df1bbf2deb5fba935b6f.lua\n",
      "d74ea28fc20d466a1980aeed775bd993.lua\n",
      "d41d8cd98f00b204e9800998ecf8427e.lua\n"
     ]
    }
   ],
   "source": [
    "for unit in units:\n",
    "    ext = 'lua'\n",
    "    name = hashlib.md5(unit).hexdigest()\n",
    "    print('{0}.{1}'.format(name, ext))"
   ]
  }
 ],
 "metadata": {
  "kernelspec": {
   "display_name": "Python 3",
   "language": "python",
   "name": "python3"
  },
  "language_info": {
   "codemirror_mode": {
    "name": "ipython",
    "version": 3
   },
   "file_extension": ".py",
   "mimetype": "text/x-python",
   "name": "python",
   "nbconvert_exporter": "python",
   "pygments_lexer": "ipython3",
   "version": "3.7.3rc1"
  }
 },
 "nbformat": 4,
 "nbformat_minor": 2
}
