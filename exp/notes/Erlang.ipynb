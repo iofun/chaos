{
 "cells": [
  {
   "cell_type": "code",
   "execution_count": 1,
   "metadata": {},
   "outputs": [
    {
     "name": "stdout",
     "output_type": "stream",
     "text": [
      "Hello Tony!"
     ]
    },
    {
     "data": {
      "text/plain": [
       "ok\n"
      ]
     },
     "execution_count": 1,
     "metadata": {},
     "output_type": "execute_result"
    }
   ],
   "source": [
    "io:fwrite(\"Hello Tony!\", [])."
   ]
  },
  {
   "cell_type": "code",
   "execution_count": 1,
   "metadata": {},
   "outputs": [
    {
     "name": "stdout",
     "output_type": "stream",
     "text": [
      "[global_name_server,'{jupyter,ierlang,shell}',file_server_2,inet_gethost_native,inet_db,'{jupyter,ierlang,control}',gproc,logger_std_h_default,global_group,kernel_safe_sup,gproc_sup,chumak_sup,'{jupyter,ierlang,iopub}',gproc_pool,gproc_monitor,kernel_refc,'{jupyter,ierlang,kernel_sup}',erts_code_purger,user,init,gproc_bcast,logger_sup,erl_signal_server,'{jupyter,ierlang,backend}',logger_proxy,standard_error,inet_gethost_native_sup,logger_handler_watcher,'{jupyter,ierlang,io}','{jupyter,ierlang,heartbeat}',erl_prim_loader,logger,standard_error_sup,code_server,rex,'{jupyter,ierlang,stdin}',application_controller,kernel_sup]"
     ]
    },
    {
     "data": {
      "text/plain": [
       "ok\n"
      ]
     },
     "execution_count": 1,
     "metadata": {},
     "output_type": "execute_result"
    }
   ],
   "source": [
    "io:write(registered())."
   ]
  },
  {
   "cell_type": "code",
   "execution_count": 3,
   "metadata": {},
   "outputs": [
    {
     "data": {
      "text/plain": [
       "#Ref<0.152376997.1919287298.47220>\n"
      ]
     },
     "execution_count": 3,
     "metadata": {},
     "output_type": "execute_result"
    }
   ],
   "source": [
    "E = ets:new(t, [])."
   ]
  },
  {
   "cell_type": "code",
   "execution_count": 5,
   "metadata": {},
   "outputs": [
    {
     "data": {
      "text/plain": [
       "true\n"
      ]
     },
     "execution_count": 5,
     "metadata": {},
     "output_type": "execute_result"
    }
   ],
   "source": [
    "ets:insert(E, {d,1,2})."
   ]
  },
  {
   "cell_type": "code",
   "execution_count": 3,
   "metadata": {},
   "outputs": [
    {
     "data": {
      "text/plain": [
       "ok\n"
      ]
     },
     "execution_count": 3,
     "metadata": {},
     "output_type": "execute_result"
    }
   ],
   "source": [
    "logger:notice(\"Something strange happened!\")."
   ]
  }
 ],
 "metadata": {
  "kernelspec": {
   "display_name": "erlang (erlang)",
   "language": "erlang",
   "name": "erlang"
  },
  "language_info": {
   "file_extension": ".erl",
   "name": "erlang",
   "version": "22.1.7"
  }
 },
 "nbformat": 4,
 "nbformat_minor": 2
}
